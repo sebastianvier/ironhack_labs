{
 "cells": [
  {
   "cell_type": "code",
   "execution_count": 1,
   "id": "d8b37778",
   "metadata": {},
   "outputs": [],
   "source": [
    "import pandas as pd\n",
    "import numpy as np\n",
    "import matplotlib.pyplot as plt\n",
    "import seaborn as sns\n",
    "%matplotlib inline\n",
    "from sklearn.preprocessing import OneHotEncoder, StandardScaler\n",
    "from sklearn.linear_model import LinearRegression\n",
    "from sklearn.model_selection import train_test_split\n",
    "from sklearn import metrics\n",
    "import warnings\n",
    "warnings.filterwarnings(\"ignore\")\n",
    "data = pd.read_csv(\"../../data_files/csv_files/marketing_customer_analysis.csv\")\n",
    "data.columns = [i.lower().replace(\" \",\"_\") for i in data.columns]\n",
    "y_data = data.total_claim_amount\n",
    "X_data = data.drop([\"total_claim_amount\", \"customer\"], axis=1)"
   ]
  },
  {
   "cell_type": "markdown",
   "id": "ee13b141",
   "metadata": {},
   "source": [
    "### Base Model : Only considering monthly_premium_auto"
   ]
  },
  {
   "cell_type": "code",
   "execution_count": 2,
   "id": "28451904",
   "metadata": {},
   "outputs": [],
   "source": [
    "X_data = X_data[['customer_lifetime_value', 'income', 'monthly_premium_auto', \n",
    "       'coverage', 'education', 'employmentstatus', 'location_code',\n",
    "       'marital_status', 'vehicle_class']]\n",
    "X_categorical = X_data.select_dtypes(exclude=np.number)"
   ]
  },
  {
   "cell_type": "code",
   "execution_count": 3,
   "id": "327ac762",
   "metadata": {},
   "outputs": [],
   "source": [
    "y = y_data\n",
    "X = X_data[[\"monthly_premium_auto\"]]\n",
    "X = scaler = StandardScaler().fit_transform(X, y)\n",
    "X_train, X_test, y_train, y_test = train_test_split(X, y, test_size=0.25, random_state=42)"
   ]
  },
  {
   "cell_type": "code",
   "execution_count": 4,
   "id": "8b160c7b",
   "metadata": {},
   "outputs": [],
   "source": [
    "lm = LinearRegression().fit(X=X_train,y=y_train)\n",
    "prediction = lm.predict(X_test)\n",
    "\n",
    "mse = metrics.mean_squared_error(y_test, prediction)\n",
    "rmse = np.sqrt(mse)\n",
    "error_percentage = rmse / y_test.mean()\n",
    "r2 = metrics.r2_score(y_test,prediction)"
   ]
  },
  {
   "cell_type": "code",
   "execution_count": 5,
   "id": "01be389f",
   "metadata": {},
   "outputs": [
    {
     "name": "stdout",
     "output_type": "stream",
     "text": [
      "Base model rmse: 223.17213469912434\n",
      "Error percentage: 0.5214128846017893\n",
      "Base model r2 score: 0.38427731771068707\n"
     ]
    }
   ],
   "source": [
    "print(f'Base model rmse: {rmse}')\n",
    "print(f'Error percentage: {error_percentage}')\n",
    "print(f'Base model r2 score: {r2}')"
   ]
  },
  {
   "cell_type": "markdown",
   "id": "7578971c",
   "metadata": {},
   "source": [
    "### Model 2 : All numerical columns"
   ]
  },
  {
   "cell_type": "code",
   "execution_count": 6,
   "id": "23b79412",
   "metadata": {},
   "outputs": [],
   "source": [
    "def transformation(col):\n",
    "    return np.log(col +1)"
   ]
  },
  {
   "cell_type": "code",
   "execution_count": 7,
   "id": "35c7002c",
   "metadata": {},
   "outputs": [],
   "source": [
    "y_data = data.total_claim_amount\n",
    "X_data = data.drop([\"total_claim_amount\", \"customer\"], axis=1)\n",
    "X_data = X_data.select_dtypes(include=np.number)\n",
    "X_data[\"customer_lifetime_value\"] = X_data.customer_lifetime_value.map(transformation)"
   ]
  },
  {
   "cell_type": "code",
   "execution_count": 8,
   "id": "c9f4f07a",
   "metadata": {},
   "outputs": [],
   "source": [
    "y = y_data\n",
    "X = X_data\n",
    "#X = scaler = StandardScaler().fit_transform(X, y)\n",
    "X_train, X_test, y_train, y_test = train_test_split(X, y, test_size=0.25, random_state=42)"
   ]
  },
  {
   "cell_type": "code",
   "execution_count": 9,
   "id": "666f947c",
   "metadata": {
    "scrolled": true
   },
   "outputs": [
    {
     "name": "stdout",
     "output_type": "stream",
     "text": [
      "Base model rmse: 199.36770609505658\n",
      "Error percentage: 0.4657969099574735\n",
      "Base model r2 score: 0.5086229809228611\n"
     ]
    }
   ],
   "source": [
    "lm = LinearRegression().fit(X=X_train,y=y_train)\n",
    "prediction = lm.predict(X_test)\n",
    "\n",
    "mse = metrics.mean_squared_error(y_test, prediction)\n",
    "rmse = np.sqrt(mse)\n",
    "error_percentage = rmse / y_test.mean()\n",
    "r2 = metrics.r2_score(y_test,prediction)\n",
    "\n",
    "print(f'Base model rmse: {rmse}')\n",
    "print(f'Error percentage: {error_percentage}')\n",
    "print(f'Base model r2 score: {r2}')"
   ]
  },
  {
   "cell_type": "markdown",
   "id": "8dbe0d69",
   "metadata": {},
   "source": [
    "### Model 3 : Only numerical columns with some correlation"
   ]
  },
  {
   "cell_type": "code",
   "execution_count": 10,
   "id": "1e9bce61",
   "metadata": {},
   "outputs": [],
   "source": [
    "def transformation(col):\n",
    "    return np.log(col +1)\n",
    "X_data[\"customer_lifetime_value\"] = X_data.customer_lifetime_value.map(transformation)"
   ]
  },
  {
   "cell_type": "code",
   "execution_count": 11,
   "id": "4167c82e",
   "metadata": {},
   "outputs": [],
   "source": [
    "y = y_data\n",
    "X = X_data.select_dtypes(include=np.number)\n",
    "X = scaler = StandardScaler().fit_transform(X, y)\n",
    "X_train, X_test, y_train, y_test = train_test_split(X, y, test_size=0.25, random_state=42)"
   ]
  },
  {
   "cell_type": "code",
   "execution_count": 12,
   "id": "aef0bd68",
   "metadata": {},
   "outputs": [],
   "source": [
    "## Fit and test the model\n",
    "\n",
    "lm = LinearRegression().fit(X=X_train,y=y_train)\n",
    "prediction = lm.predict(X_test)\n",
    "\n",
    "mse = metrics.mean_squared_error(y_test, prediction)\n",
    "rmse = np.sqrt(mse)\n",
    "error_percentage = rmse / y_test.mean()\n",
    "r2 = metrics.r2_score(y_test,prediction)"
   ]
  },
  {
   "cell_type": "code",
   "execution_count": 13,
   "id": "69518a04",
   "metadata": {},
   "outputs": [
    {
     "name": "stdout",
     "output_type": "stream",
     "text": [
      "Rmse: 199.3647455523\n",
      "Error percentage: 0.465789993\n",
      "Base model r2 score: 0.5086375744\n"
     ]
    }
   ],
   "source": [
    "print(f'Rmse: {np.round(rmse,10)}')\n",
    "print(f'Error percentage: {np.round(error_percentage,10)}')\n",
    "print(f'Base model r2 score: {np.round(r2,10)}')"
   ]
  },
  {
   "cell_type": "markdown",
   "id": "6a940bcf",
   "metadata": {},
   "source": [
    "### Model 4 : Dropping outliers in monthly_premium_auto"
   ]
  },
  {
   "cell_type": "code",
   "execution_count": 14,
   "id": "3b8c3b0e",
   "metadata": {},
   "outputs": [],
   "source": [
    "def get_outliers_indices(column_name, data = data):\n",
    "    q1 = np.percentile(data[column_name], 25)\n",
    "    q3 = np.percentile(data[column_name], 75) \n",
    "    iqr = q3-q1\n",
    "    condition_1 = data[column_name] > q1 - 1.5* iqr\n",
    "    condition_2 = data[column_name] < (q3 + 1.5 * iqr)\n",
    "    \n",
    "    ## You need to negate the interception of both conditions\n",
    "    return (data[column_name][~(condition_1 & condition_2)].index)"
   ]
  },
  {
   "cell_type": "code",
   "execution_count": 15,
   "id": "b47094fb",
   "metadata": {},
   "outputs": [],
   "source": [
    "y_data = data.total_claim_amount\n",
    "X_data = data.drop([\"total_claim_amount\", \"customer\"], axis=1)\n",
    "X_data = X_data.select_dtypes(include=np.number)\n",
    "X_data[\"customer_lifetime_value\"] = X_data.customer_lifetime_value.map(transformation)\n",
    "droping_indices = get_outliers_indices(\"monthly_premium_auto\")"
   ]
  },
  {
   "cell_type": "code",
   "execution_count": 16,
   "id": "71767a33",
   "metadata": {},
   "outputs": [],
   "source": [
    "y = y_data\n",
    "X = X_data.select_dtypes(include=np.number)\n",
    "X_train, X_test, y_train, y_test = train_test_split(X, y, test_size=0.25, random_state=42)\n",
    "\n",
    "## I only wanted to drop in the training data so the testing data is not compromised\n",
    "X_train = X_train.drop(droping_indices, errors='ignore')\n",
    "y_train = y_train.drop(droping_indices, errors='ignore')\n",
    "\n",
    "## It is easier to scale after the droping, because the drop is made within the pandas library\n",
    "X_train = scaler = StandardScaler().fit_transform(X_train, y_train)\n",
    "X_test = scaler = StandardScaler().fit_transform(X_test, y_test)"
   ]
  },
  {
   "cell_type": "code",
   "execution_count": 17,
   "id": "b2e0eb72",
   "metadata": {},
   "outputs": [],
   "source": [
    "## Fit and test the model\n",
    "\n",
    "lm = LinearRegression().fit(X=X_train,y=y_train)\n",
    "prediction = lm.predict(X_test)\n",
    "\n",
    "mse = metrics.mean_squared_error(y_test, prediction)\n",
    "rmse = np.sqrt(mse)\n",
    "error_percentage = rmse / y_test.mean()\n",
    "r2 = metrics.r2_score(y_test,prediction)"
   ]
  },
  {
   "cell_type": "code",
   "execution_count": 18,
   "id": "3e24f6a4",
   "metadata": {},
   "outputs": [
    {
     "name": "stdout",
     "output_type": "stream",
     "text": [
      "Rmse: 210.5927019346\n",
      "Error percentage: 0.49202\n",
      "R2 score: 0.45173\n"
     ]
    }
   ],
   "source": [
    "print(f'Rmse: {np.round(rmse,10)}')\n",
    "print(f'Error percentage: {np.round(error_percentage,5)}')\n",
    "print(f'R2 score: {np.round(r2,5)}')"
   ]
  },
  {
   "cell_type": "markdown",
   "id": "dbd15328",
   "metadata": {},
   "source": [
    "### Model 5 :  Droping from the target column"
   ]
  },
  {
   "cell_type": "code",
   "execution_count": 19,
   "id": "d258f885",
   "metadata": {},
   "outputs": [],
   "source": [
    "y_data = data.total_claim_amount\n",
    "X_data = data.drop([\"total_claim_amount\", \"customer\"], axis=1)\n",
    "X_data = X_data.select_dtypes(include=np.number)\n",
    "X_data[\"customer_lifetime_value\"] = X_data.customer_lifetime_value.map(transformation)\n",
    "droping_indices = get_outliers_indices(\"total_claim_amount\")"
   ]
  },
  {
   "cell_type": "code",
   "execution_count": 20,
   "id": "d847c513",
   "metadata": {},
   "outputs": [],
   "source": [
    "y = y_data\n",
    "X = X_data.select_dtypes(include=np.number)\n",
    "X_train, X_test, y_train, y_test = train_test_split(X, y, test_size=0.25, random_state=42)\n",
    "\n",
    "## I only wanted to drop in the training data so the testing data is not compromised\n",
    "X_train = X_train.drop(droping_indices, errors='ignore')\n",
    "y_train = y_train.drop(droping_indices, errors='ignore')\n",
    "\n",
    "## It is easier to scale after the droping, because the drop is made within the pandas library\n",
    "X_train = scaler = StandardScaler().fit_transform(X_train, y_train)\n",
    "X_test = scaler = StandardScaler().fit_transform(X_test, y_test)"
   ]
  },
  {
   "cell_type": "code",
   "execution_count": 21,
   "id": "ccc094a3",
   "metadata": {},
   "outputs": [],
   "source": [
    "## Fit and test the model\n",
    "\n",
    "lm = LinearRegression().fit(X=X_train,y=y_train)\n",
    "prediction = lm.predict(X_test)\n",
    "\n",
    "mse = metrics.mean_squared_error(y_test, prediction)\n",
    "rmse = np.sqrt(mse)\n",
    "error_percentage = rmse / y_test.mean()\n",
    "r2 = metrics.r2_score(y_test,prediction)"
   ]
  },
  {
   "cell_type": "code",
   "execution_count": 22,
   "id": "f80a7831",
   "metadata": {},
   "outputs": [
    {
     "name": "stdout",
     "output_type": "stream",
     "text": [
      "Rmse: 218.17\n",
      "Error percentage: 0.5097\n",
      "R2 score: 0.4116\n"
     ]
    }
   ],
   "source": [
    "print(f'Rmse: {np.round(rmse,2)}')\n",
    "print(f'Error percentage: {np.round(error_percentage,4)}')\n",
    "print(f'R2 score: {np.round(r2,4)}')"
   ]
  },
  {
   "cell_type": "markdown",
   "id": "3b2a494a",
   "metadata": {},
   "source": [
    "### Model 6 : Adding the categorical values"
   ]
  },
  {
   "cell_type": "code",
   "execution_count": 23,
   "id": "f367b3c8",
   "metadata": {},
   "outputs": [],
   "source": [
    "X_categorical.head()\n",
    "encoder = OneHotEncoder(drop=\"first\").fit(X_categorical)\n",
    "encoded = encoder.transform(X_categorical)"
   ]
  },
  {
   "cell_type": "code",
   "execution_count": 24,
   "id": "ff6c6c94",
   "metadata": {},
   "outputs": [],
   "source": [
    "y = y_data\n",
    "X = X_data.select_dtypes(include=np.number)\n",
    "X = pd.concat([X, pd.DataFrame(encoded.todense())], axis=1)\n",
    "X = scaler = StandardScaler().fit_transform(X, y)\n",
    "X_train, X_test, y_train, y_test = train_test_split(X, y, test_size=0.25, random_state=42)"
   ]
  },
  {
   "cell_type": "code",
   "execution_count": 25,
   "id": "74835727",
   "metadata": {},
   "outputs": [],
   "source": [
    "lm = LinearRegression().fit(X=X_train,y=y_train)\n",
    "prediction = lm.predict(X_test)\n",
    "\n",
    "mse = metrics.mean_squared_error(y_test, prediction)\n",
    "rmse = np.sqrt(mse)\n",
    "error_percentage = rmse / y_test.mean()\n",
    "r2 = metrics.r2_score(y_test,prediction)"
   ]
  },
  {
   "cell_type": "code",
   "execution_count": 26,
   "id": "7e3e2109",
   "metadata": {},
   "outputs": [
    {
     "name": "stdout",
     "output_type": "stream",
     "text": [
      "Base model rmse: 138.34262758309882\n",
      "Error percentage: 0.32321969142224477\n",
      "Base model r2 score: 0.7633986285465483\n"
     ]
    }
   ],
   "source": [
    "print(f'Base model rmse: {rmse}')\n",
    "print(f'Error percentage: {error_percentage}')\n",
    "print(f'Base model r2 score: {r2}')"
   ]
  },
  {
   "cell_type": "markdown",
   "id": "0abf7a79",
   "metadata": {},
   "source": [
    "### Model 7 : Drop categorical with some collinearity"
   ]
  },
  {
   "cell_type": "code",
   "execution_count": 27,
   "id": "a84a2d84",
   "metadata": {},
   "outputs": [
    {
     "name": "stdout",
     "output_type": "stream",
     "text": [
      "Base model rmse: 138.3609055245826\n",
      "Error percentage: 0.3232623954731178\n",
      "Base model r2 score: 0.7633361044817406\n"
     ]
    }
   ],
   "source": [
    "encoder = OneHotEncoder(drop=\"first\").fit(X_categorical)\n",
    "encoded = encoder.transform(X_categorical)\n",
    "\n",
    "y = y_data\n",
    "X = X_data.select_dtypes(include=np.number)\n",
    "X = pd.concat([X, pd.DataFrame(encoded.todense()).drop([6,12],axis=1)], axis=1)\n",
    "X = scaler = StandardScaler().fit_transform(X, y)\n",
    "X_train, X_test, y_train, y_test = train_test_split(X, y, test_size=0.25, random_state=42)\n",
    "\n",
    "lm = LinearRegression().fit(X=X_train,y=y_train)\n",
    "prediction = lm.predict(X_test)\n",
    "\n",
    "mse = metrics.mean_squared_error(y_test, prediction)\n",
    "rmse = np.sqrt(mse)\n",
    "error_percentage = rmse / y_test.mean()\n",
    "r2 = metrics.r2_score(y_test,prediction)\n",
    "\n",
    "print(f'Base model rmse: {rmse}')\n",
    "print(f'Error percentage: {error_percentage}')\n",
    "print(f'Base model r2 score: {r2}')"
   ]
  },
  {
   "cell_type": "markdown",
   "id": "b3c720c4",
   "metadata": {},
   "source": [
    "### Model 8 : Change test_size to 40"
   ]
  },
  {
   "cell_type": "code",
   "execution_count": 28,
   "id": "5f1dc00d",
   "metadata": {},
   "outputs": [
    {
     "name": "stdout",
     "output_type": "stream",
     "text": [
      "Model rmse: 137.85119864129055\n",
      "Error percentage: 0.31999711360883104\n",
      "Base model r2 score: 0.7666184937340421\n"
     ]
    }
   ],
   "source": [
    "encoder = OneHotEncoder(drop=\"first\").fit(X_categorical)\n",
    "encoded = encoder.transform(X_categorical)\n",
    "X_categorical.head()\n",
    "encoder = OneHotEncoder(drop=\"first\").fit(X_categorical)\n",
    "encoded = encoder.transform(X_categorical)\n",
    "pd.DataFrame(encoded.todense())\n",
    "\n",
    "y = y_data\n",
    "X = X_data.select_dtypes(include=np.number)\n",
    "X = pd.concat([X, pd.DataFrame(encoded.todense())], axis=1)\n",
    "X = scaler = StandardScaler().fit_transform(X, y)\n",
    "X_train, X_test, y_train, y_test = train_test_split(X, y, test_size=0.40, random_state=42)\n",
    "lm = LinearRegression().fit(X=X_train,y=y_train)\n",
    "prediction = lm.predict(X_test)\n",
    "\n",
    "mse = metrics.mean_squared_error(y_test, prediction)\n",
    "rmse = np.sqrt(mse)\n",
    "error_percentage = rmse / y_test.mean()\n",
    "r2 = metrics.r2_score(y_test,prediction)\n",
    "\n",
    "print(f'Model rmse: {rmse}')\n",
    "print(f'Error percentage: {error_percentage}')\n",
    "print(f'Base model r2 score: {r2}')"
   ]
  },
  {
   "cell_type": "markdown",
   "id": "5ad7267e",
   "metadata": {},
   "source": [
    "### Model 9 : Change test_size to 58"
   ]
  },
  {
   "cell_type": "code",
   "execution_count": 29,
   "id": "48a1fcff",
   "metadata": {},
   "outputs": [
    {
     "name": "stdout",
     "output_type": "stream",
     "text": [
      "Model rmse: 138.2932152388424\n",
      "Error percentage: 0.3208512536707973\n",
      "Base model r2 score: 0.7705486910243695\n"
     ]
    }
   ],
   "source": [
    "X_categorical.head()\n",
    "encoder = OneHotEncoder(drop=\"first\").fit(X_categorical)\n",
    "encoded = encoder.transform(X_categorical)\n",
    "X_categorical.head()\n",
    "encoder = OneHotEncoder(drop=\"first\").fit(X_categorical)\n",
    "encoded = encoder.transform(X_categorical)\n",
    "pd.DataFrame(encoded.todense())\n",
    "\n",
    "y = y_data\n",
    "X = X_data.select_dtypes(include=np.number)\n",
    "X = pd.concat([X, pd.DataFrame(encoded.todense())], axis=1)\n",
    "X = scaler = StandardScaler().fit_transform(X, y)\n",
    "X_train, X_test, y_train, y_test = train_test_split(X, y, test_size=0.58, random_state=42)\n",
    "lm = LinearRegression().fit(X=X_train,y=y_train)\n",
    "prediction = lm.predict(X_test)\n",
    "\n",
    "mse = metrics.mean_squared_error(y_test, prediction)\n",
    "rmse = np.sqrt(mse)\n",
    "error_percentage = rmse / y_test.mean()\n",
    "r2 = metrics.r2_score(y_test,prediction)\n",
    "\n",
    "print(f'Model rmse: {rmse}')\n",
    "print(f'Error percentage: {error_percentage}')\n",
    "print(f'Base model r2 score: {r2}')"
   ]
  }
 ],
 "metadata": {
  "kernelspec": {
   "display_name": "Python 3",
   "language": "python",
   "name": "python3"
  },
  "language_info": {
   "codemirror_mode": {
    "name": "ipython",
    "version": 3
   },
   "file_extension": ".py",
   "mimetype": "text/x-python",
   "name": "python",
   "nbconvert_exporter": "python",
   "pygments_lexer": "ipython3",
   "version": "3.8.8"
  }
 },
 "nbformat": 4,
 "nbformat_minor": 5
}
