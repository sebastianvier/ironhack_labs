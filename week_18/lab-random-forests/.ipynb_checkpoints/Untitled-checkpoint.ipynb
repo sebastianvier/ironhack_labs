{
 "cells": [
  {
   "cell_type": "code",
   "execution_count": 2,
   "id": "0b0d97a2",
   "metadata": {},
   "outputs": [],
   "source": [
    "import numpy as np\n",
    "import pandas as pd\n",
    "from sklearn.preprocessing import OneHotEncoder\n",
    "from sklearn.model_selection import train_test_split"
   ]
  },
  {
   "cell_type": "code",
   "execution_count": 4,
   "id": "470e19ae",
   "metadata": {},
   "outputs": [
    {
     "name": "stdout",
     "output_type": "stream",
     "text": [
      "categorical.csv numerical.csv   target.csv\r\n"
     ]
    }
   ],
   "source": [
    "! ls files_for_lab/"
   ]
  },
  {
   "cell_type": "code",
   "execution_count": 5,
   "id": "d15523ad",
   "metadata": {},
   "outputs": [],
   "source": [
    "## Import data\n",
    "path = 'files_for_lab/'\n",
    "categorical = pd.read_csv(path + 'categorical.csv')\n",
    "numerical = pd.read_csv(path + 'numerical.csv')\n",
    "target = pd.read_csv(path + 'target.csv')"
   ]
  },
  {
   "cell_type": "code",
   "execution_count": 7,
   "id": "03317a2f",
   "metadata": {},
   "outputs": [
    {
     "name": "stdout",
     "output_type": "stream",
     "text": [
      "<class 'pandas.core.frame.DataFrame'>\n",
      "RangeIndex: 95412 entries, 0 to 95411\n",
      "Data columns (total 22 columns):\n",
      " #   Column        Non-Null Count  Dtype \n",
      "---  ------        --------------  ----- \n",
      " 0   STATE         95412 non-null  object\n",
      " 1   CLUSTER       95412 non-null  int64 \n",
      " 2   HOMEOWNR      95412 non-null  object\n",
      " 3   GENDER        95412 non-null  object\n",
      " 4   DATASRCE      95412 non-null  int64 \n",
      " 5   RFA_2R        95412 non-null  object\n",
      " 6   RFA_2A        95412 non-null  object\n",
      " 7   GEOCODE2      95412 non-null  object\n",
      " 8   DOMAIN_A      95412 non-null  object\n",
      " 9   DOMAIN_B      95412 non-null  int64 \n",
      " 10  ODATEW_YR     95412 non-null  int64 \n",
      " 11  ODATEW_MM     95412 non-null  int64 \n",
      " 12  DOB_YR        95412 non-null  int64 \n",
      " 13  DOB_MM        95412 non-null  int64 \n",
      " 14  MINRDATE_YR   95412 non-null  int64 \n",
      " 15  MINRDATE_MM   95412 non-null  int64 \n",
      " 16  MAXRDATE_YR   95412 non-null  int64 \n",
      " 17  MAXRDATE_MM   95412 non-null  int64 \n",
      " 18  LASTDATE_YR   95412 non-null  int64 \n",
      " 19  LASTDATE_MM   95412 non-null  int64 \n",
      " 20  FIRSTDATE_YR  95412 non-null  int64 \n",
      " 21  FIRSTDATE_MM  95412 non-null  int64 \n",
      "dtypes: int64(15), object(7)\n",
      "memory usage: 16.0+ MB\n"
     ]
    }
   ],
   "source": [
    "categorical.info()"
   ]
  },
  {
   "cell_type": "markdown",
   "id": "d693ac88",
   "metadata": {},
   "source": [
    "For a **categorical** data there are a lot of interger numbers. "
   ]
  },
  {
   "cell_type": "code",
   "execution_count": 12,
   "id": "63964457",
   "metadata": {},
   "outputs": [
    {
     "name": "stdout",
     "output_type": "stream",
     "text": [
      "   CLUSTER  DATASRCE  DOMAIN_B  ODATEW_YR  ODATEW_MM  DOB_YR  DOB_MM  \\\n",
      "0       36         3         2         89          1      37      12   \n",
      "1       14         3         1         94          1      52       2   \n",
      "2       43         3         2         90          1       0       2   \n",
      "3       44         3         2         87          1      28       1   \n",
      "4       16         3         2         86          1      20       1   \n",
      "\n",
      "   MINRDATE_YR  MINRDATE_MM  MAXRDATE_YR  MAXRDATE_MM  LASTDATE_YR  \\\n",
      "0           92            8           94            2           95   \n",
      "1           93           10           95           12           95   \n",
      "2           91           11           92            7           95   \n",
      "3           87           11           94           11           95   \n",
      "4           93           10           96            1           96   \n",
      "\n",
      "   LASTDATE_MM  FIRSTDATE_YR  FIRSTDATE_MM  \n",
      "0           12            89            11  \n",
      "1           12            93            10  \n",
      "2           12            90             1  \n",
      "3           12            87             2  \n",
      "4            1            79             3  \n",
      "15\n"
     ]
    }
   ],
   "source": [
    "int_categorical = categorical.select_dtypes(include=int)\n",
    "print(int_categorical.head())\n",
    "print(len(int_categorical.columns))"
   ]
  },
  {
   "cell_type": "code",
   "execution_count": 14,
   "id": "13cb877b",
   "metadata": {
    "scrolled": true
   },
   "outputs": [
    {
     "name": "stdout",
     "output_type": "stream",
     "text": [
      "  STATE HOMEOWNR GENDER RFA_2R RFA_2A GEOCODE2 DOMAIN_A\n",
      "0    IL        H      F      L      E        C        T\n",
      "1    CA        H      M      L      G        A        S\n",
      "2    NC        U      M      L      E        C        R\n",
      "3    CA        U      F      L      E        C        R\n",
      "4    FL        H      F      L      F        A        S\n",
      "7\n"
     ]
    }
   ],
   "source": [
    "cat_categorical = categorical.select_dtypes(exclude=int)\n",
    "print(cat_categorical.head())\n",
    "print(len(cat_categorical.columns))"
   ]
  },
  {
   "cell_type": "code",
   "execution_count": 15,
   "id": "58aeaf9f",
   "metadata": {},
   "outputs": [
    {
     "name": "stdout",
     "output_type": "stream",
     "text": [
      "22\n"
     ]
    }
   ],
   "source": [
    "print(len(categorical.columns))"
   ]
  },
  {
   "cell_type": "code",
   "execution_count": null,
   "id": "8567b551",
   "metadata": {},
   "outputs": [],
   "source": [
    "## Check distribution on the"
   ]
  }
 ],
 "metadata": {
  "kernelspec": {
   "display_name": "Python 3",
   "language": "python",
   "name": "python3"
  },
  "language_info": {
   "codemirror_mode": {
    "name": "ipython",
    "version": 3
   },
   "file_extension": ".py",
   "mimetype": "text/x-python",
   "name": "python",
   "nbconvert_exporter": "python",
   "pygments_lexer": "ipython3",
   "version": "3.8.8"
  }
 },
 "nbformat": 4,
 "nbformat_minor": 5
}
