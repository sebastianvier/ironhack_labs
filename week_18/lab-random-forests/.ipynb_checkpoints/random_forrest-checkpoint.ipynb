{
 "cells": [
  {
   "cell_type": "code",
   "execution_count": 103,
   "id": "1ce85f1e",
   "metadata": {},
   "outputs": [],
   "source": [
    "import numpy as np\n",
    "import pandas as pd\n",
    "from sklearn.preprocessing import OneHotEncoder\n",
    "from sklearn.model_selection import train_test_split\n",
    "from sklearn.ensemble import RandomForestClassifier\n",
    "from imblearn.over_sampling import SMOTE\n",
    "from sklearn.metrics import confusion_matrix, classification_report"
   ]
  },
  {
   "cell_type": "code",
   "execution_count": 4,
   "id": "0e111b08",
   "metadata": {},
   "outputs": [
    {
     "name": "stdout",
     "output_type": "stream",
     "text": [
      "categorical.csv numerical.csv   target.csv\r\n"
     ]
    }
   ],
   "source": [
    "! ls files_for_lab/"
   ]
  },
  {
   "cell_type": "code",
   "execution_count": 43,
   "id": "7028dc3f",
   "metadata": {},
   "outputs": [],
   "source": [
    "## Import data\n",
    "path = 'files_for_lab/'\n",
    "categorical = pd.read_csv(path + 'categorical.csv')\n",
    "categorical.drop('RFA_2R', axis=1, inplace=True) # This attribute is the same for all entrie\n",
    "numerical = pd.read_csv(path + 'numerical.csv')\n",
    "target = pd.read_csv(path + 'target.csv')"
   ]
  },
  {
   "cell_type": "code",
   "execution_count": 7,
   "id": "a3bd0518",
   "metadata": {},
   "outputs": [
    {
     "name": "stdout",
     "output_type": "stream",
     "text": [
      "<class 'pandas.core.frame.DataFrame'>\n",
      "RangeIndex: 95412 entries, 0 to 95411\n",
      "Data columns (total 22 columns):\n",
      " #   Column        Non-Null Count  Dtype \n",
      "---  ------        --------------  ----- \n",
      " 0   STATE         95412 non-null  object\n",
      " 1   CLUSTER       95412 non-null  int64 \n",
      " 2   HOMEOWNR      95412 non-null  object\n",
      " 3   GENDER        95412 non-null  object\n",
      " 4   DATASRCE      95412 non-null  int64 \n",
      " 5   RFA_2R        95412 non-null  object\n",
      " 6   RFA_2A        95412 non-null  object\n",
      " 7   GEOCODE2      95412 non-null  object\n",
      " 8   DOMAIN_A      95412 non-null  object\n",
      " 9   DOMAIN_B      95412 non-null  int64 \n",
      " 10  ODATEW_YR     95412 non-null  int64 \n",
      " 11  ODATEW_MM     95412 non-null  int64 \n",
      " 12  DOB_YR        95412 non-null  int64 \n",
      " 13  DOB_MM        95412 non-null  int64 \n",
      " 14  MINRDATE_YR   95412 non-null  int64 \n",
      " 15  MINRDATE_MM   95412 non-null  int64 \n",
      " 16  MAXRDATE_YR   95412 non-null  int64 \n",
      " 17  MAXRDATE_MM   95412 non-null  int64 \n",
      " 18  LASTDATE_YR   95412 non-null  int64 \n",
      " 19  LASTDATE_MM   95412 non-null  int64 \n",
      " 20  FIRSTDATE_YR  95412 non-null  int64 \n",
      " 21  FIRSTDATE_MM  95412 non-null  int64 \n",
      "dtypes: int64(15), object(7)\n",
      "memory usage: 16.0+ MB\n"
     ]
    }
   ],
   "source": [
    "categorical.info()"
   ]
  },
  {
   "cell_type": "markdown",
   "id": "7b50c0e5",
   "metadata": {},
   "source": [
    "For a **categorical** data there are a lot of interger numbers. "
   ]
  },
  {
   "cell_type": "code",
   "execution_count": 12,
   "id": "af47dd69",
   "metadata": {},
   "outputs": [
    {
     "name": "stdout",
     "output_type": "stream",
     "text": [
      "   CLUSTER  DATASRCE  DOMAIN_B  ODATEW_YR  ODATEW_MM  DOB_YR  DOB_MM  \\\n",
      "0       36         3         2         89          1      37      12   \n",
      "1       14         3         1         94          1      52       2   \n",
      "2       43         3         2         90          1       0       2   \n",
      "3       44         3         2         87          1      28       1   \n",
      "4       16         3         2         86          1      20       1   \n",
      "\n",
      "   MINRDATE_YR  MINRDATE_MM  MAXRDATE_YR  MAXRDATE_MM  LASTDATE_YR  \\\n",
      "0           92            8           94            2           95   \n",
      "1           93           10           95           12           95   \n",
      "2           91           11           92            7           95   \n",
      "3           87           11           94           11           95   \n",
      "4           93           10           96            1           96   \n",
      "\n",
      "   LASTDATE_MM  FIRSTDATE_YR  FIRSTDATE_MM  \n",
      "0           12            89            11  \n",
      "1           12            93            10  \n",
      "2           12            90             1  \n",
      "3           12            87             2  \n",
      "4            1            79             3  \n",
      "15\n"
     ]
    }
   ],
   "source": [
    "int_categorical = categorical.select_dtypes(include=int)\n",
    "print(int_categorical.head())\n",
    "print(len(int_categorical.columns))"
   ]
  },
  {
   "cell_type": "code",
   "execution_count": 14,
   "id": "eeec8bd5",
   "metadata": {
    "scrolled": true
   },
   "outputs": [
    {
     "name": "stdout",
     "output_type": "stream",
     "text": [
      "  STATE HOMEOWNR GENDER RFA_2R RFA_2A GEOCODE2 DOMAIN_A\n",
      "0    IL        H      F      L      E        C        T\n",
      "1    CA        H      M      L      G        A        S\n",
      "2    NC        U      M      L      E        C        R\n",
      "3    CA        U      F      L      E        C        R\n",
      "4    FL        H      F      L      F        A        S\n",
      "7\n"
     ]
    }
   ],
   "source": [
    "cat_categorical = categorical.select_dtypes(exclude=int)\n",
    "print(cat_categorical.head())\n",
    "print(len(cat_categorical.columns))"
   ]
  },
  {
   "cell_type": "code",
   "execution_count": 15,
   "id": "63c1c0ff",
   "metadata": {},
   "outputs": [
    {
     "name": "stdout",
     "output_type": "stream",
     "text": [
      "22\n"
     ]
    }
   ],
   "source": [
    "print(len(categorical.columns))"
   ]
  },
  {
   "cell_type": "code",
   "execution_count": 17,
   "id": "c41e35b7",
   "metadata": {},
   "outputs": [
    {
     "data": {
      "text/plain": [
       "STATE       12\n",
       "HOMEOWNR     2\n",
       "GENDER       3\n",
       "RFA_2R       1\n",
       "RFA_2A       4\n",
       "GEOCODE2     4\n",
       "DOMAIN_A     5\n",
       "dtype: int64"
      ]
     },
     "execution_count": 17,
     "metadata": {},
     "output_type": "execute_result"
    }
   ],
   "source": [
    "cat_categorical.nunique()"
   ]
  },
  {
   "cell_type": "code",
   "execution_count": 50,
   "id": "60e727cb",
   "metadata": {
    "scrolled": true
   },
   "outputs": [
    {
     "name": "stdout",
     "output_type": "stream",
     "text": [
      "['IL' 'CA' 'NC' 'FL' 'other' 'IN' 'MI' 'MO' 'TX' 'WA' 'WI' 'GA']\n",
      "other    30457\n",
      "CA       17343\n",
      "FL        8376\n",
      "TX        7535\n",
      "IL        6420\n",
      "MI        5654\n",
      "NC        4160\n",
      "WA        3577\n",
      "GA        3403\n",
      "IN        2980\n",
      "WI        2795\n",
      "MO        2712\n",
      "Name: STATE, dtype: int64\n"
     ]
    }
   ],
   "source": [
    "print(cat_categorical['STATE'].unique())\n",
    "print(cat_categorical['STATE'].value_counts())\n",
    "# This feature is already cleaned."
   ]
  },
  {
   "cell_type": "code",
   "execution_count": 51,
   "id": "d86c98ea",
   "metadata": {
    "scrolled": true
   },
   "outputs": [
    {
     "data": {
      "text/plain": [
       "CLUSTER         53\n",
       "DATASRCE         3\n",
       "DOMAIN_B         4\n",
       "ODATEW_YR       15\n",
       "ODATEW_MM       12\n",
       "DOB_YR          96\n",
       "DOB_MM          12\n",
       "MINRDATE_YR     20\n",
       "MINRDATE_MM     12\n",
       "MAXRDATE_YR     18\n",
       "MAXRDATE_MM     12\n",
       "LASTDATE_YR      3\n",
       "LASTDATE_MM     12\n",
       "FIRSTDATE_YR    26\n",
       "FIRSTDATE_MM    12\n",
       "dtype: int64"
      ]
     },
     "execution_count": 51,
     "metadata": {},
     "output_type": "execute_result"
    }
   ],
   "source": [
    "int_categorical.nunique()"
   ]
  },
  {
   "cell_type": "code",
   "execution_count": 54,
   "id": "4a984d07",
   "metadata": {},
   "outputs": [],
   "source": [
    "encoder = OneHotEncoder(drop=\"first\").fit(categorical)\n",
    "categorical = encoder.transform(categorical)"
   ]
  },
  {
   "cell_type": "code",
   "execution_count": 82,
   "id": "c309b817",
   "metadata": {},
   "outputs": [
    {
     "name": "stdout",
     "output_type": "stream",
     "text": [
      "0    90569\n",
      "1     4843\n",
      "Name: TARGET_B, dtype: int64\n",
      "0.00     90569\n",
      "10.00      941\n",
      "15.00      591\n",
      "20.00      577\n",
      "5.00       503\n",
      "         ...  \n",
      "4.50         1\n",
      "55.00        1\n",
      "18.25        1\n",
      "16.87        1\n",
      "48.00        1\n",
      "Name: TARGET_D, Length: 71, dtype: int64\n"
     ]
    }
   ],
   "source": [
    "for column in target.columns:\n",
    "    print(target[column].value_counts())"
   ]
  },
  {
   "cell_type": "code",
   "execution_count": 87,
   "id": "b0e726d8",
   "metadata": {},
   "outputs": [],
   "source": [
    "X = np.concatenate([np.array(numerical), np.array(categorical.todense())], axis=1)\n",
    "y = target['TARGET_B']"
   ]
  },
  {
   "cell_type": "code",
   "execution_count": 88,
   "id": "2421bd0f",
   "metadata": {},
   "outputs": [],
   "source": [
    "X_train, X_test, y_train, y_test = train_test_split(X, y, test_size=0.33, random_state=42)"
   ]
  },
  {
   "cell_type": "code",
   "execution_count": 93,
   "id": "53b8d1bf",
   "metadata": {},
   "outputs": [],
   "source": [
    "sm = SMOTE(random_state=42)\n",
    "X_train, y_train = sm.fit_resample(X, y)"
   ]
  },
  {
   "cell_type": "code",
   "execution_count": 95,
   "id": "99f3be83",
   "metadata": {},
   "outputs": [
    {
     "data": {
      "text/plain": [
       "0    90569\n",
       "1    90569\n",
       "Name: TARGET_B, dtype: int64"
      ]
     },
     "execution_count": 95,
     "metadata": {},
     "output_type": "execute_result"
    }
   ],
   "source": [
    "y_train.value_counts()"
   ]
  },
  {
   "cell_type": "code",
   "execution_count": 97,
   "id": "77a93178",
   "metadata": {},
   "outputs": [],
   "source": [
    "clf = RandomForestClassifier(n_estimators=50, min_samples_split=2, min_samples_leaf=2).fit(X_train,y_train)"
   ]
  },
  {
   "cell_type": "code",
   "execution_count": 99,
   "id": "7b73d0b2",
   "metadata": {},
   "outputs": [],
   "source": [
    "prediction = clf.predict(X_test)"
   ]
  },
  {
   "cell_type": "code",
   "execution_count": 102,
   "id": "dbb9b56b",
   "metadata": {},
   "outputs": [
    {
     "name": "stdout",
     "output_type": "stream",
     "text": [
      "[[29902   335]\n",
      " [    0  1249]]\n"
     ]
    }
   ],
   "source": [
    "print(confusion_matrix(prediction, y_test))"
   ]
  },
  {
   "cell_type": "code",
   "execution_count": 104,
   "id": "373cfa6e",
   "metadata": {},
   "outputs": [
    {
     "name": "stdout",
     "output_type": "stream",
     "text": [
      "              precision    recall  f1-score   support\n",
      "\n",
      "           0       1.00      0.99      0.99     30237\n",
      "           1       0.79      1.00      0.88      1249\n",
      "\n",
      "    accuracy                           0.99     31486\n",
      "   macro avg       0.89      0.99      0.94     31486\n",
      "weighted avg       0.99      0.99      0.99     31486\n",
      "\n"
     ]
    }
   ],
   "source": [
    "print(classification_report(prediction, y_test))"
   ]
  }
 ],
 "metadata": {
  "kernelspec": {
   "display_name": "Python 3",
   "language": "python",
   "name": "python3"
  },
  "language_info": {
   "codemirror_mode": {
    "name": "ipython",
    "version": 3
   },
   "file_extension": ".py",
   "mimetype": "text/x-python",
   "name": "python",
   "nbconvert_exporter": "python",
   "pygments_lexer": "ipython3",
   "version": "3.8.8"
  }
 },
 "nbformat": 4,
 "nbformat_minor": 5
}
