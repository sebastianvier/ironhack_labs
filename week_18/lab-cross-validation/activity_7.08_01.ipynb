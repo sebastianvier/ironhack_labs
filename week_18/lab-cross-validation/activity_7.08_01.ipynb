{
 "cells": [
  {
   "cell_type": "code",
   "execution_count": 35,
   "id": "5a5b94e9",
   "metadata": {},
   "outputs": [],
   "source": [
    "import pandas as pd\n",
    "import numpy as np\n",
    "from sklearn.model_selection import train_test_split, cross_val_score\n",
    "from sklearn.tree import DecisionTreeClassifier\n",
    "from sklearn.linear_model import LogisticRegression\n",
    "from sklearn.preprocessing import StandardScaler \n",
    "from imblearn.over_sampling import SMOTE \n",
    "from imblearn.under_sampling import TomekLinks, RandomUnderSampler\n",
    "import warnings \n",
    "warnings.filterwarnings('ignore')"
   ]
  },
  {
   "cell_type": "markdown",
   "id": "0f710744",
   "metadata": {},
   "source": [
    "In this exercise we will go back to the customer churn data from the last lab (the dataset can also be found in the files_for_activities folder)\n",
    "\n",
    "Implement cross validation along with logistic regression and decision tree classifier on the data\n",
    "\n",
    "Create a pipeline as shown in the class example\n",
    "Note: you can directly use the upsampled data from SMOTE technique. You can use the following code to set up for this activity"
   ]
  },
  {
   "cell_type": "code",
   "execution_count": 9,
   "id": "722c7f12",
   "metadata": {},
   "outputs": [],
   "source": [
    "churnData = pd.read_csv('files_for_lab/Customer-Churn.csv')\n",
    "churnData['TotalCharges'] = pd.to_numeric(churnData['TotalCharges'], errors='coerce') # turn to numeric\n",
    "churnData['TotalCharges'] = churnData['TotalCharges'].fillna(np.mean(churnData['TotalCharges'])) # fill with mean"
   ]
  },
  {
   "cell_type": "code",
   "execution_count": 39,
   "id": "cc16c1f4",
   "metadata": {},
   "outputs": [
    {
     "name": "stdout",
     "output_type": "stream",
     "text": [
      "Yes    5174\n",
      "No     5174\n",
      "Name: Churn, dtype: int64\n",
      "\n",
      "\n",
      "Mean for Logistic Regression: 0.7342553938298619\n",
      "Standard deviation for Logistic Regression: 0.017466354453190613\n",
      "Mean for Decision Tree: 0.7779569912548636\n",
      "Standard deviation for Decision Tree: 0.03627206347818827\n"
     ]
    }
   ],
   "source": [
    "smote = SMOTE() \n",
    "X = churnData[['tenure', 'SeniorCitizen','MonthlyCharges', 'TotalCharges']] \n",
    "transformer = StandardScaler().fit(X) \n",
    "X = transformer.transform(X) \n",
    "y = churnData['Churn'] \n",
    "X_sm, y_sm = smote.fit_resample(X, y) # You can actually pass 2 variables\n",
    "print(y_sm.value_counts())\n",
    "print('\\n')\n",
    "\n",
    "## Create the models\n",
    "lgr = LogisticRegression()\n",
    "dtc = DecisionTreeClassifier()\n",
    "models = [lgr, dtc]\n",
    "names = ['Logistic Regression', 'Decision Tree']\n",
    "\n",
    "## Cross validate score\n",
    "for i, model in enumerate(models):\n",
    "    scores = cross_val_score(model, X_sm, y_sm, cv=20)\n",
    "    print(f'Mean for {names[i]}: {scores.mean()}')\n",
    "    print(f'Standard deviation for {names[i]}: {scores.std()}')"
   ]
  },
  {
   "cell_type": "code",
   "execution_count": 38,
   "id": "f9bf587a",
   "metadata": {},
   "outputs": [
    {
     "name": "stdout",
     "output_type": "stream",
     "text": [
      "No     1869\n",
      "Yes    1869\n",
      "Name: Churn, dtype: int64\n",
      "\n",
      "\n",
      "Mean for Logistic Regression: 0.736764705882353\n",
      "Standard deviation for Logistic Regression: 0.03201107702883474\n",
      "Mean for Decision Tree: 0.6661218446322812\n",
      "Standard deviation for Decision Tree: 0.03329976741189365\n"
     ]
    }
   ],
   "source": [
    "X = churnData[['tenure', 'SeniorCitizen','MonthlyCharges', 'TotalCharges']] \n",
    "transformer = StandardScaler().fit(X) \n",
    "X = transformer.transform(X) \n",
    "y = churnData['Churn'] \n",
    "rus = RandomUnderSampler(random_state=30)\n",
    "X_res, y_res = rus.fit_resample(X, y) # You can actually pass 2 variables\n",
    "print(y_res.value_counts())\n",
    "print('\\n')\n",
    "\n",
    "## Create the models\n",
    "lgr = LogisticRegression()\n",
    "dtc = DecisionTreeClassifier()\n",
    "models = [lgr, dtc]\n",
    "names = ['Logistic Regression', 'Decision Tree']\n",
    "\n",
    "## Cross validate score\n",
    "for i, model in enumerate(models):\n",
    "    scores = cross_val_score(model, X_res, y_res, cv=20)\n",
    "    print(f'Mean for {names[i]}: {scores.mean()}')\n",
    "    print(f'Standard deviation for {names[i]}: {scores.std()}')"
   ]
  }
 ],
 "metadata": {
  "kernelspec": {
   "display_name": "Python 3",
   "language": "python",
   "name": "python3"
  },
  "language_info": {
   "codemirror_mode": {
    "name": "ipython",
    "version": 3
   },
   "file_extension": ".py",
   "mimetype": "text/x-python",
   "name": "python",
   "nbconvert_exporter": "python",
   "pygments_lexer": "ipython3",
   "version": "3.8.8"
  }
 },
 "nbformat": 4,
 "nbformat_minor": 5
}
