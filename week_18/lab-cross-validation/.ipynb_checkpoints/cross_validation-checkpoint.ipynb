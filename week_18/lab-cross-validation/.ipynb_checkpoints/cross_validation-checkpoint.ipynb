{
 "cells": [
  {
   "cell_type": "code",
   "execution_count": 4,
   "id": "ffabfa53",
   "metadata": {},
   "outputs": [],
   "source": [
    "import numpy as np\n",
    "import pandas as pd\n",
    "from imblearn.under_sampling import TomekLinks\n",
    "from imblearn.over_sampling import SMOTE\n",
    "from sklearn.preprocessing import StandardScaler\n",
    "from sklearn.model_selection import train_test_split\n",
    "\n",
    "#Models \n",
    "from sklearn.linear_model import LogisticRegression\n",
    "from sklearn.tree import DecisionTreeClassifier\n",
    "\n",
    "# Metric\n",
    "from sklearn.metrics import classification_report\n",
    "\n",
    "import warnings\n",
    "warnings.filterwarnings('ignore')"
   ]
  },
  {
   "cell_type": "code",
   "execution_count": 2,
   "id": "dc240c7d",
   "metadata": {},
   "outputs": [],
   "source": [
    "churn_data = pd.read_csv('files_for_lab/Customer-Churn.csv')\n",
    "\n",
    "def to_zero(x):\n",
    "    if x == ' ':\n",
    "        return 0\n",
    "    else:\n",
    "        return float(x)\n",
    "\n",
    "churn_data['TotalCharges'] = churn_data.TotalCharges.apply(to_zero)"
   ]
  },
  {
   "cell_type": "code",
   "execution_count": 3,
   "id": "e25dc461",
   "metadata": {},
   "outputs": [],
   "source": [
    "y = churn_data['Churn']\n",
    "X = churn_data[['tenure', 'SeniorCitizen', 'MonthlyCharges', 'TotalCharges']]"
   ]
  },
  {
   "cell_type": "code",
   "execution_count": 6,
   "id": "d1d47090",
   "metadata": {},
   "outputs": [
    {
     "name": "stdout",
     "output_type": "stream",
     "text": [
      "              precision    recall  f1-score   support\n",
      "\n",
      "          No       0.88      0.72      0.79      1709\n",
      "         Yes       0.48      0.73      0.58       616\n",
      "\n",
      "    accuracy                           0.72      2325\n",
      "   macro avg       0.68      0.72      0.68      2325\n",
      "weighted avg       0.77      0.72      0.73      2325\n",
      "\n",
      "              precision    recall  f1-score   support\n",
      "\n",
      "          No       0.99      1.00      0.99      1709\n",
      "         Yes       0.99      0.97      0.98       616\n",
      "\n",
      "    accuracy                           0.99      2325\n",
      "   macro avg       0.99      0.98      0.99      2325\n",
      "weighted avg       0.99      0.99      0.99      2325\n",
      "\n"
     ]
    }
   ],
   "source": [
    "X_train, X_test, y_train, y_test = train_test_split(X, y, test_size=0.33, random_state=50)\n",
    "\n",
    "over_sampler = SMOTE().fit(X_train, y_train)\n",
    "X_res, y_res = over_sampler.fit_resample(X, y)\n",
    "\n",
    "# ## Scale data\n",
    "scaler = StandardScaler().fit(X_res)\n",
    "scaler.transform(X_res)\n",
    "\n",
    "## Run model\n",
    "lgr = LogisticRegression().fit(X_res, y_res)\n",
    "prediction = lgr.predict(X_test)\n",
    "classification_1 = classification_report(y_test, prediction)\n",
    "print(classification_1)\n",
    "\n",
    "dt = DecisionTreeClassifier(random_state=0).fit(X_res, y_res)\n",
    "prediction = dt.predict(X_test)\n",
    "classification_2 = classification_report(y_test, prediction)\n",
    "print(classification_2)"
   ]
  },
  {
   "cell_type": "code",
   "execution_count": 10,
   "id": "3fe3a10c",
   "metadata": {},
   "outputs": [
    {
     "name": "stdout",
     "output_type": "stream",
     "text": [
      "              precision    recall  f1-score   support\n",
      "\n",
      "          No       0.85      0.85      0.85      1709\n",
      "         Yes       0.58      0.57      0.57       616\n",
      "\n",
      "    accuracy                           0.77      2325\n",
      "   macro avg       0.71      0.71      0.71      2325\n",
      "weighted avg       0.77      0.77      0.77      2325\n",
      "\n",
      "              precision    recall  f1-score   support\n",
      "\n",
      "          No       0.99      0.94      0.96      1709\n",
      "         Yes       0.85      0.97      0.91       616\n",
      "\n",
      "    accuracy                           0.95      2325\n",
      "   macro avg       0.92      0.95      0.93      2325\n",
      "weighted avg       0.95      0.95      0.95      2325\n",
      "\n"
     ]
    }
   ],
   "source": [
    "X_train, X_test, y_train, y_test = train_test_split(X, y, test_size=0.33, random_state=50)\n",
    "\n",
    "under_sampler = TomekLinks(n_jobs=4).fit(X_train, y_train)\n",
    "X_res, y_res = under_sampler.fit_resample(X, y)\n",
    "\n",
    "# ## Scale data\n",
    "scaler = StandardScaler().fit(X_res)\n",
    "scaler.transform(X_res)\n",
    "\n",
    "## Run model\n",
    "lgr = LogisticRegression().fit(X_res, y_res)\n",
    "prediction = lgr.predict(X_test)\n",
    "classification_3 = classification_report(y_test, prediction)\n",
    "print(classification_3)\n",
    "\n",
    "dt = DecisionTreeClassifier(random_state=1).fit(X_res, y_res)\n",
    "prediction = dt.predict(X_test)\n",
    "classification_4 = classification_report(y_test, prediction)\n",
    "print(classification_4)"
   ]
  },
  {
   "cell_type": "code",
   "execution_count": 11,
   "id": "4dad5d4f",
   "metadata": {},
   "outputs": [
    {
     "name": "stdout",
     "output_type": "stream",
     "text": [
      "              precision    recall  f1-score   support\n",
      "\n",
      "          No       0.88      0.72      0.79      1709\n",
      "         Yes       0.48      0.73      0.58       616\n",
      "\n",
      "    accuracy                           0.72      2325\n",
      "   macro avg       0.68      0.72      0.68      2325\n",
      "weighted avg       0.77      0.72      0.73      2325\n",
      "\n",
      "              precision    recall  f1-score   support\n",
      "\n",
      "          No       0.99      1.00      0.99      1709\n",
      "         Yes       0.99      0.97      0.98       616\n",
      "\n",
      "    accuracy                           0.99      2325\n",
      "   macro avg       0.99      0.98      0.99      2325\n",
      "weighted avg       0.99      0.99      0.99      2325\n",
      "\n",
      "              precision    recall  f1-score   support\n",
      "\n",
      "          No       0.85      0.85      0.85      1709\n",
      "         Yes       0.58      0.57      0.57       616\n",
      "\n",
      "    accuracy                           0.77      2325\n",
      "   macro avg       0.71      0.71      0.71      2325\n",
      "weighted avg       0.77      0.77      0.77      2325\n",
      "\n",
      "              precision    recall  f1-score   support\n",
      "\n",
      "          No       0.99      0.94      0.96      1709\n",
      "         Yes       0.85      0.97      0.91       616\n",
      "\n",
      "    accuracy                           0.95      2325\n",
      "   macro avg       0.92      0.95      0.93      2325\n",
      "weighted avg       0.95      0.95      0.95      2325\n",
      "\n"
     ]
    }
   ],
   "source": [
    "print(classification_1)\n",
    "print(classification_2)\n",
    "print(classification_3)\n",
    "print(classification_4)"
   ]
  }
 ],
 "metadata": {
  "kernelspec": {
   "display_name": "Python 3",
   "language": "python",
   "name": "python3"
  },
  "language_info": {
   "codemirror_mode": {
    "name": "ipython",
    "version": 3
   },
   "file_extension": ".py",
   "mimetype": "text/x-python",
   "name": "python",
   "nbconvert_exporter": "python",
   "pygments_lexer": "ipython3",
   "version": "3.8.8"
  }
 },
 "nbformat": 4,
 "nbformat_minor": 5
}
