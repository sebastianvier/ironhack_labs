{
 "cells": [
  {
   "cell_type": "code",
   "execution_count": 1,
   "id": "d63b6adb",
   "metadata": {},
   "outputs": [],
   "source": [
    "import numpy as np\n",
    "import pandas as pd\n",
    "from imblearn.under_sampling import TomekLinks\n",
    "from imblearn.over_sampling import SMOTE\n",
    "from sklearn.preprocessing import StandardScaler\n",
    "from sklearn.model_selection import train_test_split\n",
    "from sklearn.linear_model import LogisticRegression\n",
    "from sklearn.metrics import classification_report\n",
    "\n",
    "import warnings\n",
    "warnings.filterwarnings('ignore')"
   ]
  },
  {
   "cell_type": "code",
   "execution_count": 2,
   "id": "f1cb731f",
   "metadata": {},
   "outputs": [],
   "source": [
    "churn_data = pd.read_csv('files_for_lab/Customer-Churn.csv')\n",
    "\n",
    "def to_zero(x):\n",
    "    if x == ' ':\n",
    "        return 0\n",
    "    else:\n",
    "        return float(x)\n",
    "\n",
    "churn_data['TotalCharges'] = churn_data.TotalCharges.apply(to_zero)"
   ]
  },
  {
   "cell_type": "code",
   "execution_count": 3,
   "id": "13cf78b7",
   "metadata": {},
   "outputs": [],
   "source": [
    "y = churn_data['Churn']\n",
    "X = churn_data[['tenure', 'SeniorCitizen', 'MonthlyCharges', 'TotalCharges']]"
   ]
  },
  {
   "cell_type": "code",
   "execution_count": null,
   "id": "f2755884",
   "metadata": {},
   "outputs": [],
   "source": [
    "X_train, X_test, y_train, y_test = train_test_split(X, y, test_size=0.33, random_state=50)\n",
    "\n",
    "over_sampler = SMOTE().fit(X_train, y_train)\n",
    "X_res, y_res = over_sampler.fit_resample(X, y)\n",
    "\n",
    "# ## Scale data\n",
    "scaler = StandardScaler().fit(X_res)\n",
    "scaler.transform(X_res)\n",
    "\n",
    "## Run model\n",
    "lgr = LogisticRegression().fit(X_res, y_res)\n",
    "prediction = lgr.predict(X_test)\n",
    "classification_1 = classification_report(y_test, prediction)\n",
    "print(classification_1)"
   ]
  },
  {
   "cell_type": "code",
   "execution_count": null,
   "id": "b379a9f1",
   "metadata": {},
   "outputs": [],
   "source": [
    "X_train, X_test, y_train, y_test = train_test_split(X, y, test_size=0.33, random_state=50)\n",
    "\n",
    "under_sampler = TomekLinks(n_jobs=4).fit(X_train, y_train)\n",
    "X_res, y_res = over_sampler.fit_resample(X, y)\n",
    "\n",
    "# ## Scale data\n",
    "scaler = StandardScaler().fit(X_res)\n",
    "scaler.transform(X_res)\n",
    "\n",
    "## Run model\n",
    "lgr = LogisticRegression().fit(X_res, y_res)\n",
    "prediction = lgr.predict(X_test)\n",
    "classification_4 = classification_report(y_test, prediction)\n",
    "print(classification_4)"
   ]
  }
 ],
 "metadata": {
  "kernelspec": {
   "display_name": "Python 3",
   "language": "python",
   "name": "python3"
  },
  "language_info": {
   "codemirror_mode": {
    "name": "ipython",
    "version": 3
   },
   "file_extension": ".py",
   "mimetype": "text/x-python",
   "name": "python",
   "nbconvert_exporter": "python",
   "pygments_lexer": "ipython3",
   "version": "3.8.8"
  }
 },
 "nbformat": 4,
 "nbformat_minor": 5
}
