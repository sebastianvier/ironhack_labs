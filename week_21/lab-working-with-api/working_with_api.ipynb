{
 "cells": [
  {
   "cell_type": "code",
   "execution_count": 1,
   "id": "b19c1cd2",
   "metadata": {},
   "outputs": [],
   "source": [
    "import pandas as pd\n",
    "import requests\n",
    "import json"
   ]
  },
  {
   "cell_type": "markdown",
   "id": "7fcccb01",
   "metadata": {},
   "source": [
    "Following the class example, create a function that returns the price, names of origin and arrival airports and the name of the company. Do it for all the flights between two dates that cost the same."
   ]
  },
  {
   "cell_type": "code",
   "execution_count": 4,
   "id": "fd0099e1",
   "metadata": {},
   "outputs": [
    {
     "name": "stdout",
     "output_type": "stream",
     "text": [
      "{\"success\":true,\"data\":{\"2022-05-01\":{\"origin\":\"BER\",\"destination\":\"BCN\",\"price\":224,\"airline\":\"LO\",\"flight_number\":390,\"departure_at\":\"2022-05-01T19:10:00+02:00\",\"return_at\":\"2022-05-31T13:10:00+02:00\",\"transfers\":1,\"expires_at\":\"2022-04-27T10:53:33Z\"},\"2022-05-11\":{\"origin\":\"BER\",\"destination\":\"BCN\",\"price\":155,\"airline\":\"TP\",\"flight_number\":533,\"departure_at\":\"2022-05-11T13:10:00+02:00\",\"return_at\":\"2022-05-31T17:40:00+02:00\",\"transfers\":1,\"expires_at\":\"2022-04-27T10:53:33Z\"},\"2022-05-20\":{\"origin\":\"BER\",\"destination\":\"BCN\",\"price\":194,\"airline\":\"TP\",\"flight_number\":531,\"departure_at\":\"2022-05-20T06:00:00+02:00\",\"return_at\":\"2022-05-31T22:40:00+02:00\",\"transfers\":1,\"expires_at\":\"2022-04-27T10:53:33Z\"},\"2022-05-21\":{\"origin\":\"BER\",\"destination\":\"BCN\",\"price\":197,\"airline\":\"LO\",\"flight_number\":388,\"departure_at\":\"2022-05-21T11:45:00+02:00\",\"return_at\":\"2022-05-31T13:10:00+02:00\",\"transfers\":1,\"expires_at\":\"2022-04-27T10:53:33Z\"},\"2022-05-22\":{\"origin\":\"BER\",\"destination\":\"BCN\",\"price\":152,\"airline\":\"TP\",\"flight_number\":531,\"departure_at\":\"2022-05-22T06:00:00+02:00\",\"return_at\":\"2022-05-31T22:40:00+02:00\",\"transfers\":1,\"expires_at\":\"2022-04-27T10:53:33Z\"},\"2022-05-23\":{\"origin\":\"BER\",\"destination\":\"BCN\",\"price\":128,\"airline\":\"TP\",\"flight_number\":535,\"departure_at\":\"2022-05-23T17:15:00+02:00\",\"return_at\":\"2022-05-31T20:10:00+02:00\",\"transfers\":1,\"expires_at\":\"2022-04-27T10:53:33Z\"},\"2022-05-24\":{\"origin\":\"BER\",\"destination\":\"BCN\",\"price\":156,\"airline\":\"LO\",\"flight_number\":388,\"departure_at\":\"2022-05-24T11:15:00+02:00\",\"return_at\":\"2022-05-31T13:10:00+02:00\",\"transfers\":1,\"expires_at\":\"2022-04-27T10:53:33Z\"},\"2022-05-25\":{\"origin\":\"BER\",\"destination\":\"BCN\",\"price\":153,\"airline\":\"TP\",\"flight_number\":531,\"departure_at\":\"2022-05-25T06:00:00+02:00\",\"return_at\":\"2022-05-31T22:40:00+02:00\",\"transfers\":1,\"expires_at\":\"2022-04-27T10:53:33Z\"},\"2022-05-26\":{\"origin\":\"BER\",\"destination\":\"BCN\",\"price\":257,\"airline\":\"LH\",\"flight_number\":1949,\"departure_at\":\"2022-05-26T18:50:00+02:00\",\"return_at\":\"2022-05-31T10:00:00+02:00\",\"transfers\":1,\"expires_at\":\"2022-04-27T10:53:33Z\"},\"2022-05-27\":{\"origin\":\"BER\",\"destination\":\"BCN\",\"price\":82,\"airline\":\"VY\",\"flight_number\":1885,\"departure_at\":\"2022-05-27T22:00:00+02:00\",\"return_at\":\"2022-05-31T22:35:00+02:00\",\"transfers\":1,\"expires_at\":\"2022-04-27T10:53:33Z\"},\"2022-05-28\":{\"origin\":\"BER\",\"destination\":\"BCN\",\"price\":128,\"airline\":\"TP\",\"flight_number\":535,\"departure_at\":\"2022-05-28T17:15:00+02:00\",\"return_at\":\"2022-05-31T15:00:00+02:00\",\"transfers\":1,\"expires_at\":\"2022-04-27T10:53:33Z\"},\"2022-05-29\":{\"origin\":\"BER\",\"destination\":\"BCN\",\"price\":135,\"airline\":\"TP\",\"flight_number\":531,\"departure_at\":\"2022-05-29T06:00:00+02:00\",\"return_at\":\"2022-05-31T17:40:00+02:00\",\"transfers\":1,\"expires_at\":\"2022-04-27T10:53:33Z\"},\"2022-05-31\":{\"origin\":\"BER\",\"destination\":\"BCN\",\"price\":318,\"airline\":\"LX\",\"flight_number\":963,\"departure_at\":\"2022-05-31T07:00:00+02:00\",\"return_at\":\"2022-05-31T20:05:00+02:00\",\"transfers\":1,\"expires_at\":\"2022-04-27T10:53:33Z\"}},\"currency\":\"EUR\"}\n"
     ]
    }
   ],
   "source": [
    "import requests\n",
    "\n",
    "url = \"https://travelpayouts-travelpayouts-flight-data-v1.p.rapidapi.com/v1/prices/calendar\"\n",
    "\n",
    "querystring = {\"calendar_type\":\"departure_date\",\"destination\":\"BCN\",\"origin\":\"BER\",\"depart_date\":\"2022-04-28\",\"currency\":\"EUR\",\"return_date\":\"2022-05-31\"}\n",
    "\n",
    "headers = {\n",
    "\t\"X-Access-Token\": \"78b38d15fe38d60eac333cabe89d3934\",\n",
    "\t\"X-RapidAPI-Host\": \"travelpayouts-travelpayouts-flight-data-v1.p.rapidapi.com\",\n",
    "\t\"X-RapidAPI-Key\": \"248c7ee598msh82ef68e18fb9974p1bc8f9jsn1a8558b2e4ce\"\n",
    "}\n",
    "\n",
    "response = requests.request(\"GET\", url, headers=headers, params=querystring)"
   ]
  },
  {
   "cell_type": "code",
   "execution_count": 16,
   "id": "f62fbb50",
   "metadata": {},
   "outputs": [],
   "source": [
    "import requests\n",
    "\n",
    "url = \"https://travelpayouts-travelpayouts-flight-data-v1.p.rapidapi.com/v1/city-directions\"\n",
    "\n",
    "querystring = {\"currency\":\"EUR\",\"origin\":\"ZRH\"}\n",
    "\n",
    "headers = {\n",
    "\t\"X-Access-Token\": \"78b38d15fe38d60eac333cabe89d3934\",\n",
    "\t\"X-RapidAPI-Host\": \"travelpayouts-travelpayouts-flight-data-v1.p.rapidapi.com\",\n",
    "\t\"X-RapidAPI-Key\": \"248c7ee598msh82ef68e18fb9974p1bc8f9jsn1a8558b2e4ce\"\n",
    "}\n",
    "\n",
    "response = requests.request(\"GET\", url, headers=headers, params=querystring)"
   ]
  },
  {
   "cell_type": "code",
   "execution_count": 17,
   "id": "0abcf919",
   "metadata": {},
   "outputs": [],
   "source": [
    "dictionary = response.json()['data']\n",
    "dates_of_flights = list(dictionary.keys())\n",
    "columns = pd.json_normalize(dictionary[dates_of_flights[0]]).columns\n",
    "flights = pd.DataFrame(columns=columns)\n",
    "for i in range(len(dates_of_flights)):\n",
    "    flights = flights.append(pd.json_normalize(dictionary[dates_of_flights[i]]))"
   ]
  },
  {
   "cell_type": "code",
   "execution_count": 39,
   "id": "a8c9bd82",
   "metadata": {},
   "outputs": [],
   "source": [
    "def filter_1(x):\n",
    "    return x[5:10] == \"04-26\" or x[5:10] == \"04-27\"\n",
    "\n",
    "def filter_2(x):\n",
    "    return x < 900\n",
    "\n",
    "flights_26_27 = flights[flights['departure_at'].map(filter_1)]\n",
    "flights_26_27 = flights_26_27[flights_26_27['price'].map(filter_2)]"
   ]
  },
  {
   "cell_type": "code",
   "execution_count": 42,
   "id": "a7cb99b0",
   "metadata": {
    "scrolled": true
   },
   "outputs": [
    {
     "data": {
      "text/html": [
       "<div>\n",
       "<style scoped>\n",
       "    .dataframe tbody tr th:only-of-type {\n",
       "        vertical-align: middle;\n",
       "    }\n",
       "\n",
       "    .dataframe tbody tr th {\n",
       "        vertical-align: top;\n",
       "    }\n",
       "\n",
       "    .dataframe thead th {\n",
       "        text-align: right;\n",
       "    }\n",
       "</style>\n",
       "<table border=\"1\" class=\"dataframe\">\n",
       "  <thead>\n",
       "    <tr style=\"text-align: right;\">\n",
       "      <th></th>\n",
       "      <th>price</th>\n",
       "      <th>origin</th>\n",
       "      <th>destination</th>\n",
       "      <th>airline</th>\n",
       "    </tr>\n",
       "  </thead>\n",
       "  <tbody>\n",
       "    <tr>\n",
       "      <th>0</th>\n",
       "      <td>504</td>\n",
       "      <td>ZRH</td>\n",
       "      <td>AYT</td>\n",
       "      <td>LH</td>\n",
       "    </tr>\n",
       "    <tr>\n",
       "      <th>0</th>\n",
       "      <td>270</td>\n",
       "      <td>ZRH</td>\n",
       "      <td>BCN</td>\n",
       "      <td>IB</td>\n",
       "    </tr>\n",
       "    <tr>\n",
       "      <th>0</th>\n",
       "      <td>398</td>\n",
       "      <td>ZRH</td>\n",
       "      <td>PRN</td>\n",
       "      <td>PC</td>\n",
       "    </tr>\n",
       "    <tr>\n",
       "      <th>0</th>\n",
       "      <td>290</td>\n",
       "      <td>ZRH</td>\n",
       "      <td>PMI</td>\n",
       "      <td>UX</td>\n",
       "    </tr>\n",
       "    <tr>\n",
       "      <th>0</th>\n",
       "      <td>844</td>\n",
       "      <td>ZRH</td>\n",
       "      <td>CMB</td>\n",
       "      <td>EK</td>\n",
       "    </tr>\n",
       "  </tbody>\n",
       "</table>\n",
       "</div>"
      ],
      "text/plain": [
       "  price origin destination airline\n",
       "0   504    ZRH         AYT      LH\n",
       "0   270    ZRH         BCN      IB\n",
       "0   398    ZRH         PRN      PC\n",
       "0   290    ZRH         PMI      UX\n",
       "0   844    ZRH         CMB      EK"
      ]
     },
     "execution_count": 42,
     "metadata": {},
     "output_type": "execute_result"
    }
   ],
   "source": [
    "flights_26_27[[\"price\", \"origin\",\"destination\", \"airline\"]]"
   ]
  }
 ],
 "metadata": {
  "kernelspec": {
   "display_name": "Python 3",
   "language": "python",
   "name": "python3"
  },
  "language_info": {
   "codemirror_mode": {
    "name": "ipython",
    "version": 3
   },
   "file_extension": ".py",
   "mimetype": "text/x-python",
   "name": "python",
   "nbconvert_exporter": "python",
   "pygments_lexer": "ipython3",
   "version": "3.8.8"
  }
 },
 "nbformat": 4,
 "nbformat_minor": 5
}
