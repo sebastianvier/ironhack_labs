{
 "cells": [
  {
   "cell_type": "code",
   "execution_count": 1,
   "id": "4dba104a",
   "metadata": {},
   "outputs": [],
   "source": [
    "import sys, math\n",
    "\n",
    "## Warnings (Sorry :( )\n",
    "import warnings\n",
    "warnings.simplefilter(action='ignore', category=FutureWarning)\n",
    "\n",
    "## EDA tools\n",
    "import numpy as np\n",
    "import pandas as pd\n",
    "import matplotlib.pyplot as plt\n",
    "import seaborn as sns"
   ]
  },
  {
   "cell_type": "code",
   "execution_count": 2,
   "id": "2a18c834",
   "metadata": {},
   "outputs": [],
   "source": [
    "## functions\n",
    "\n",
    "\n",
    "def n_outliers(df, column_name):\n",
    "    q1 = np.percentile(df[column_name], 25)\n",
    "    q3 = np.percentile(df[column_name], 75)\n",
    "    iqr = abs(q3 - q1)\n",
    "    \n",
    "    lower = df[column_name][df[column_name] < q1 - 1.5 * iqr]\n",
    "    higher = df[column_name][df[column_name] > q3 + 1.5 * iqr]\n",
    "    \n",
    "    n_lower = len(lower)\n",
    "    n_higher = len(higher)\n",
    "    n_total = len(lower) + len(higher)\n",
    "    \n",
    "    \n",
    "    array = np.array([n_lower, round(n_lower/len(df),3) , round(q1 - 1.5 * iqr,2), \n",
    "                      n_higher, round(n_higher/len(df),3),  round(q3 + 1.5 * iqr,3),\n",
    "                      n_total, round(n_total/len(df),3) ,'none']).reshape(3,3)\n",
    "    \n",
    "    result = pd.DataFrame(data=array, index=['Lower Higher Total'.split(' ')], columns=['Counts', 'Percentage',\n",
    "                                                                                        'Threshold'])\n",
    "    return result\n",
    "\n",
    "\n",
    "## Probably is a good idea to have a function that gets the q1,q3 and iqr\n",
    "def get_drop_index_iqr(column, threshold=1.5):\n",
    "    \n",
    "    q1 = np.percentile(column, 25)\n",
    "    q3 = np.percentile(column, 75)\n",
    "    iqr = abs(q3-q1)\n",
    "    \n",
    "    condition1 = column > q3 + iqr * threshold\n",
    "    condition2 = column > q1 - iqr * threshold\n",
    "    \n",
    "    result = column[condition1 & condition2].index\n",
    "    return result"
   ]
  },
  {
   "cell_type": "markdown",
   "id": "6510924c",
   "metadata": {},
   "source": [
    "1. Import the necessary libraries if you are starting a new notebook.\n",
    "2. Load the continuous and discrete variables into `continuous_df` and `discrete_df` variables.\n",
    "3. Plot a correlation matrix, what can you see?\n",
    "4. Create a function to plot every discrete variables. Do the same with continuous variables (be careful, you may change the plot type to another one better suited for continuous data).\n",
    "5. What can you see in the plots?\n",
    "6. Look for outliers in the continuous variables we have found. Hint: There was a good plot to do that.\n",
    "7. Have you found outliers? If you have, what should we do with them?\n",
    "8. Check nan values per column.\n",
    "9. Define a function that differentiate between continuous and discrete variables. Hint: Number of unique values might be useful. Store continuous data into a `continuous` variable and do the same for `discrete` and categorical.\n",
    "10. for the categorical data, check if there is some kind of text in a variable so we would need to clean it. Hint: Use the same method you used in step 7. Depending on the implementation, decide what to do with the variables you get.\n",
    "11. Get categorical features.\n",
    "12. What should we do with the customer id column?"
   ]
  },
  {
   "cell_type": "markdown",
   "id": "8932e941",
   "metadata": {},
   "source": [
    "##### 1. Import the necessary libraries if you are starting a new notebook.\n",
    "##### 2. Load the continuous and discrete variables into continuous_df and discrete_df variables.\n",
    "##### 3. Plot a correlation matrix, what can you see?"
   ]
  },
  {
   "cell_type": "code",
   "execution_count": 3,
   "id": "772aed96",
   "metadata": {},
   "outputs": [
    {
     "name": "stdout",
     "output_type": "stream",
     "text": [
      "cleaning_numerical_data.ipynb \u001b[34mfiles_for_lab\u001b[m\u001b[m\r\n",
      "continuous.csv                readme.md\r\n",
      "discrete.csv\r\n"
     ]
    }
   ],
   "source": [
    "! ls ../../week_9/lab_cleaning_numerical_data/"
   ]
  },
  {
   "cell_type": "code",
   "execution_count": 4,
   "id": "4311cc7f",
   "metadata": {},
   "outputs": [],
   "source": [
    "path = '../../week_9/lab_cleaning_numerical_data/'\n",
    "continuous_df = pd.read_csv(path + 'continuous.csv')\n",
    "discrete_df = pd.read_csv(path + 'discrete.csv')"
   ]
  },
  {
   "cell_type": "code",
   "execution_count": 5,
   "id": "37211b9b",
   "metadata": {
    "scrolled": true
   },
   "outputs": [
    {
     "data": {
      "text/html": [
       "<div>\n",
       "<style scoped>\n",
       "    .dataframe tbody tr th:only-of-type {\n",
       "        vertical-align: middle;\n",
       "    }\n",
       "\n",
       "    .dataframe tbody tr th {\n",
       "        vertical-align: top;\n",
       "    }\n",
       "\n",
       "    .dataframe thead th {\n",
       "        text-align: right;\n",
       "    }\n",
       "</style>\n",
       "<table border=\"1\" class=\"dataframe\">\n",
       "  <thead>\n",
       "    <tr style=\"text-align: right;\">\n",
       "      <th></th>\n",
       "      <th>customer_lifetime_value</th>\n",
       "      <th>income</th>\n",
       "      <th>total_claim_amount</th>\n",
       "    </tr>\n",
       "  </thead>\n",
       "  <tbody>\n",
       "    <tr>\n",
       "      <th>0</th>\n",
       "      <td>2763.519279</td>\n",
       "      <td>56274</td>\n",
       "      <td>384.811147</td>\n",
       "    </tr>\n",
       "    <tr>\n",
       "      <th>1</th>\n",
       "      <td>6979.535903</td>\n",
       "      <td>0</td>\n",
       "      <td>1131.464935</td>\n",
       "    </tr>\n",
       "    <tr>\n",
       "      <th>2</th>\n",
       "      <td>12887.431650</td>\n",
       "      <td>48767</td>\n",
       "      <td>566.472247</td>\n",
       "    </tr>\n",
       "    <tr>\n",
       "      <th>3</th>\n",
       "      <td>7645.861827</td>\n",
       "      <td>0</td>\n",
       "      <td>529.881344</td>\n",
       "    </tr>\n",
       "    <tr>\n",
       "      <th>4</th>\n",
       "      <td>2813.692575</td>\n",
       "      <td>43836</td>\n",
       "      <td>138.130879</td>\n",
       "    </tr>\n",
       "  </tbody>\n",
       "</table>\n",
       "</div>"
      ],
      "text/plain": [
       "   customer_lifetime_value  income  total_claim_amount\n",
       "0              2763.519279   56274          384.811147\n",
       "1              6979.535903       0         1131.464935\n",
       "2             12887.431650   48767          566.472247\n",
       "3              7645.861827       0          529.881344\n",
       "4              2813.692575   43836          138.130879"
      ]
     },
     "execution_count": 5,
     "metadata": {},
     "output_type": "execute_result"
    }
   ],
   "source": [
    "continuous_df.head()"
   ]
  },
  {
   "cell_type": "code",
   "execution_count": 6,
   "id": "63ff89a4",
   "metadata": {
    "scrolled": true
   },
   "outputs": [
    {
     "data": {
      "text/html": [
       "<div>\n",
       "<style scoped>\n",
       "    .dataframe tbody tr th:only-of-type {\n",
       "        vertical-align: middle;\n",
       "    }\n",
       "\n",
       "    .dataframe tbody tr th {\n",
       "        vertical-align: top;\n",
       "    }\n",
       "\n",
       "    .dataframe thead th {\n",
       "        text-align: right;\n",
       "    }\n",
       "</style>\n",
       "<table border=\"1\" class=\"dataframe\">\n",
       "  <thead>\n",
       "    <tr style=\"text-align: right;\">\n",
       "      <th></th>\n",
       "      <th>effective_to_date</th>\n",
       "      <th>monthly_premium_auto</th>\n",
       "      <th>months_since_last_claim</th>\n",
       "      <th>months_since_policy_inception</th>\n",
       "      <th>number_of_open_complaints</th>\n",
       "      <th>number_of_policies</th>\n",
       "    </tr>\n",
       "  </thead>\n",
       "  <tbody>\n",
       "    <tr>\n",
       "      <th>0</th>\n",
       "      <td>2011-02-24</td>\n",
       "      <td>69</td>\n",
       "      <td>32</td>\n",
       "      <td>5</td>\n",
       "      <td>0</td>\n",
       "      <td>1</td>\n",
       "    </tr>\n",
       "    <tr>\n",
       "      <th>1</th>\n",
       "      <td>2011-01-31</td>\n",
       "      <td>94</td>\n",
       "      <td>13</td>\n",
       "      <td>42</td>\n",
       "      <td>0</td>\n",
       "      <td>8</td>\n",
       "    </tr>\n",
       "    <tr>\n",
       "      <th>2</th>\n",
       "      <td>2011-02-19</td>\n",
       "      <td>108</td>\n",
       "      <td>18</td>\n",
       "      <td>38</td>\n",
       "      <td>0</td>\n",
       "      <td>2</td>\n",
       "    </tr>\n",
       "    <tr>\n",
       "      <th>3</th>\n",
       "      <td>2011-01-20</td>\n",
       "      <td>106</td>\n",
       "      <td>18</td>\n",
       "      <td>65</td>\n",
       "      <td>0</td>\n",
       "      <td>7</td>\n",
       "    </tr>\n",
       "    <tr>\n",
       "      <th>4</th>\n",
       "      <td>2011-02-03</td>\n",
       "      <td>73</td>\n",
       "      <td>12</td>\n",
       "      <td>44</td>\n",
       "      <td>0</td>\n",
       "      <td>1</td>\n",
       "    </tr>\n",
       "  </tbody>\n",
       "</table>\n",
       "</div>"
      ],
      "text/plain": [
       "  effective_to_date  monthly_premium_auto  months_since_last_claim  \\\n",
       "0        2011-02-24                    69                       32   \n",
       "1        2011-01-31                    94                       13   \n",
       "2        2011-02-19                   108                       18   \n",
       "3        2011-01-20                   106                       18   \n",
       "4        2011-02-03                    73                       12   \n",
       "\n",
       "   months_since_policy_inception  number_of_open_complaints  \\\n",
       "0                              5                          0   \n",
       "1                             42                          0   \n",
       "2                             38                          0   \n",
       "3                             65                          0   \n",
       "4                             44                          0   \n",
       "\n",
       "   number_of_policies  \n",
       "0                   1  \n",
       "1                   8  \n",
       "2                   2  \n",
       "3                   7  \n",
       "4                   1  "
      ]
     },
     "execution_count": 6,
     "metadata": {},
     "output_type": "execute_result"
    }
   ],
   "source": [
    "discrete_df.head()"
   ]
  },
  {
   "cell_type": "code",
   "execution_count": 7,
   "id": "bed6f3dd",
   "metadata": {},
   "outputs": [
    {
     "data": {
      "text/plain": [
       "<AxesSubplot:>"
      ]
     },
     "execution_count": 7,
     "metadata": {},
     "output_type": "execute_result"
    },
    {
     "data": {
      "image/png": "[encoded data removed]",
      "text/plain": [
       "<Figure size 432x288 with 2 Axes>"
      ]
     },
     "metadata": {
      "needs_background": "light"
     },
     "output_type": "display_data"
    }
   ],
   "source": [
    "sns.heatmap(continuous_df.corr(), annot=True, cmap='viridis')"
   ]
  },
  {
   "cell_type": "code",
   "execution_count": 8,
   "id": "1b93784d",
   "metadata": {},
   "outputs": [
    {
     "data": {
      "text/plain": [
       "<AxesSubplot:>"
      ]
     },
     "execution_count": 8,
     "metadata": {},
     "output_type": "execute_result"
    },
    {
     "data": {
      "image/png": "[encoded data removed]",
      "text/plain": [
       "<Figure size 432x288 with 2 Axes>"
      ]
     },
     "metadata": {
      "needs_background": "light"
     },
     "output_type": "display_data"
    }
   ],
   "source": [
    "sns.heatmap(discrete_df.corr(), annot=True, cmap='viridis')"
   ]
  },
  {
   "cell_type": "code",
   "execution_count": 9,
   "id": "613e19ae",
   "metadata": {},
   "outputs": [
    {
     "data": {
      "text/plain": [
       "<AxesSubplot:>"
      ]
     },
     "execution_count": 9,
     "metadata": {},
     "output_type": "execute_result"
    },
    {
     "data": {
      "image/png": "[encoded data removed]",
      "text/plain": [
       "<Figure size 432x288 with 2 Axes>"
      ]
     },
     "metadata": {
      "needs_background": "light"
     },
     "output_type": "display_data"
    }
   ],
   "source": [
    "sns.heatmap(pd.concat([continuous_df, discrete_df],axis=1).corr(), annot=True, cmap='autumn')"
   ]
  },
  {
   "cell_type": "code",
   "execution_count": 10,
   "id": "2e17ae47",
   "metadata": {},
   "outputs": [],
   "source": [
    "## We can see that there is little correlation except in the continuous values (this may be expected),\n",
    "## And the monthly_premium_auto also shows some correlation with the continuous values."
   ]
  },
  {
   "cell_type": "markdown",
   "id": "27c244a1",
   "metadata": {},
   "source": [
    "##### Look for outliers in the continuous variables we have found. Hint: There was a good plot to do that.\n",
    "##### Have you found outliers? If you have, what should we do with them?"
   ]
  },
  {
   "cell_type": "code",
   "execution_count": 11,
   "id": "72a7b585",
   "metadata": {},
   "outputs": [
    {
     "data": {
      "text/html": [
       "<div>\n",
       "<style scoped>\n",
       "    .dataframe tbody tr th:only-of-type {\n",
       "        vertical-align: middle;\n",
       "    }\n",
       "\n",
       "    .dataframe tbody tr th {\n",
       "        vertical-align: top;\n",
       "    }\n",
       "\n",
       "    .dataframe thead th {\n",
       "        text-align: right;\n",
       "    }\n",
       "</style>\n",
       "<table border=\"1\" class=\"dataframe\">\n",
       "  <thead>\n",
       "    <tr style=\"text-align: right;\">\n",
       "      <th></th>\n",
       "      <th>customer_lifetime_value</th>\n",
       "      <th>income</th>\n",
       "      <th>total_claim_amount</th>\n",
       "      <th>monthly_premium_auto</th>\n",
       "    </tr>\n",
       "  </thead>\n",
       "  <tbody>\n",
       "    <tr>\n",
       "      <th>0</th>\n",
       "      <td>2763.519279</td>\n",
       "      <td>56274</td>\n",
       "      <td>384.811147</td>\n",
       "      <td>69</td>\n",
       "    </tr>\n",
       "    <tr>\n",
       "      <th>1</th>\n",
       "      <td>6979.535903</td>\n",
       "      <td>0</td>\n",
       "      <td>1131.464935</td>\n",
       "      <td>94</td>\n",
       "    </tr>\n",
       "    <tr>\n",
       "      <th>2</th>\n",
       "      <td>12887.431650</td>\n",
       "      <td>48767</td>\n",
       "      <td>566.472247</td>\n",
       "      <td>108</td>\n",
       "    </tr>\n",
       "    <tr>\n",
       "      <th>3</th>\n",
       "      <td>7645.861827</td>\n",
       "      <td>0</td>\n",
       "      <td>529.881344</td>\n",
       "      <td>106</td>\n",
       "    </tr>\n",
       "    <tr>\n",
       "      <th>4</th>\n",
       "      <td>2813.692575</td>\n",
       "      <td>43836</td>\n",
       "      <td>138.130879</td>\n",
       "      <td>73</td>\n",
       "    </tr>\n",
       "    <tr>\n",
       "      <th>...</th>\n",
       "      <td>...</td>\n",
       "      <td>...</td>\n",
       "      <td>...</td>\n",
       "      <td>...</td>\n",
       "    </tr>\n",
       "    <tr>\n",
       "      <th>9129</th>\n",
       "      <td>23405.987980</td>\n",
       "      <td>71941</td>\n",
       "      <td>198.234764</td>\n",
       "      <td>73</td>\n",
       "    </tr>\n",
       "    <tr>\n",
       "      <th>9130</th>\n",
       "      <td>3096.511217</td>\n",
       "      <td>21604</td>\n",
       "      <td>379.200000</td>\n",
       "      <td>79</td>\n",
       "    </tr>\n",
       "    <tr>\n",
       "      <th>9131</th>\n",
       "      <td>8163.890428</td>\n",
       "      <td>0</td>\n",
       "      <td>790.784983</td>\n",
       "      <td>85</td>\n",
       "    </tr>\n",
       "    <tr>\n",
       "      <th>9132</th>\n",
       "      <td>7524.442436</td>\n",
       "      <td>21941</td>\n",
       "      <td>691.200000</td>\n",
       "      <td>96</td>\n",
       "    </tr>\n",
       "    <tr>\n",
       "      <th>9133</th>\n",
       "      <td>2611.836866</td>\n",
       "      <td>0</td>\n",
       "      <td>369.600000</td>\n",
       "      <td>77</td>\n",
       "    </tr>\n",
       "  </tbody>\n",
       "</table>\n",
       "<p>9134 rows × 4 columns</p>\n",
       "</div>"
      ],
      "text/plain": [
       "      customer_lifetime_value  income  total_claim_amount  \\\n",
       "0                 2763.519279   56274          384.811147   \n",
       "1                 6979.535903       0         1131.464935   \n",
       "2                12887.431650   48767          566.472247   \n",
       "3                 7645.861827       0          529.881344   \n",
       "4                 2813.692575   43836          138.130879   \n",
       "...                       ...     ...                 ...   \n",
       "9129             23405.987980   71941          198.234764   \n",
       "9130              3096.511217   21604          379.200000   \n",
       "9131              8163.890428       0          790.784983   \n",
       "9132              7524.442436   21941          691.200000   \n",
       "9133              2611.836866       0          369.600000   \n",
       "\n",
       "      monthly_premium_auto  \n",
       "0                       69  \n",
       "1                       94  \n",
       "2                      108  \n",
       "3                      106  \n",
       "4                       73  \n",
       "...                    ...  \n",
       "9129                    73  \n",
       "9130                    79  \n",
       "9131                    85  \n",
       "9132                    96  \n",
       "9133                    77  \n",
       "\n",
       "[9134 rows x 4 columns]"
      ]
     },
     "execution_count": 11,
     "metadata": {},
     "output_type": "execute_result"
    }
   ],
   "source": [
    "pd.concat([continuous_df, discrete_df.monthly_premium_auto], axis=1)\n",
    "## As monthly premium auto is behaving like a discrete value I would run it as so."
   ]
  },
  {
   "cell_type": "code",
   "execution_count": 12,
   "id": "e61662ca",
   "metadata": {},
   "outputs": [
    {
     "data": {
      "text/plain": [
       "<AxesSubplot:xlabel='customer_lifetime_value'>"
      ]
     },
     "execution_count": 12,
     "metadata": {},
     "output_type": "execute_result"
    },
    {
     "data": {
      "image/png": "[encoded data removed]",
      "text/plain": [
       "<Figure size 432x288 with 1 Axes>"
      ]
     },
     "metadata": {
      "needs_background": "light"
     },
     "output_type": "display_data"
    }
   ],
   "source": [
    "sns.boxplot(data=continuous_df,x='customer_lifetime_value')"
   ]
  },
  {
   "cell_type": "code",
   "execution_count": 13,
   "id": "8e063a70",
   "metadata": {},
   "outputs": [
    {
     "data": {
      "text/plain": [
       "<AxesSubplot:xlabel='income'>"
      ]
     },
     "execution_count": 13,
     "metadata": {},
     "output_type": "execute_result"
    },
    {
     "data": {
      "image/png": "[encoded data removed]",
      "text/plain": [
       "<Figure size 432x288 with 1 Axes>"
      ]
     },
     "metadata": {
      "needs_background": "light"
     },
     "output_type": "display_data"
    }
   ],
   "source": [
    "sns.boxplot(data=continuous_df,x='income')"
   ]
  },
  {
   "cell_type": "code",
   "execution_count": 14,
   "id": "8cde9e9e",
   "metadata": {},
   "outputs": [
    {
     "data": {
      "text/plain": [
       "<AxesSubplot:xlabel='total_claim_amount'>"
      ]
     },
     "execution_count": 14,
     "metadata": {},
     "output_type": "execute_result"
    },
    {
     "data": {
      "image/png": "[encoded data removed]",
      "text/plain": [
       "<Figure size 432x288 with 1 Axes>"
      ]
     },
     "metadata": {
      "needs_background": "light"
     },
     "output_type": "display_data"
    }
   ],
   "source": [
    "sns.boxplot(data=continuous_df,x='total_claim_amount')"
   ]
  },
  {
   "cell_type": "code",
   "execution_count": 15,
   "id": "447ef229",
   "metadata": {},
   "outputs": [
    {
     "data": {
      "text/plain": [
       "<AxesSubplot:xlabel='monthly_premium_auto'>"
      ]
     },
     "execution_count": 15,
     "metadata": {},
     "output_type": "execute_result"
    },
    {
     "data": {
      "image/png": "[encoded data removed]",
      "text/plain": [
       "<Figure size 432x288 with 1 Axes>"
      ]
     },
     "metadata": {
      "needs_background": "light"
     },
     "output_type": "display_data"
    }
   ],
   "source": [
    "sns.boxplot(data=discrete_df,x='monthly_premium_auto')"
   ]
  },
  {
   "cell_type": "markdown",
   "id": "867493f7",
   "metadata": {},
   "source": [
    "The first thing we can do is try apply a **log transformation** to **total_claim_amount** and **customer_life_time value**.\n",
    "<br>For might want to have a better look at their **distributions** and try to understand what this values **represent**."
   ]
  },
  {
   "cell_type": "code",
   "execution_count": 16,
   "id": "a72c9089",
   "metadata": {},
   "outputs": [
    {
     "data": {
      "text/plain": [
       "<seaborn.axisgrid.FacetGrid at 0x7fabb9bc4a00>"
      ]
     },
     "execution_count": 16,
     "metadata": {},
     "output_type": "execute_result"
    },
    {
     "data": {
      "image/png": "[encoded data removed]",
      "text/plain": [
       "<Figure size 360x360 with 1 Axes>"
      ]
     },
     "metadata": {
      "needs_background": "light"
     },
     "output_type": "display_data"
    }
   ],
   "source": [
    "sns.displot(data=continuous_df, x='customer_lifetime_value')"
   ]
  },
  {
   "cell_type": "code",
   "execution_count": 17,
   "id": "e2d3a582",
   "metadata": {
    "scrolled": true
   },
   "outputs": [
    {
     "data": {
      "text/plain": [
       "1730    19014.47625\n",
       "5041    19045.50012\n",
       "834     19069.49954\n",
       "5712    19079.09518\n",
       "3769    19088.34203\n",
       "1462    19116.56806\n",
       "2607    19160.98994\n",
       "4848    19160.98994\n",
       "1200    19160.98994\n",
       "1364    19160.98994\n",
       "Name: customer_lifetime_value, dtype: float64"
      ]
     },
     "execution_count": 17,
     "metadata": {},
     "output_type": "execute_result"
    }
   ],
   "source": [
    "continuous_df.customer_lifetime_value.sort_values().iloc[8500:8510]"
   ]
  },
  {
   "cell_type": "code",
   "execution_count": 18,
   "id": "63b319dc",
   "metadata": {
    "scrolled": true
   },
   "outputs": [
    {
     "data": {
      "text/html": [
       "<div>\n",
       "<style scoped>\n",
       "    .dataframe tbody tr th:only-of-type {\n",
       "        vertical-align: middle;\n",
       "    }\n",
       "\n",
       "    .dataframe tbody tr th {\n",
       "        vertical-align: top;\n",
       "    }\n",
       "\n",
       "    .dataframe thead th {\n",
       "        text-align: right;\n",
       "    }\n",
       "</style>\n",
       "<table border=\"1\" class=\"dataframe\">\n",
       "  <thead>\n",
       "    <tr style=\"text-align: right;\">\n",
       "      <th></th>\n",
       "      <th>customer_lifetime_value</th>\n",
       "      <th>income</th>\n",
       "      <th>total_claim_amount</th>\n",
       "    </tr>\n",
       "  </thead>\n",
       "  <tbody>\n",
       "    <tr>\n",
       "      <th>8177</th>\n",
       "      <td>4647.423581</td>\n",
       "      <td>28314</td>\n",
       "      <td>580.800000</td>\n",
       "    </tr>\n",
       "    <tr>\n",
       "      <th>1367</th>\n",
       "      <td>8024.992989</td>\n",
       "      <td>38702</td>\n",
       "      <td>253.364333</td>\n",
       "    </tr>\n",
       "    <tr>\n",
       "      <th>6201</th>\n",
       "      <td>2926.522300</td>\n",
       "      <td>23656</td>\n",
       "      <td>384.000000</td>\n",
       "    </tr>\n",
       "  </tbody>\n",
       "</table>\n",
       "</div>"
      ],
      "text/plain": [
       "      customer_lifetime_value  income  total_claim_amount\n",
       "8177              4647.423581   28314          580.800000\n",
       "1367              8024.992989   38702          253.364333\n",
       "6201              2926.522300   23656          384.000000"
      ]
     },
     "execution_count": 18,
     "metadata": {},
     "output_type": "execute_result"
    }
   ],
   "source": [
    "continuous_df[continuous_df.income != 0].sample(3)"
   ]
  },
  {
   "cell_type": "markdown",
   "id": "0987eb5f",
   "metadata": {},
   "source": [
    "Seems that the income is **yearly calculated**; and that the **customer_lifetime_value** is measured also in dollars\n",
    "(or the currency they are using). Total_claim_amount also seems to be calculated in dollars."
   ]
  },
  {
   "cell_type": "code",
   "execution_count": 19,
   "id": "f89aab1f",
   "metadata": {},
   "outputs": [],
   "source": [
    "## Lets apply some log transformation to the clv and the tca; to check if we can \n",
    "## have a distribution with less outliers."
   ]
  },
  {
   "cell_type": "code",
   "execution_count": 20,
   "id": "fb1308b9",
   "metadata": {
    "scrolled": true
   },
   "outputs": [
    {
     "data": {
      "image/png": "[encoded data removed]",
      "text/plain": [
       "<Figure size 432x288 with 1 Axes>"
      ]
     },
     "metadata": {
      "needs_background": "light"
     },
     "output_type": "display_data"
    }
   ],
   "source": [
    "plt.hist(np.log1p(continuous_df.customer_lifetime_value), bins=100)\n",
    "plt.show()"
   ]
  },
  {
   "cell_type": "code",
   "execution_count": 21,
   "id": "04bd703c",
   "metadata": {},
   "outputs": [
    {
     "data": {
      "image/png": "[encoded data removed]",
      "text/plain": [
       "<Figure size 432x288 with 2 Axes>"
      ]
     },
     "metadata": {
      "needs_background": "light"
     },
     "output_type": "display_data"
    }
   ],
   "source": [
    "fig, ax =  plt.subplots(ncols=2)\n",
    "sns.boxplot(continuous_df.customer_lifetime_value, ax=ax[0])\n",
    "ax[0].set_title('Without log')\n",
    "sns.boxplot(np.log1p(continuous_df.customer_lifetime_value), ax=ax[1])\n",
    "ax[1].set_title('With log')\n",
    "plt.show()"
   ]
  },
  {
   "cell_type": "code",
   "execution_count": 22,
   "id": "4b319ae7",
   "metadata": {
    "scrolled": false
   },
   "outputs": [
    {
     "data": {
      "image/png": "[encoded data removed]",
      "text/plain": [
       "<Figure size 432x288 with 2 Axes>"
      ]
     },
     "metadata": {
      "needs_background": "light"
     },
     "output_type": "display_data"
    }
   ],
   "source": [
    "fig, ax =  plt.subplots(ncols=2)\n",
    "ax[0].hist(continuous_df.total_claim_amount, bins=100)\n",
    "ax[0].set_title('Without log')\n",
    "ax[1].hist(np.log(continuous_df.total_claim_amount), bins=100)\n",
    "ax[1].set_title('With log')\n",
    "plt.show()\n",
    "\n",
    "\n",
    "plt.show()"
   ]
  },
  {
   "cell_type": "code",
   "execution_count": 23,
   "id": "072467cd",
   "metadata": {},
   "outputs": [],
   "source": [
    "## This doesn't seem to make much sense."
   ]
  },
  {
   "cell_type": "code",
   "execution_count": 24,
   "id": "8306e373",
   "metadata": {},
   "outputs": [
    {
     "data": {
      "image/png": "[encoded data removed]",
      "text/plain": [
       "<Figure size 432x288 with 2 Axes>"
      ]
     },
     "metadata": {
      "needs_background": "light"
     },
     "output_type": "display_data"
    }
   ],
   "source": [
    "fig, ax =  plt.subplots(ncols=2)\n",
    "sns.boxplot(continuous_df.total_claim_amount, ax=ax[0])\n",
    "ax[0].set_title('Without log')\n",
    "sns.boxplot(np.log1p(continuous_df.total_claim_amount), ax=ax[1])\n",
    "ax[1].set_title('With log')\n",
    "plt.show()"
   ]
  },
  {
   "cell_type": "code",
   "execution_count": 25,
   "id": "2aedc8cf",
   "metadata": {},
   "outputs": [],
   "source": [
    "## For some reasons there are not many outliers in the income column."
   ]
  },
  {
   "cell_type": "code",
   "execution_count": 26,
   "id": "84f7c1e6",
   "metadata": {
    "scrolled": true
   },
   "outputs": [
    {
     "data": {
      "image/png": "[encoded data removed]",
      "text/plain": [
       "<Figure size 432x288 with 2 Axes>"
      ]
     },
     "metadata": {
      "needs_background": "light"
     },
     "output_type": "display_data"
    }
   ],
   "source": [
    "fig, ax =  plt.subplots(ncols=2)\n",
    "ax[0].hist(continuous_df.income, bins=100)\n",
    "ax[0].set_title('Without log')\n",
    "ax[1].hist(np.log1p(continuous_df.income), bins=100)\n",
    "ax[1].set_title('With log')\n",
    "plt.show()\n",
    "\n",
    "\n",
    "plt.show()"
   ]
  },
  {
   "cell_type": "code",
   "execution_count": 27,
   "id": "bc80bbad",
   "metadata": {
    "scrolled": true
   },
   "outputs": [
    {
     "data": {
      "image/png": "[encoded data removed]",
      "text/plain": [
       "<Figure size 432x288 with 2 Axes>"
      ]
     },
     "metadata": {
      "needs_background": "light"
     },
     "output_type": "display_data"
    }
   ],
   "source": [
    "continuous_df.income[continuous_df.income != 0]\n",
    "\n",
    "fig, ax =  plt.subplots(ncols=2)\n",
    "ax[0].hist(continuous_df.income[continuous_df.income != 0], bins=100)\n",
    "ax[0].set_title('Without log')\n",
    "ax[1].hist(np.log1p(continuous_df.income[continuous_df.income != 0]), bins=100)\n",
    "ax[1].set_title('With log')\n",
    "plt.show()\n",
    "\n",
    "plt.show()"
   ]
  },
  {
   "cell_type": "code",
   "execution_count": 28,
   "id": "3b2792fc",
   "metadata": {},
   "outputs": [
    {
     "data": {
      "image/png": "[encoded data removed]",
      "text/plain": [
       "<Figure size 432x288 with 2 Axes>"
      ]
     },
     "metadata": {
      "needs_background": "light"
     },
     "output_type": "display_data"
    }
   ],
   "source": [
    "continuous_df.income[continuous_df.income != 0]\n",
    "\n",
    "\n",
    "fig, ax =  plt.subplots(ncols=2)\n",
    "ax[0].hist(discrete_df.monthly_premium_auto, bins=100)\n",
    "ax[0].set_title('Without log')\n",
    "ax[1].hist(np.log1p(discrete_df.monthly_premium_auto), bins=100)\n",
    "ax[1].set_title('With log')\n",
    "plt.show()\n",
    "\n",
    "plt.show()"
   ]
  },
  {
   "cell_type": "code",
   "execution_count": 29,
   "id": "d846af73",
   "metadata": {},
   "outputs": [
    {
     "data": {
      "text/plain": [
       "33889.5"
      ]
     },
     "execution_count": 29,
     "metadata": {},
     "output_type": "execute_result"
    }
   ],
   "source": [
    "np.percentile(continuous_df.income, 50)"
   ]
  },
  {
   "cell_type": "code",
   "execution_count": 30,
   "id": "0947e5da",
   "metadata": {},
   "outputs": [
    {
     "data": {
      "text/html": [
       "<div>\n",
       "<style scoped>\n",
       "    .dataframe tbody tr th:only-of-type {\n",
       "        vertical-align: middle;\n",
       "    }\n",
       "\n",
       "    .dataframe tbody tr th {\n",
       "        vertical-align: top;\n",
       "    }\n",
       "\n",
       "    .dataframe thead th {\n",
       "        text-align: right;\n",
       "    }\n",
       "</style>\n",
       "<table border=\"1\" class=\"dataframe\">\n",
       "  <thead>\n",
       "    <tr style=\"text-align: right;\">\n",
       "      <th></th>\n",
       "      <th>customer_lifetime_value</th>\n",
       "      <th>income</th>\n",
       "      <th>total_claim_amount</th>\n",
       "    </tr>\n",
       "  </thead>\n",
       "  <tbody>\n",
       "    <tr>\n",
       "      <th>count</th>\n",
       "      <td>9134.000000</td>\n",
       "      <td>9134.000000</td>\n",
       "      <td>9134.000000</td>\n",
       "    </tr>\n",
       "    <tr>\n",
       "      <th>mean</th>\n",
       "      <td>8004.940475</td>\n",
       "      <td>37657.380009</td>\n",
       "      <td>434.088794</td>\n",
       "    </tr>\n",
       "    <tr>\n",
       "      <th>std</th>\n",
       "      <td>6870.967608</td>\n",
       "      <td>30379.904734</td>\n",
       "      <td>290.500092</td>\n",
       "    </tr>\n",
       "    <tr>\n",
       "      <th>min</th>\n",
       "      <td>1898.007675</td>\n",
       "      <td>0.000000</td>\n",
       "      <td>0.099007</td>\n",
       "    </tr>\n",
       "    <tr>\n",
       "      <th>25%</th>\n",
       "      <td>3994.251794</td>\n",
       "      <td>0.000000</td>\n",
       "      <td>272.258244</td>\n",
       "    </tr>\n",
       "    <tr>\n",
       "      <th>50%</th>\n",
       "      <td>5780.182197</td>\n",
       "      <td>33889.500000</td>\n",
       "      <td>383.945434</td>\n",
       "    </tr>\n",
       "    <tr>\n",
       "      <th>75%</th>\n",
       "      <td>8962.167041</td>\n",
       "      <td>62320.000000</td>\n",
       "      <td>547.514839</td>\n",
       "    </tr>\n",
       "    <tr>\n",
       "      <th>max</th>\n",
       "      <td>83325.381190</td>\n",
       "      <td>99981.000000</td>\n",
       "      <td>2893.239678</td>\n",
       "    </tr>\n",
       "  </tbody>\n",
       "</table>\n",
       "</div>"
      ],
      "text/plain": [
       "       customer_lifetime_value        income  total_claim_amount\n",
       "count              9134.000000   9134.000000         9134.000000\n",
       "mean               8004.940475  37657.380009          434.088794\n",
       "std                6870.967608  30379.904734          290.500092\n",
       "min                1898.007675      0.000000            0.099007\n",
       "25%                3994.251794      0.000000          272.258244\n",
       "50%                5780.182197  33889.500000          383.945434\n",
       "75%                8962.167041  62320.000000          547.514839\n",
       "max               83325.381190  99981.000000         2893.239678"
      ]
     },
     "execution_count": 30,
     "metadata": {},
     "output_type": "execute_result"
    }
   ],
   "source": [
    "continuous_df.describe()"
   ]
  },
  {
   "cell_type": "code",
   "execution_count": 31,
   "id": "fea046b7",
   "metadata": {},
   "outputs": [
    {
     "name": "stdout",
     "output_type": "stream",
     "text": [
      "monthly_premium_auto\n",
      "\n",
      "       Counts Percentage Threshold\n",
      "Lower       0        0.0       6.5\n",
      "Higher    430      0.047     170.5\n",
      "Total     430      0.047      none\n",
      "\n",
      "\n",
      "\n",
      "customer_lifetime_value\n",
      "\n",
      "       Counts Percentage Threshold\n",
      "Lower       0        0.0  -3457.62\n",
      "Higher    817      0.089  16414.04\n",
      "Total     817      0.089      none\n",
      "\n",
      "\n",
      "\n",
      "income\n",
      "\n",
      "       Counts Percentage Threshold\n",
      "Lower       0        0.0  -93480.0\n",
      "Higher      0        0.0  155800.0\n",
      "Total       0        0.0      none\n",
      "\n",
      "\n",
      "\n",
      "total_claim_amount\n",
      "\n",
      "       Counts Percentage Threshold\n",
      "Lower       0        0.0   -140.63\n",
      "Higher    453       0.05     960.4\n",
      "Total     453       0.05      none\n",
      "\n",
      "\n",
      "\n"
     ]
    }
   ],
   "source": [
    "n_outliers(continuous_df, 'customer_lifetime_value')\n",
    "\n",
    "testing_outlier_df = pd.concat([discrete_df.monthly_premium_auto, continuous_df], axis=1)\n",
    "\n",
    "for column_name in testing_outlier_df.columns:\n",
    "    print(f'{column_name}\\n')\n",
    "    print(n_outliers(testing_outlier_df, column_name))\n",
    "    print('\\n\\n')"
   ]
  },
  {
   "cell_type": "markdown",
   "id": "9f7aa23c",
   "metadata": {},
   "source": [
    "In order to **minimize outliers** we have 3 **options**:\n",
    "  <br> 1) Try a **Log Transformation**\n",
    "  <br> 2) **Replace** values\n",
    "  <br> 3) **Drop** values.\n",
    "  \n",
    "<br> The order is important because whenever makes sense to use a log transformation it is [almost] always a good idea to perform one. <br> And we preferer replace the values before we drop them."
   ]
  },
  {
   "cell_type": "code",
   "execution_count": 32,
   "id": "3f6725d5",
   "metadata": {},
   "outputs": [
    {
     "name": "stdout",
     "output_type": "stream",
     "text": [
      "without_log\n",
      "\n",
      "       Counts Percentage Threshold\n",
      "Lower       0        0.0  -3457.62\n",
      "Higher    817      0.089  16414.04\n",
      "Total     817      0.089      none\n",
      "\n",
      "\n",
      "\n",
      "with_log\n",
      "\n",
      "       Counts Percentage Threshold\n",
      "Lower       0        0.0      7.08\n",
      "Higher    186       0.02    10.313\n",
      "Total     186       0.02      none\n",
      "\n",
      "\n",
      "\n"
     ]
    }
   ],
   "source": [
    "# testing log transformation on customer_lifetime_value.\n",
    "column = 'customer_lifetime_value'\n",
    "testing_outliers_df = pd.concat([continuous_df[column], np.log1p(continuous_df[column])],\n",
    "                              axis=1)\n",
    "testing_outliers_df.columns = 'without_log with_log'.split()\n",
    "\n",
    "for column_name in testing_outliers_df.columns:\n",
    "    print(f'{column_name}\\n')\n",
    "    print(n_outliers(testing_outliers_df, column_name))\n",
    "    print('\\n\\n')"
   ]
  },
  {
   "cell_type": "code",
   "execution_count": 33,
   "id": "1f9a4ade",
   "metadata": {},
   "outputs": [
    {
     "name": "stdout",
     "output_type": "stream",
     "text": [
      "without_log\n",
      "\n",
      "       Counts Percentage Threshold\n",
      "Lower       0        0.0  -93480.0\n",
      "Higher      0        0.0  155800.0\n",
      "Total       0        0.0      none\n",
      "\n",
      "\n",
      "\n",
      "with_log\n",
      "\n",
      "       Counts Percentage Threshold\n",
      "Lower       0        0.0    -16.56\n",
      "Higher      0        0.0      27.6\n",
      "Total       0        0.0      none\n",
      "\n",
      "\n",
      "\n"
     ]
    }
   ],
   "source": [
    "# testing log transformation on income.\n",
    "column = 'income'\n",
    "testing_outliers_df = pd.concat([continuous_df[column], np.log1p(continuous_df[column])],\n",
    "                              axis=1)\n",
    "testing_outliers_df.columns = 'without_log with_log'.split()\n",
    "\n",
    "for column_name in testing_outliers_df.columns:\n",
    "    print(f'{column_name}\\n')\n",
    "    print(n_outliers(testing_outliers_df, column_name))\n",
    "    print('\\n\\n')"
   ]
  },
  {
   "cell_type": "code",
   "execution_count": 34,
   "id": "18007116",
   "metadata": {
    "scrolled": true
   },
   "outputs": [
    {
     "name": "stdout",
     "output_type": "stream",
     "text": [
      "without_log\n",
      "\n",
      "       Counts Percentage Threshold\n",
      "Lower       0        0.0   -140.63\n",
      "Higher    453       0.05     960.4\n",
      "Total     453       0.05      none\n",
      "\n",
      "\n",
      "\n",
      "with_log\n",
      "\n",
      "       Counts Percentage Threshold\n",
      "Lower     842      0.092      4.57\n",
      "Higher     57      0.006     7.352\n",
      "Total     899      0.098      none\n",
      "\n",
      "\n",
      "\n"
     ]
    }
   ],
   "source": [
    "# testing log transformation on total_claim_amount.\n",
    "column = 'total_claim_amount'\n",
    "testing_outliers_df = pd.concat([continuous_df[column], np.log1p(continuous_df[column])],\n",
    "                              axis=1)\n",
    "testing_outliers_df.columns = 'without_log with_log'.split()\n",
    "\n",
    "for column_name in testing_outliers_df.columns:\n",
    "    print(f'{column_name}\\n')\n",
    "    print(n_outliers(testing_outliers_df, column_name))\n",
    "    print('\\n\\n')"
   ]
  },
  {
   "cell_type": "code",
   "execution_count": 35,
   "id": "2b284118",
   "metadata": {
    "scrolled": true
   },
   "outputs": [
    {
     "name": "stdout",
     "output_type": "stream",
     "text": [
      "without_log\n",
      "\n",
      "       Counts Percentage Threshold\n",
      "Lower       0        0.0       6.5\n",
      "Higher    430      0.047     170.5\n",
      "Total     430      0.047      none\n",
      "\n",
      "\n",
      "\n",
      "with_log\n",
      "\n",
      "       Counts Percentage Threshold\n",
      "Lower       0        0.0      3.53\n",
      "Higher    106      0.012       5.4\n",
      "Total     106      0.012      none\n",
      "\n",
      "\n",
      "\n"
     ]
    }
   ],
   "source": [
    "# testing log transformation on monthly_premium_auto.\n",
    "column = 'monthly_premium_auto'\n",
    "testing_outliers_df = pd.concat([discrete_df[column], np.log1p(discrete_df[column])],\n",
    "                              axis=1)\n",
    "testing_outliers_df.columns = 'without_log with_log'.split()\n",
    "\n",
    "for column_name in testing_outliers_df.columns:\n",
    "    print(f'{column_name}\\n')\n",
    "    print(n_outliers(testing_outliers_df, column_name))\n",
    "    print('\\n\\n')"
   ]
  },
  {
   "cell_type": "code",
   "execution_count": 36,
   "id": "2bfd8178",
   "metadata": {
    "scrolled": true
   },
   "outputs": [
    {
     "data": {
      "image/png": "[encoded data removed]",
      "text/plain": [
       "<Figure size 432x288 with 1 Axes>"
      ]
     },
     "metadata": {
      "needs_background": "light"
     },
     "output_type": "display_data"
    }
   ],
   "source": [
    "plt.hist(discrete_df.monthly_premium_auto, bins=10)\n",
    "plt.show()"
   ]
  },
  {
   "cell_type": "code",
   "execution_count": 37,
   "id": "991718c4",
   "metadata": {
    "scrolled": true
   },
   "outputs": [
    {
     "data": {
      "text/plain": [
       "4587     62\n",
       "7       101\n",
       "2357     78\n",
       "1723     67\n",
       "6593     62\n",
       "2394     72\n",
       "74       65\n",
       "3879    111\n",
       "5321     70\n",
       "6005    118\n",
       "Name: monthly_premium_auto, dtype: int64"
      ]
     },
     "execution_count": 37,
     "metadata": {},
     "output_type": "execute_result"
    }
   ],
   "source": [
    "discrete_df.monthly_premium_auto.sample(10)"
   ]
  },
  {
   "cell_type": "code",
   "execution_count": 38,
   "id": "d5f44e47",
   "metadata": {},
   "outputs": [],
   "source": [
    "continuous_df = pd.concat([continuous_df, discrete_df.monthly_premium_auto], axis=1)"
   ]
  },
  {
   "cell_type": "code",
   "execution_count": 39,
   "id": "0323f5c3",
   "metadata": {},
   "outputs": [],
   "source": [
    "continuous_df['customer_lifetime_value'] = np.log1p(continuous_df.customer_lifetime_value)\n",
    "continuous_df['monthly_premium_auto'] = np.log1p(continuous_df.monthly_premium_auto)"
   ]
  },
  {
   "cell_type": "code",
   "execution_count": 40,
   "id": "004724ef",
   "metadata": {
    "scrolled": true
   },
   "outputs": [
    {
     "data": {
      "text/html": [
       "<div>\n",
       "<style scoped>\n",
       "    .dataframe tbody tr th:only-of-type {\n",
       "        vertical-align: middle;\n",
       "    }\n",
       "\n",
       "    .dataframe tbody tr th {\n",
       "        vertical-align: top;\n",
       "    }\n",
       "\n",
       "    .dataframe thead th {\n",
       "        text-align: right;\n",
       "    }\n",
       "</style>\n",
       "<table border=\"1\" class=\"dataframe\">\n",
       "  <thead>\n",
       "    <tr style=\"text-align: right;\">\n",
       "      <th></th>\n",
       "      <th>customer_lifetime_value</th>\n",
       "      <th>income</th>\n",
       "      <th>total_claim_amount</th>\n",
       "      <th>monthly_premium_auto</th>\n",
       "    </tr>\n",
       "  </thead>\n",
       "  <tbody>\n",
       "    <tr>\n",
       "      <th>count</th>\n",
       "      <td>9134.000000</td>\n",
       "      <td>9134.000000</td>\n",
       "      <td>9134.000000</td>\n",
       "      <td>9134.000000</td>\n",
       "    </tr>\n",
       "    <tr>\n",
       "      <th>mean</th>\n",
       "      <td>8.748753</td>\n",
       "      <td>37657.380009</td>\n",
       "      <td>434.088794</td>\n",
       "      <td>4.494058</td>\n",
       "    </tr>\n",
       "    <tr>\n",
       "      <th>std</th>\n",
       "      <td>0.652816</td>\n",
       "      <td>30379.904734</td>\n",
       "      <td>290.500092</td>\n",
       "      <td>0.304920</td>\n",
       "    </tr>\n",
       "    <tr>\n",
       "      <th>min</th>\n",
       "      <td>7.549087</td>\n",
       "      <td>0.000000</td>\n",
       "      <td>0.099007</td>\n",
       "      <td>4.127134</td>\n",
       "    </tr>\n",
       "    <tr>\n",
       "      <th>25%</th>\n",
       "      <td>8.292862</td>\n",
       "      <td>0.000000</td>\n",
       "      <td>272.258244</td>\n",
       "      <td>4.234107</td>\n",
       "    </tr>\n",
       "    <tr>\n",
       "      <th>50%</th>\n",
       "      <td>8.662363</td>\n",
       "      <td>33889.500000</td>\n",
       "      <td>383.945434</td>\n",
       "      <td>4.430817</td>\n",
       "    </tr>\n",
       "    <tr>\n",
       "      <th>75%</th>\n",
       "      <td>9.100879</td>\n",
       "      <td>62320.000000</td>\n",
       "      <td>547.514839</td>\n",
       "      <td>4.700480</td>\n",
       "    </tr>\n",
       "    <tr>\n",
       "      <th>max</th>\n",
       "      <td>11.330520</td>\n",
       "      <td>99981.000000</td>\n",
       "      <td>2893.239678</td>\n",
       "      <td>5.700444</td>\n",
       "    </tr>\n",
       "  </tbody>\n",
       "</table>\n",
       "</div>"
      ],
      "text/plain": [
       "       customer_lifetime_value        income  total_claim_amount  \\\n",
       "count              9134.000000   9134.000000         9134.000000   \n",
       "mean                  8.748753  37657.380009          434.088794   \n",
       "std                   0.652816  30379.904734          290.500092   \n",
       "min                   7.549087      0.000000            0.099007   \n",
       "25%                   8.292862      0.000000          272.258244   \n",
       "50%                   8.662363  33889.500000          383.945434   \n",
       "75%                   9.100879  62320.000000          547.514839   \n",
       "max                  11.330520  99981.000000         2893.239678   \n",
       "\n",
       "       monthly_premium_auto  \n",
       "count           9134.000000  \n",
       "mean               4.494058  \n",
       "std                0.304920  \n",
       "min                4.127134  \n",
       "25%                4.234107  \n",
       "50%                4.430817  \n",
       "75%                4.700480  \n",
       "max                5.700444  "
      ]
     },
     "execution_count": 40,
     "metadata": {},
     "output_type": "execute_result"
    }
   ],
   "source": [
    "continuous_df.describe()"
   ]
  },
  {
   "cell_type": "code",
   "execution_count": 41,
   "id": "b7dd0ad9",
   "metadata": {
    "scrolled": true
   },
   "outputs": [
    {
     "name": "stdout",
     "output_type": "stream",
     "text": [
      "434.0887943128942\n"
     ]
    },
    {
     "data": {
      "image/png": "[encoded data removed]",
      "text/plain": [
       "<Figure size 432x288 with 1 Axes>"
      ]
     },
     "metadata": {
      "needs_background": "light"
     },
     "output_type": "display_data"
    }
   ],
   "source": [
    "print(continuous_df.total_claim_amount.mean())\n",
    "plt.hist(continuous_df.total_claim_amount, bins=100)\n",
    "plt.show()"
   ]
  },
  {
   "cell_type": "code",
   "execution_count": 42,
   "id": "a6b3d84f",
   "metadata": {
    "scrolled": true
   },
   "outputs": [
    {
     "data": {
      "text/html": [
       "<div>\n",
       "<style scoped>\n",
       "    .dataframe tbody tr th:only-of-type {\n",
       "        vertical-align: middle;\n",
       "    }\n",
       "\n",
       "    .dataframe tbody tr th {\n",
       "        vertical-align: top;\n",
       "    }\n",
       "\n",
       "    .dataframe thead th {\n",
       "        text-align: right;\n",
       "    }\n",
       "</style>\n",
       "<table border=\"1\" class=\"dataframe\">\n",
       "  <thead>\n",
       "    <tr style=\"text-align: right;\">\n",
       "      <th></th>\n",
       "      <th>Counts</th>\n",
       "      <th>Percentage</th>\n",
       "      <th>Threshold</th>\n",
       "    </tr>\n",
       "  </thead>\n",
       "  <tbody>\n",
       "    <tr>\n",
       "      <th>Lower</th>\n",
       "      <td>0</td>\n",
       "      <td>0.0</td>\n",
       "      <td>-140.63</td>\n",
       "    </tr>\n",
       "    <tr>\n",
       "      <th>Higher</th>\n",
       "      <td>453</td>\n",
       "      <td>0.05</td>\n",
       "      <td>960.4</td>\n",
       "    </tr>\n",
       "    <tr>\n",
       "      <th>Total</th>\n",
       "      <td>453</td>\n",
       "      <td>0.05</td>\n",
       "      <td>none</td>\n",
       "    </tr>\n",
       "  </tbody>\n",
       "</table>\n",
       "</div>"
      ],
      "text/plain": [
       "       Counts Percentage Threshold\n",
       "Lower       0        0.0   -140.63\n",
       "Higher    453       0.05     960.4\n",
       "Total     453       0.05      none"
      ]
     },
     "execution_count": 42,
     "metadata": {},
     "output_type": "execute_result"
    }
   ],
   "source": [
    "n_outliers(continuous_df, 'total_claim_amount')"
   ]
  },
  {
   "cell_type": "code",
   "execution_count": 43,
   "id": "1a4ffbb4",
   "metadata": {},
   "outputs": [],
   "source": [
    "## Does it make sense to assing the mean to the outliers and if yes, why?\n",
    "## I don't think so, because the total_claim_amount is a bigger proble if \n",
    "## people start asking for more money."
   ]
  },
  {
   "cell_type": "code",
   "execution_count": 44,
   "id": "038b2c2d",
   "metadata": {},
   "outputs": [],
   "source": [
    "condition1 = continuous_df.total_claim_amount > 1000 \n",
    "condition2 = continuous_df.income == 0\n",
    "drop_index_1 = continuous_df[['income', 'total_claim_amount']][condition1 & condition2].index"
   ]
  },
  {
   "cell_type": "code",
   "execution_count": 45,
   "id": "aaf9481e",
   "metadata": {},
   "outputs": [],
   "source": [
    "## droping the rows where the total_claim is an outlier and the income is 0\n",
    "continuous_df = continuous_df.drop(drop_index_1)"
   ]
  },
  {
   "cell_type": "code",
   "execution_count": 46,
   "id": "c7261498",
   "metadata": {
    "scrolled": true
   },
   "outputs": [
    {
     "data": {
      "text/html": [
       "<div>\n",
       "<style scoped>\n",
       "    .dataframe tbody tr th:only-of-type {\n",
       "        vertical-align: middle;\n",
       "    }\n",
       "\n",
       "    .dataframe tbody tr th {\n",
       "        vertical-align: top;\n",
       "    }\n",
       "\n",
       "    .dataframe thead th {\n",
       "        text-align: right;\n",
       "    }\n",
       "</style>\n",
       "<table border=\"1\" class=\"dataframe\">\n",
       "  <thead>\n",
       "    <tr style=\"text-align: right;\">\n",
       "      <th></th>\n",
       "      <th>Counts</th>\n",
       "      <th>Percentage</th>\n",
       "      <th>Threshold</th>\n",
       "    </tr>\n",
       "  </thead>\n",
       "  <tbody>\n",
       "    <tr>\n",
       "      <th>Lower</th>\n",
       "      <td>0</td>\n",
       "      <td>0.0</td>\n",
       "      <td>-145.12</td>\n",
       "    </tr>\n",
       "    <tr>\n",
       "      <th>Higher</th>\n",
       "      <td>265</td>\n",
       "      <td>0.03</td>\n",
       "      <td>947.231</td>\n",
       "    </tr>\n",
       "    <tr>\n",
       "      <th>Total</th>\n",
       "      <td>265</td>\n",
       "      <td>0.03</td>\n",
       "      <td>none</td>\n",
       "    </tr>\n",
       "  </tbody>\n",
       "</table>\n",
       "</div>"
      ],
      "text/plain": [
       "       Counts Percentage Threshold\n",
       "Lower       0        0.0   -145.12\n",
       "Higher    265       0.03   947.231\n",
       "Total     265       0.03      none"
      ]
     },
     "execution_count": 46,
     "metadata": {},
     "output_type": "execute_result"
    }
   ],
   "source": [
    "n_outliers(continuous_df, 'total_claim_amount')"
   ]
  },
  {
   "cell_type": "code",
   "execution_count": 47,
   "id": "7dee9a85",
   "metadata": {
    "scrolled": true
   },
   "outputs": [
    {
     "data": {
      "text/plain": [
       "0.0"
      ]
     },
     "execution_count": 47,
     "metadata": {},
     "output_type": "execute_result"
    }
   ],
   "source": [
    "column = continuous_df.income\n",
    "np.percentile(column, 22)"
   ]
  },
  {
   "cell_type": "code",
   "execution_count": 48,
   "id": "79d03d68",
   "metadata": {},
   "outputs": [],
   "source": [
    "## You still have a lot of cases where the income is 0 but the total claim is also low."
   ]
  },
  {
   "cell_type": "code",
   "execution_count": 49,
   "id": "d3f4d09c",
   "metadata": {},
   "outputs": [
    {
     "data": {
      "text/plain": [
       "10037"
      ]
     },
     "execution_count": 49,
     "metadata": {},
     "output_type": "execute_result"
    }
   ],
   "source": [
    "column[column != 0].min()\n",
    "## Checking what the lowest value of income when it is not 0."
   ]
  },
  {
   "cell_type": "code",
   "execution_count": 50,
   "id": "80a89093",
   "metadata": {},
   "outputs": [],
   "source": [
    "## I am going to increse the threshold of outliers to 2 quartiles and I am going to drop those\n",
    "## And finally I am going to check the final percentage."
   ]
  },
  {
   "cell_type": "code",
   "execution_count": 51,
   "id": "49d51348",
   "metadata": {},
   "outputs": [],
   "source": [
    "column = continuous_df.total_claim_amount\n",
    "drop_index_2 = get_drop_index_iqr(column, threshold=2)"
   ]
  },
  {
   "cell_type": "code",
   "execution_count": 52,
   "id": "b70ad2ad",
   "metadata": {},
   "outputs": [],
   "source": [
    "continuous_df = continuous_df.drop(drop_index_2)"
   ]
  },
  {
   "cell_type": "code",
   "execution_count": 53,
   "id": "4d5dffa5",
   "metadata": {
    "scrolled": true
   },
   "outputs": [
    {
     "data": {
      "text/html": [
       "<div>\n",
       "<style scoped>\n",
       "    .dataframe tbody tr th:only-of-type {\n",
       "        vertical-align: middle;\n",
       "    }\n",
       "\n",
       "    .dataframe tbody tr th {\n",
       "        vertical-align: top;\n",
       "    }\n",
       "\n",
       "    .dataframe thead th {\n",
       "        text-align: right;\n",
       "    }\n",
       "</style>\n",
       "<table border=\"1\" class=\"dataframe\">\n",
       "  <thead>\n",
       "    <tr style=\"text-align: right;\">\n",
       "      <th></th>\n",
       "      <th>customer_lifetime_value</th>\n",
       "      <th>income</th>\n",
       "      <th>total_claim_amount</th>\n",
       "      <th>monthly_premium_auto</th>\n",
       "    </tr>\n",
       "  </thead>\n",
       "  <tbody>\n",
       "    <tr>\n",
       "      <th>0</th>\n",
       "      <td>7.924622</td>\n",
       "      <td>56274</td>\n",
       "      <td>384.811147</td>\n",
       "      <td>4.248495</td>\n",
       "    </tr>\n",
       "    <tr>\n",
       "      <th>2</th>\n",
       "      <td>9.464085</td>\n",
       "      <td>48767</td>\n",
       "      <td>566.472247</td>\n",
       "      <td>4.691348</td>\n",
       "    </tr>\n",
       "    <tr>\n",
       "      <th>3</th>\n",
       "      <td>8.942051</td>\n",
       "      <td>0</td>\n",
       "      <td>529.881344</td>\n",
       "      <td>4.672829</td>\n",
       "    </tr>\n",
       "    <tr>\n",
       "      <th>4</th>\n",
       "      <td>7.942608</td>\n",
       "      <td>43836</td>\n",
       "      <td>138.130879</td>\n",
       "      <td>4.304065</td>\n",
       "    </tr>\n",
       "    <tr>\n",
       "      <th>5</th>\n",
       "      <td>9.018853</td>\n",
       "      <td>62902</td>\n",
       "      <td>159.383042</td>\n",
       "      <td>4.248495</td>\n",
       "    </tr>\n",
       "  </tbody>\n",
       "</table>\n",
       "</div>"
      ],
      "text/plain": [
       "   customer_lifetime_value  income  total_claim_amount  monthly_premium_auto\n",
       "0                 7.924622   56274          384.811147              4.248495\n",
       "2                 9.464085   48767          566.472247              4.691348\n",
       "3                 8.942051       0          529.881344              4.672829\n",
       "4                 7.942608   43836          138.130879              4.304065\n",
       "5                 9.018853   62902          159.383042              4.248495"
      ]
     },
     "execution_count": 53,
     "metadata": {},
     "output_type": "execute_result"
    }
   ],
   "source": [
    "continuous_df.head()"
   ]
  },
  {
   "cell_type": "code",
   "execution_count": 54,
   "id": "c4cc0a74",
   "metadata": {
    "scrolled": false
   },
   "outputs": [
    {
     "name": "stdout",
     "output_type": "stream",
     "text": [
      "customer_lifetime_value\n",
      "\n",
      "       Counts Percentage Threshold\n",
      "Lower       0        0.0      7.07\n",
      "Higher    172       0.02    10.272\n",
      "Total     172       0.02      none\n",
      "\n",
      "\n",
      "\n",
      "income\n",
      "\n",
      "       Counts Percentage Threshold\n",
      "Lower       0        0.0  -64218.0\n",
      "Higher      0        0.0  139566.0\n",
      "Total       0        0.0      none\n",
      "\n",
      "\n",
      "\n",
      "total_claim_amount\n",
      "\n",
      "       Counts Percentage Threshold\n",
      "Lower       0        0.0    -143.6\n",
      "Higher    165      0.019   930.958\n",
      "Total     165      0.019      none\n",
      "\n",
      "\n",
      "\n",
      "monthly_premium_auto\n",
      "\n",
      "       Counts Percentage Threshold\n",
      "Lower       0        0.0      3.56\n",
      "Higher     49      0.006     5.354\n",
      "Total      49      0.006      none\n",
      "\n",
      "\n",
      "\n"
     ]
    }
   ],
   "source": [
    "for column_name in continuous_df.columns:\n",
    "    print(f'{column_name}\\n')\n",
    "    print(n_outliers(continuous_df, column_name))\n",
    "    print('\\n\\n')"
   ]
  },
  {
   "cell_type": "code",
   "execution_count": 65,
   "id": "8232de8d",
   "metadata": {},
   "outputs": [],
   "source": [
    "continuous_df.to_csv('continuous_df.csv')\n",
    "## This is an interesting case where you want to have\n",
    "## the index and then reset index using that index !!"
   ]
  },
  {
   "cell_type": "markdown",
   "id": "36fe09a1",
   "metadata": {},
   "source": [
    "##### I am happy with those results."
   ]
  },
  {
   "cell_type": "code",
   "execution_count": 55,
   "id": "71cc3c57",
   "metadata": {},
   "outputs": [
    {
     "name": "stdout",
     "output_type": "stream",
     "text": [
      "\u001b[31mwe_fn_use_c_marketing_customer_value_analysis.csv\u001b[m\u001b[m\r\n"
     ]
    }
   ],
   "source": [
    "! ls files_for_lab/"
   ]
  },
  {
   "cell_type": "code",
   "execution_count": 56,
   "id": "95c92e90",
   "metadata": {},
   "outputs": [],
   "source": [
    "customer_df = pd.read_csv('files_for_lab/we_fn_use_c_marketing_customer_value_analysis.csv')"
   ]
  },
  {
   "cell_type": "code",
   "execution_count": 57,
   "id": "1176fd77",
   "metadata": {},
   "outputs": [],
   "source": [
    "customer_df.columns = [i.lower().replace(' ','_') for i in customer_df.columns]"
   ]
  },
  {
   "cell_type": "markdown",
   "id": "255f52d2",
   "metadata": {},
   "source": [
    "###### 8. For the categorical data, check if there is some kind of text in a variable so we would need to clean it. Hint: Use the same method you used in step 7. Depending on the implementation, decide what to do with the variables you get.\n"
   ]
  },
  {
   "cell_type": "code",
   "execution_count": 58,
   "id": "c067b21a",
   "metadata": {},
   "outputs": [],
   "source": [
    "categorical = customer_df.select_dtypes(exclude=[np.number,'datetime'])\n",
    "categorical = categorical.drop(['customer','effective_to_date'], axis=1, errors='ignore')"
   ]
  },
  {
   "cell_type": "code",
   "execution_count": 59,
   "id": "6970a8be",
   "metadata": {},
   "outputs": [
    {
     "data": {
      "text/plain": [
       "state               5\n",
       "response            2\n",
       "coverage            3\n",
       "education           5\n",
       "employmentstatus    5\n",
       "gender              2\n",
       "location_code       3\n",
       "marital_status      3\n",
       "policy_type         3\n",
       "policy              9\n",
       "renew_offer_type    4\n",
       "sales_channel       4\n",
       "vehicle_class       6\n",
       "vehicle_size        3\n",
       "dtype: int64"
      ]
     },
     "execution_count": 59,
     "metadata": {},
     "output_type": "execute_result"
    }
   ],
   "source": [
    "categorical.nunique()"
   ]
  },
  {
   "cell_type": "code",
   "execution_count": 60,
   "id": "05aa6793",
   "metadata": {},
   "outputs": [
    {
     "name": "stdout",
     "output_type": "stream",
     "text": [
      "state\n",
      "\n",
      "\n",
      "California    3150\n",
      "Oregon        2601\n",
      "Arizona       1703\n",
      "Nevada         882\n",
      "Washington     798\n",
      "Name: state, dtype: int64\n",
      "\n",
      "\n",
      "\n",
      "response\n",
      "\n",
      "\n",
      "No     7826\n",
      "Yes    1308\n",
      "Name: response, dtype: int64\n",
      "\n",
      "\n",
      "\n",
      "coverage\n",
      "\n",
      "\n",
      "Basic       5568\n",
      "Extended    2742\n",
      "Premium      824\n",
      "Name: coverage, dtype: int64\n",
      "\n",
      "\n",
      "\n",
      "education\n",
      "\n",
      "\n",
      "Bachelor                2748\n",
      "College                 2681\n",
      "High School or Below    2622\n",
      "Master                   741\n",
      "Doctor                   342\n",
      "Name: education, dtype: int64\n",
      "\n",
      "\n",
      "\n",
      "employmentstatus\n",
      "\n",
      "\n",
      "Employed         5698\n",
      "Unemployed       2317\n",
      "Medical Leave     432\n",
      "Disabled          405\n",
      "Retired           282\n",
      "Name: employmentstatus, dtype: int64\n",
      "\n",
      "\n",
      "\n",
      "gender\n",
      "\n",
      "\n",
      "F    4658\n",
      "M    4476\n",
      "Name: gender, dtype: int64\n",
      "\n",
      "\n",
      "\n",
      "location_code\n",
      "\n",
      "\n",
      "Suburban    5779\n",
      "Rural       1773\n",
      "Urban       1582\n",
      "Name: location_code, dtype: int64\n",
      "\n",
      "\n",
      "\n",
      "marital_status\n",
      "\n",
      "\n",
      "Married     5298\n",
      "Single      2467\n",
      "Divorced    1369\n",
      "Name: marital_status, dtype: int64\n",
      "\n",
      "\n",
      "\n",
      "policy_type\n",
      "\n",
      "\n",
      "Personal Auto     6788\n",
      "Corporate Auto    1968\n",
      "Special Auto       378\n",
      "Name: policy_type, dtype: int64\n",
      "\n",
      "\n",
      "\n",
      "policy\n",
      "\n",
      "\n",
      "Personal L3     3426\n",
      "Personal L2     2122\n",
      "Personal L1     1240\n",
      "Corporate L3    1014\n",
      "Corporate L2     595\n",
      "Corporate L1     359\n",
      "Special L2       164\n",
      "Special L3       148\n",
      "Special L1        66\n",
      "Name: policy, dtype: int64\n",
      "\n",
      "\n",
      "\n",
      "renew_offer_type\n",
      "\n",
      "\n",
      "Offer1    3752\n",
      "Offer2    2926\n",
      "Offer3    1432\n",
      "Offer4    1024\n",
      "Name: renew_offer_type, dtype: int64\n",
      "\n",
      "\n",
      "\n",
      "sales_channel\n",
      "\n",
      "\n",
      "Agent          3477\n",
      "Branch         2567\n",
      "Call Center    1765\n",
      "Web            1325\n",
      "Name: sales_channel, dtype: int64\n",
      "\n",
      "\n",
      "\n",
      "vehicle_class\n",
      "\n",
      "\n",
      "Four-Door Car    4621\n",
      "Two-Door Car     1886\n",
      "SUV              1796\n",
      "Sports Car        484\n",
      "Luxury SUV        184\n",
      "Luxury Car        163\n",
      "Name: vehicle_class, dtype: int64\n",
      "\n",
      "\n",
      "\n",
      "vehicle_size\n",
      "\n",
      "\n",
      "Medsize    6424\n",
      "Small      1764\n",
      "Large       946\n",
      "Name: vehicle_size, dtype: int64\n",
      "\n",
      "\n",
      "\n"
     ]
    }
   ],
   "source": [
    "for column in categorical.columns:\n",
    "    print(column)\n",
    "    print('\\n')\n",
    "    print(categorical[column].value_counts())\n",
    "    print('\\n\\n')"
   ]
  },
  {
   "cell_type": "code",
   "execution_count": 61,
   "id": "a239f7f9",
   "metadata": {},
   "outputs": [],
   "source": [
    "categorical.to_csv('categorical.csv', index=False)"
   ]
  }
 ],
 "metadata": {
  "kernelspec": {
   "display_name": "Python 3",
   "language": "python",
   "name": "python3"
  },
  "language_info": {
   "codemirror_mode": {
    "name": "ipython",
    "version": 3
   },
   "file_extension": ".py",
   "mimetype": "text/x-python",
   "name": "python",
   "nbconvert_exporter": "python",
   "pygments_lexer": "ipython3",
   "version": "3.8.8"
  }
 },
 "nbformat": 4,
 "nbformat_minor": 5
}
