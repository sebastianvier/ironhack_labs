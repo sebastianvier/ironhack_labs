{
 "cells": [
  {
   "cell_type": "code",
   "execution_count": 9,
   "id": "d61615c6",
   "metadata": {},
   "outputs": [],
   "source": [
    "import pandas as pd\n",
    "import numpy as np\n",
    "import matplotlib.pyplot as plt\n",
    "%matplotlib inline\n",
    "import seaborn as sns\n",
    "\n",
    "## Sklearn modelling\n",
    "from sklearn.model_selection import train_test_split\n",
    "from sklearn.preprocessing import OneHotEncoder, StandardScaler"
   ]
  },
  {
   "cell_type": "markdown",
   "id": "19cdee56",
   "metadata": {},
   "source": [
    "1. We will start with removing outliers. So far, we have discussed different methods to remove outliers. Use the one you feel more comfortable with, define a function for that. Use the function to remove the outliers and apply it to the dataframe.\n",
    "2. Create a copy of the dataframe for the data wrangling.\n",
    "3. Normalize the continuous variables. You can use any one method you want.\n",
    "4. Encode the categorical variables\n",
    "5. The time variable can be useful. Try to transform its data into a useful one. Hint: Day week and month as integers might be useful.\n",
    "6. Since the model will only accept numerical data, check and make sure that every column is numerical, if some are not, change it using encoding."
   ]
  },
  {
   "cell_type": "code",
   "execution_count": 10,
   "id": "9a98476a",
   "metadata": {},
   "outputs": [],
   "source": [
    "## Functions"
   ]
  },
  {
   "cell_type": "code",
   "execution_count": 11,
   "id": "a79b0b55",
   "metadata": {},
   "outputs": [],
   "source": [
    "## Import Data\n",
    "path = '../lab-cleaning-categorical-data/files_for_lab/'\n",
    "file_name = 'we_fn_use_c_marketing_customer_value_analysis.csv'\n",
    "data = pd.read_csv(path+file_name)\n",
    "data.columns = [i.lower().replace(' ','_') for i in data.columns]"
   ]
  },
  {
   "cell_type": "code",
   "execution_count": 12,
   "id": "5b5f20f3",
   "metadata": {},
   "outputs": [],
   "source": [
    "y = data['total_claim_amount']\n",
    "X = data.drop(['total_claim_amount', 'customer', 'state', 'sales_channel'], axis=1)\n",
    "X.effective_to_date = pd.to_datetime(X.effective_to_date)"
   ]
  },
  {
   "cell_type": "code",
   "execution_count": 13,
   "id": "46ee5183",
   "metadata": {},
   "outputs": [],
   "source": [
    "X_train, X_test, y_train, y_test = train_test_split(X, y, test_size=0.33, random_state=42)"
   ]
  },
  {
   "cell_type": "code",
   "execution_count": 14,
   "id": "f241a6e2",
   "metadata": {},
   "outputs": [],
   "source": [
    "## Numerical selection\n",
    "numerical_train = X_train.select_dtypes(include=[np.number])\n",
    "numerical_test =  X_test.select_dtypes(include=[np.number])\n",
    "\n",
    "\n",
    "## Categorical selection\n",
    "categorical_train = X_train.select_dtypes(exclude=[np.number, 'datetime'])\n",
    "categorical_test =  X_test.select_dtypes(exclude=[np.number, 'datetime'])\n",
    "\n",
    "## Datetime selection\n",
    "datetime_train = X_train.select_dtypes(include=['datetime'])\n",
    "datetime_test =  X_test.select_dtypes(include=['datetime'])"
   ]
  },
  {
   "cell_type": "code",
   "execution_count": 15,
   "id": "c8bb5aeb",
   "metadata": {
    "scrolled": true
   },
   "outputs": [],
   "source": [
    "## This is the day\n",
    "day_train = datetime_train.applymap(lambda x: x.day).astype(int) ## It would be added to numerical\n",
    "day_test  = datetime_test.applymap(lambda x: x.day).astype(int)\n",
    "\n",
    "## This is the month\n",
    "month_train = datetime_train.applymap(lambda x: x.month).astype(str) ## It would be added to categorical.\n",
    "month_test  = datetime_test.applymap(lambda x: x.month).astype(str)\n",
    "\n",
    "## Year is always the same it doesn't add any information."
   ]
  },
  {
   "cell_type": "code",
   "execution_count": 16,
   "id": "aeab589f",
   "metadata": {},
   "outputs": [],
   "source": [
    "## concat numerical\n",
    "numerical_train = pd.concat([numerical_train, day_train], axis=1)\n",
    "numerical_test  = pd.concat([numerical_test, day_test], axis=1)\n",
    "\n",
    "## concat categorical\n",
    "categorical_train = pd.concat([categorical_train, month_train], axis=1)\n",
    "categorical_test  = pd.concat([categorical_test, month_test], axis=1)"
   ]
  },
  {
   "cell_type": "code",
   "execution_count": 17,
   "id": "9a957de7",
   "metadata": {},
   "outputs": [],
   "source": [
    "## Normalize Continuous Data\n",
    "scaler = StandardScaler().fit(numerical_train)\n",
    "numerical_train = scaler.transform(numerical_train)\n",
    "numerical_test  = scaler.transform(numerical_test)"
   ]
  },
  {
   "cell_type": "code",
   "execution_count": 18,
   "id": "432f6aa8",
   "metadata": {},
   "outputs": [],
   "source": [
    "## Encode Categorical Data\n",
    "encoder = OneHotEncoder(drop='first', handle_unknown='error').fit(categorical_train)\n",
    "categorical_train = encoder.transform(categorical_train)\n",
    "categorical_test  = encoder.transform(categorical_test)"
   ]
  },
  {
   "cell_type": "code",
   "execution_count": 19,
   "id": "bc5a06fe",
   "metadata": {},
   "outputs": [],
   "source": [
    "X_train = np.concatenate([categorical_train.todense(), numerical_train], axis=1)\n",
    "X_test  = np.concatenate([categorical_train.todense(), numerical_train], axis=1)\n",
    "\n",
    "## I need to todense() method, because it is was transformed into a sparce matrix"
   ]
  },
  {
   "cell_type": "code",
   "execution_count": 20,
   "id": "6416c93b",
   "metadata": {},
   "outputs": [
    {
     "data": {
      "text/plain": [
       "(6119, 45)"
      ]
     },
     "execution_count": 20,
     "metadata": {},
     "output_type": "execute_result"
    }
   ],
   "source": [
    "X_train.shape"
   ]
  },
  {
   "cell_type": "code",
   "execution_count": 23,
   "id": "40b9658a",
   "metadata": {},
   "outputs": [],
   "source": [
    "pd.DataFrame(X_train).to_csv('X_train.csv', index=False)\n",
    "pd.DataFrame(X_test).to_csv('X_test.csv', index=False)\n",
    "y_train.to_csv('y_train.csv', index=False)\n",
    "y_test.to_csv('y_test.csv', index=False)"
   ]
  }
 ],
 "metadata": {
  "kernelspec": {
   "display_name": "Python 3",
   "language": "python",
   "name": "python3"
  },
  "language_info": {
   "codemirror_mode": {
    "name": "ipython",
    "version": 3
   },
   "file_extension": ".py",
   "mimetype": "text/x-python",
   "name": "python",
   "nbconvert_exporter": "python",
   "pygments_lexer": "ipython3",
   "version": "3.8.8"
  }
 },
 "nbformat": 4,
 "nbformat_minor": 5
}
