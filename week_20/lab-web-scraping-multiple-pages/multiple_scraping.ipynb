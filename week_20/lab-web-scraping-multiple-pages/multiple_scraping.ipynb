{
 "cells": [
  {
   "cell_type": "code",
   "execution_count": 296,
   "id": "10b6a5e6",
   "metadata": {},
   "outputs": [],
   "source": [
    "import pandas as pd\n",
    "import numpy as np\n",
    "from bs4 import BeautifulSoup\n",
    "import requests\n",
    "import unidecode"
   ]
  },
  {
   "cell_type": "markdown",
   "id": "0a187006",
   "metadata": {},
   "source": [
    "- Retrieve an arbitrary Wikipedia page of \"Python\" and create a list of links on that page: `url ='https://en.wikipedia.org/wiki/Python'`"
   ]
  },
  {
   "cell_type": "markdown",
   "id": "48b08dc9",
   "metadata": {},
   "source": [
    "#### Python Page"
   ]
  },
  {
   "cell_type": "code",
   "execution_count": 7,
   "id": "33c9cc01",
   "metadata": {},
   "outputs": [
    {
     "data": {
      "text/plain": [
       "200"
      ]
     },
     "execution_count": 7,
     "metadata": {},
     "output_type": "execute_result"
    }
   ],
   "source": [
    "url = \"https://en.wikipedia.org/wiki/Python\"\n",
    "response = requests.get(url)\n",
    "response.status_code # 200 status code means OK!"
   ]
  },
  {
   "cell_type": "code",
   "execution_count": 9,
   "id": "88eb9b26",
   "metadata": {},
   "outputs": [],
   "source": [
    "soup = BeautifulSoup(response.content,\"html.parser\")"
   ]
  },
  {
   "cell_type": "code",
   "execution_count": 35,
   "id": "f3847d3d",
   "metadata": {},
   "outputs": [],
   "source": [
    "anchors = soup.find_all('a')\n",
    "links = [i.get('href') for i in anchors if str(i.get('href'))[:4] == 'http']"
   ]
  },
  {
   "cell_type": "code",
   "execution_count": 39,
   "id": "34692005",
   "metadata": {},
   "outputs": [
    {
     "name": "stdout",
     "output_type": "stream",
     "text": [
      "['https://en.wiktionary.org/wiki/Python', 'https://en.wiktionary.org/wiki/python', 'https://en.wikipedia.org/w/index.php?title=Special:WhatLinksHere/Python&namespace=0', 'https://en.wikipedia.org/w/index.php?title=Python&oldid=1077300299', 'https://donate.wikimedia.org/wiki/Special:FundraiserRedirector?utm_source=donate&utm_medium=sidebar&utm_campaign=C13_en.wikipedia.org&uselang=en']\n"
     ]
    }
   ],
   "source": [
    "print(links[:5]) ## df.head()"
   ]
  },
  {
   "cell_type": "markdown",
   "id": "fd1a48ec",
   "metadata": {},
   "source": [
    "- Find the number of titles that have changed in the United States Code since its last release point: `url = 'http://uscode.house.gov/download/download.shtml'`"
   ]
  },
  {
   "cell_type": "code",
   "execution_count": 40,
   "id": "73fe28cb",
   "metadata": {},
   "outputs": [
    {
     "data": {
      "text/plain": [
       "200"
      ]
     },
     "execution_count": 40,
     "metadata": {},
     "output_type": "execute_result"
    }
   ],
   "source": [
    "url = \"http://uscode.house.gov/download/download.shtml\"\n",
    "response = requests.get(url)\n",
    "response.status_code # 200 status code means OK!"
   ]
  },
  {
   "cell_type": "code",
   "execution_count": 41,
   "id": "ed270e15",
   "metadata": {},
   "outputs": [],
   "source": [
    "soup = BeautifulSoup(response.content, \"html.parser\")"
   ]
  },
  {
   "cell_type": "code",
   "execution_count": 75,
   "id": "888900c7",
   "metadata": {},
   "outputs": [
    {
     "data": {
      "text/plain": [
       "'Conservation'"
      ]
     },
     "execution_count": 75,
     "metadata": {},
     "output_type": "execute_result"
    }
   ],
   "source": [
    "name = soup.select(\"#us\\/usc\\/t16\")\n",
    "name[0].text.strip().split(\" \")[-1]"
   ]
  },
  {
   "cell_type": "markdown",
   "id": "f20e2936",
   "metadata": {},
   "source": [
    "- Create a Python list with the top ten FBI's Most Wanted names: `url = 'https://www.fbi.gov/wanted/topten'`"
   ]
  },
  {
   "cell_type": "code",
   "execution_count": 76,
   "id": "e2ee8c0b",
   "metadata": {},
   "outputs": [
    {
     "data": {
      "text/plain": [
       "200"
      ]
     },
     "execution_count": 76,
     "metadata": {},
     "output_type": "execute_result"
    }
   ],
   "source": [
    "url = \"https://www.fbi.gov/wanted/topten\"\n",
    "response = requests.get(url)\n",
    "response.status_code # 200 status code means OK!"
   ]
  },
  {
   "cell_type": "code",
   "execution_count": 77,
   "id": "7cc773ef",
   "metadata": {},
   "outputs": [],
   "source": [
    "soup = BeautifulSoup(response.content, \"html.parser\")"
   ]
  },
  {
   "cell_type": "code",
   "execution_count": 99,
   "id": "376cab68",
   "metadata": {},
   "outputs": [],
   "source": [
    "criminals = soup.select(\"#query-results-0f737222c5054a81a120bce207b0446a > ul \")\n",
    "criminals = criminals[0].find_all('li')"
   ]
  },
  {
   "cell_type": "code",
   "execution_count": 102,
   "id": "78648dd2",
   "metadata": {
    "scrolled": true
   },
   "outputs": [
    {
     "data": {
      "text/plain": [
       "['ALEXIS FLORES',\n",
       " 'JOSE RODOLFO VILLARREAL-HERNANDEZ',\n",
       " 'RAFAEL CARO-QUINTERO',\n",
       " 'YULAN ADONAY ARCHAGA CARIAS',\n",
       " 'EUGENE PALMER',\n",
       " 'BHADRESHKUMAR CHETANBHAI PATEL',\n",
       " 'ALEJANDRO ROSALES CASTILLO',\n",
       " 'ARNOLDO JIMENEZ',\n",
       " 'JASON DEREK BROWN',\n",
       " 'OCTAVIANO JUAREZ-CORRO']"
      ]
     },
     "execution_count": 102,
     "metadata": {},
     "output_type": "execute_result"
    }
   ],
   "source": [
    "[i.find_all('a')[1].text for i in criminals]"
   ]
  },
  {
   "cell_type": "markdown",
   "id": "81fc13b7",
   "metadata": {},
   "source": [
    "- Display the 20 latest earthquakes info (date, time, latitude, longitude and region name) by the EMSC as a pandas dataframe: `url = 'https://www.emsc-csem.org/Earthquake/'`"
   ]
  },
  {
   "cell_type": "code",
   "execution_count": 126,
   "id": "256d2236",
   "metadata": {},
   "outputs": [
    {
     "data": {
      "text/plain": [
       "200"
      ]
     },
     "execution_count": 126,
     "metadata": {},
     "output_type": "execute_result"
    }
   ],
   "source": [
    "url = \"https://www.emsc-csem.org/Earthquake/\"\n",
    "response = requests.get(url)\n",
    "response.status_code # 200 status code means OK!"
   ]
  },
  {
   "cell_type": "code",
   "execution_count": 127,
   "id": "e66feb9e",
   "metadata": {
    "scrolled": true
   },
   "outputs": [],
   "source": [
    "soup = BeautifulSoup(response.content, \"html.parser\")"
   ]
  },
  {
   "cell_type": "code",
   "execution_count": 217,
   "id": "b63ba485",
   "metadata": {},
   "outputs": [],
   "source": [
    "body = soup.select('#tbody')[0]\n",
    "rows = body.find_all('tr')"
   ]
  },
  {
   "cell_type": "code",
   "execution_count": 239,
   "id": "b85d725b",
   "metadata": {},
   "outputs": [],
   "source": [
    "date = []\n",
    "time = []\n",
    "latitude = []\n",
    "longitude = []\n",
    "magnitude = []\n",
    "region_name = []\n",
    "\n",
    "for row in rows[:20]:\n",
    "    row = [i.text for i in row.find_all('td')]\n",
    "\n",
    "    date.append(row[3][10:20])\n",
    "    time.append(row[3][23:33])\n",
    "    latitude.append(row[4][:-1] + \" \" + row[5][:-2])\n",
    "    longitude.append(row[6][:-1] + \" \" + row[7][:-2])\n",
    "    magnitude.append(float(row[10]))\n",
    "    region_name.append(row[11][1:])\n",
    "    \n",
    "\n",
    "earthquakes = pd.DataFrame({\"date\":date,\n",
    "                       \"time\" : time,\n",
    "                        \"latitude\": latitude,\n",
    "                        \"longitude\": longitude,\n",
    "                        \"magnitude\": magnitude,\n",
    "                        \"region_name\": region_name,\n",
    "                      })"
   ]
  },
  {
   "cell_type": "code",
   "execution_count": 241,
   "id": "4b83bb60",
   "metadata": {
    "scrolled": true
   },
   "outputs": [
    {
     "data": {
      "text/html": [
       "<div>\n",
       "<style scoped>\n",
       "    .dataframe tbody tr th:only-of-type {\n",
       "        vertical-align: middle;\n",
       "    }\n",
       "\n",
       "    .dataframe tbody tr th {\n",
       "        vertical-align: top;\n",
       "    }\n",
       "\n",
       "    .dataframe thead th {\n",
       "        text-align: right;\n",
       "    }\n",
       "</style>\n",
       "<table border=\"1\" class=\"dataframe\">\n",
       "  <thead>\n",
       "    <tr style=\"text-align: right;\">\n",
       "      <th></th>\n",
       "      <th>date</th>\n",
       "      <th>time</th>\n",
       "      <th>latitude</th>\n",
       "      <th>longitude</th>\n",
       "      <th>magnitude</th>\n",
       "      <th>region_name</th>\n",
       "    </tr>\n",
       "  </thead>\n",
       "  <tbody>\n",
       "    <tr>\n",
       "      <th>0</th>\n",
       "      <td>2022-04-25</td>\n",
       "      <td>13:20:05.0</td>\n",
       "      <td>33.82 S</td>\n",
       "      <td>71.65 W</td>\n",
       "      <td>2.9</td>\n",
       "      <td>VALPARAISO, CHILE</td>\n",
       "    </tr>\n",
       "    <tr>\n",
       "      <th>1</th>\n",
       "      <td>2022-04-25</td>\n",
       "      <td>13:07:59.0</td>\n",
       "      <td>3.83 S</td>\n",
       "      <td>127.60 E</td>\n",
       "      <td>3.7</td>\n",
       "      <td>SERAM, INDONESIA</td>\n",
       "    </tr>\n",
       "    <tr>\n",
       "      <th>2</th>\n",
       "      <td>2022-04-25</td>\n",
       "      <td>13:06:17.2</td>\n",
       "      <td>41.86 N</td>\n",
       "      <td>22.89 E</td>\n",
       "      <td>2.7</td>\n",
       "      <td>REPUBLIC OF NORTH MACEDONIA</td>\n",
       "    </tr>\n",
       "    <tr>\n",
       "      <th>3</th>\n",
       "      <td>2022-04-25</td>\n",
       "      <td>12:50:22.1</td>\n",
       "      <td>43.71 N</td>\n",
       "      <td>7.63 W</td>\n",
       "      <td>1.8</td>\n",
       "      <td>SPAIN</td>\n",
       "    </tr>\n",
       "    <tr>\n",
       "      <th>4</th>\n",
       "      <td>2022-04-25</td>\n",
       "      <td>12:36:33.0</td>\n",
       "      <td>3.18 S</td>\n",
       "      <td>140.24 E</td>\n",
       "      <td>3.3</td>\n",
       "      <td>PAPUA, INDONESIA</td>\n",
       "    </tr>\n",
       "    <tr>\n",
       "      <th>5</th>\n",
       "      <td>2022-04-25</td>\n",
       "      <td>12:35:06.2</td>\n",
       "      <td>19.23 N</td>\n",
       "      <td>155.40 W</td>\n",
       "      <td>2.1</td>\n",
       "      <td>ISLAND OF HAWAII, HAWAII</td>\n",
       "    </tr>\n",
       "    <tr>\n",
       "      <th>6</th>\n",
       "      <td>2022-04-25</td>\n",
       "      <td>12:28:39.0</td>\n",
       "      <td>20.90 S</td>\n",
       "      <td>67.81 W</td>\n",
       "      <td>2.9</td>\n",
       "      <td>POTOSI, BOLIVIA</td>\n",
       "    </tr>\n",
       "    <tr>\n",
       "      <th>7</th>\n",
       "      <td>2022-04-25</td>\n",
       "      <td>12:13:30.0</td>\n",
       "      <td>2.42 S</td>\n",
       "      <td>139.46 E</td>\n",
       "      <td>3.5</td>\n",
       "      <td>NEAR N COAST OF PAPUA, INDONESIA</td>\n",
       "    </tr>\n",
       "    <tr>\n",
       "      <th>8</th>\n",
       "      <td>2022-04-25</td>\n",
       "      <td>11:45:48.0</td>\n",
       "      <td>23.99 S</td>\n",
       "      <td>66.93 W</td>\n",
       "      <td>2.6</td>\n",
       "      <td>JUJUY, ARGENTINA</td>\n",
       "    </tr>\n",
       "    <tr>\n",
       "      <th>9</th>\n",
       "      <td>2022-04-25</td>\n",
       "      <td>11:37:23.0</td>\n",
       "      <td>18.07 N</td>\n",
       "      <td>67.15 W</td>\n",
       "      <td>2.2</td>\n",
       "      <td>PUERTO RICO</td>\n",
       "    </tr>\n",
       "    <tr>\n",
       "      <th>10</th>\n",
       "      <td>2022-04-25</td>\n",
       "      <td>11:30:47.6</td>\n",
       "      <td>35.41 N</td>\n",
       "      <td>3.74 W</td>\n",
       "      <td>2.1</td>\n",
       "      <td>STRAIT OF GIBRALTAR</td>\n",
       "    </tr>\n",
       "    <tr>\n",
       "      <th>11</th>\n",
       "      <td>2022-04-25</td>\n",
       "      <td>10:47:57.7</td>\n",
       "      <td>18.01 N</td>\n",
       "      <td>66.80 W</td>\n",
       "      <td>2.6</td>\n",
       "      <td>PUERTO RICO</td>\n",
       "    </tr>\n",
       "    <tr>\n",
       "      <th>12</th>\n",
       "      <td>2022-04-25</td>\n",
       "      <td>10:42:23.0</td>\n",
       "      <td>4.14 S</td>\n",
       "      <td>138.54 E</td>\n",
       "      <td>3.6</td>\n",
       "      <td>PAPUA, INDONESIA</td>\n",
       "    </tr>\n",
       "    <tr>\n",
       "      <th>13</th>\n",
       "      <td>2022-04-25</td>\n",
       "      <td>10:37:56.8</td>\n",
       "      <td>41.52 N</td>\n",
       "      <td>44.42 E</td>\n",
       "      <td>3.4</td>\n",
       "      <td>GEORGIA (SAK'ART'VELO)</td>\n",
       "    </tr>\n",
       "    <tr>\n",
       "      <th>14</th>\n",
       "      <td>2022-04-25</td>\n",
       "      <td>10:36:20.7</td>\n",
       "      <td>37.30 N</td>\n",
       "      <td>42.27 E</td>\n",
       "      <td>2.5</td>\n",
       "      <td>TURKEY-SYRIA-IRAQ BORDER REGION</td>\n",
       "    </tr>\n",
       "    <tr>\n",
       "      <th>15</th>\n",
       "      <td>2022-04-25</td>\n",
       "      <td>10:34:28.1</td>\n",
       "      <td>73.63 N</td>\n",
       "      <td>7.77 E</td>\n",
       "      <td>4.3</td>\n",
       "      <td>GREENLAND SEA</td>\n",
       "    </tr>\n",
       "    <tr>\n",
       "      <th>16</th>\n",
       "      <td>2022-04-25</td>\n",
       "      <td>10:32:37.1</td>\n",
       "      <td>35.44 N</td>\n",
       "      <td>3.69 W</td>\n",
       "      <td>2.4</td>\n",
       "      <td>STRAIT OF GIBRALTAR</td>\n",
       "    </tr>\n",
       "    <tr>\n",
       "      <th>17</th>\n",
       "      <td>2022-04-25</td>\n",
       "      <td>10:28:08.0</td>\n",
       "      <td>0.49 N</td>\n",
       "      <td>125.85 E</td>\n",
       "      <td>3.2</td>\n",
       "      <td>MOLUCCA SEA</td>\n",
       "    </tr>\n",
       "    <tr>\n",
       "      <th>18</th>\n",
       "      <td>2022-04-25</td>\n",
       "      <td>10:16:03.0</td>\n",
       "      <td>4.90 N</td>\n",
       "      <td>96.22 E</td>\n",
       "      <td>3.0</td>\n",
       "      <td>NORTHERN SUMATRA, INDONESIA</td>\n",
       "    </tr>\n",
       "    <tr>\n",
       "      <th>19</th>\n",
       "      <td>2022-04-25</td>\n",
       "      <td>10:13:54.4</td>\n",
       "      <td>43.05 N</td>\n",
       "      <td>18.10 E</td>\n",
       "      <td>3.0</td>\n",
       "      <td>BOSNIA AND HERZEGOVINA</td>\n",
       "    </tr>\n",
       "  </tbody>\n",
       "</table>\n",
       "</div>"
      ],
      "text/plain": [
       "          date        time latitude longitude  magnitude  \\\n",
       "0   2022-04-25  13:20:05.0  33.82 S   71.65 W        2.9   \n",
       "1   2022-04-25  13:07:59.0   3.83 S  127.60 E        3.7   \n",
       "2   2022-04-25  13:06:17.2  41.86 N   22.89 E        2.7   \n",
       "3   2022-04-25  12:50:22.1  43.71 N    7.63 W        1.8   \n",
       "4   2022-04-25  12:36:33.0   3.18 S  140.24 E        3.3   \n",
       "5   2022-04-25  12:35:06.2  19.23 N  155.40 W        2.1   \n",
       "6   2022-04-25  12:28:39.0  20.90 S   67.81 W        2.9   \n",
       "7   2022-04-25  12:13:30.0   2.42 S  139.46 E        3.5   \n",
       "8   2022-04-25  11:45:48.0  23.99 S   66.93 W        2.6   \n",
       "9   2022-04-25  11:37:23.0  18.07 N   67.15 W        2.2   \n",
       "10  2022-04-25  11:30:47.6  35.41 N    3.74 W        2.1   \n",
       "11  2022-04-25  10:47:57.7  18.01 N   66.80 W        2.6   \n",
       "12  2022-04-25  10:42:23.0   4.14 S  138.54 E        3.6   \n",
       "13  2022-04-25  10:37:56.8  41.52 N   44.42 E        3.4   \n",
       "14  2022-04-25  10:36:20.7  37.30 N   42.27 E        2.5   \n",
       "15  2022-04-25  10:34:28.1  73.63 N    7.77 E        4.3   \n",
       "16  2022-04-25  10:32:37.1  35.44 N    3.69 W        2.4   \n",
       "17  2022-04-25  10:28:08.0   0.49 N  125.85 E        3.2   \n",
       "18  2022-04-25  10:16:03.0   4.90 N   96.22 E        3.0   \n",
       "19  2022-04-25  10:13:54.4  43.05 N   18.10 E        3.0   \n",
       "\n",
       "                         region_name  \n",
       "0                  VALPARAISO, CHILE  \n",
       "1                   SERAM, INDONESIA  \n",
       "2        REPUBLIC OF NORTH MACEDONIA  \n",
       "3                              SPAIN  \n",
       "4                   PAPUA, INDONESIA  \n",
       "5           ISLAND OF HAWAII, HAWAII  \n",
       "6                    POTOSI, BOLIVIA  \n",
       "7   NEAR N COAST OF PAPUA, INDONESIA  \n",
       "8                   JUJUY, ARGENTINA  \n",
       "9                        PUERTO RICO  \n",
       "10               STRAIT OF GIBRALTAR  \n",
       "11                       PUERTO RICO  \n",
       "12                  PAPUA, INDONESIA  \n",
       "13            GEORGIA (SAK'ART'VELO)  \n",
       "14   TURKEY-SYRIA-IRAQ BORDER REGION  \n",
       "15                     GREENLAND SEA  \n",
       "16               STRAIT OF GIBRALTAR  \n",
       "17                       MOLUCCA SEA  \n",
       "18       NORTHERN SUMATRA, INDONESIA  \n",
       "19            BOSNIA AND HERZEGOVINA  "
      ]
     },
     "execution_count": 241,
     "metadata": {},
     "output_type": "execute_result"
    }
   ],
   "source": [
    "earthquakes"
   ]
  },
  {
   "cell_type": "markdown",
   "id": "4f02f6f2",
   "metadata": {},
   "source": [
    "- List all language names and number of related articles in the order they appear in [wikipedia.org](wikipedia.org): `url = 'https://www.wikipedia.org/'`"
   ]
  },
  {
   "cell_type": "code",
   "execution_count": 250,
   "id": "729eb4ad",
   "metadata": {},
   "outputs": [],
   "source": [
    "url = \"https://www.wikipedia.org/\"\n",
    "response = requests.get(url)\n",
    "response.status_code # 200 status code means OK!\n",
    "soup = BeautifulSoup(response.content, \"html.parser\")"
   ]
  },
  {
   "cell_type": "code",
   "execution_count": 273,
   "id": "bdcc3395",
   "metadata": {},
   "outputs": [],
   "source": [
    "languages = soup.select(\"#www-wikipedia-org > div.central-featured\")[0].find_all('div')"
   ]
  },
  {
   "cell_type": "code",
   "execution_count": 304,
   "id": "704408b4",
   "metadata": {},
   "outputs": [
    {
     "data": {
      "text/html": [
       "<div>\n",
       "<style scoped>\n",
       "    .dataframe tbody tr th:only-of-type {\n",
       "        vertical-align: middle;\n",
       "    }\n",
       "\n",
       "    .dataframe tbody tr th {\n",
       "        vertical-align: top;\n",
       "    }\n",
       "\n",
       "    .dataframe thead th {\n",
       "        text-align: right;\n",
       "    }\n",
       "</style>\n",
       "<table border=\"1\" class=\"dataframe\">\n",
       "  <thead>\n",
       "    <tr style=\"text-align: right;\">\n",
       "      <th></th>\n",
       "      <th>language</th>\n",
       "      <th>number_of_articles</th>\n",
       "    </tr>\n",
       "  </thead>\n",
       "  <tbody>\n",
       "    <tr>\n",
       "      <th>0</th>\n",
       "      <td>English</td>\n",
       "      <td>6458000</td>\n",
       "    </tr>\n",
       "    <tr>\n",
       "      <th>1</th>\n",
       "      <td>Русский</td>\n",
       "      <td>1798000</td>\n",
       "    </tr>\n",
       "    <tr>\n",
       "      <th>2</th>\n",
       "      <td>日本語</td>\n",
       "      <td>1314000</td>\n",
       "    </tr>\n",
       "    <tr>\n",
       "      <th>3</th>\n",
       "      <td>Deutsch</td>\n",
       "      <td>2667000</td>\n",
       "    </tr>\n",
       "    <tr>\n",
       "      <th>4</th>\n",
       "      <td>Español</td>\n",
       "      <td>1755000</td>\n",
       "    </tr>\n",
       "    <tr>\n",
       "      <th>5</th>\n",
       "      <td>Français</td>\n",
       "      <td>2400000</td>\n",
       "    </tr>\n",
       "    <tr>\n",
       "      <th>6</th>\n",
       "      <td>中文</td>\n",
       "      <td>1256000</td>\n",
       "    </tr>\n",
       "    <tr>\n",
       "      <th>7</th>\n",
       "      <td>Italiano</td>\n",
       "      <td>1742000</td>\n",
       "    </tr>\n",
       "    <tr>\n",
       "      <th>8</th>\n",
       "      <td>Português</td>\n",
       "      <td>1085000</td>\n",
       "    </tr>\n",
       "    <tr>\n",
       "      <th>9</th>\n",
       "      <td>Polski</td>\n",
       "      <td>1512000</td>\n",
       "    </tr>\n",
       "  </tbody>\n",
       "</table>\n",
       "</div>"
      ],
      "text/plain": [
       "    language  number_of_articles\n",
       "0    English             6458000\n",
       "1    Русский             1798000\n",
       "2        日本語             1314000\n",
       "3    Deutsch             2667000\n",
       "4    Español             1755000\n",
       "5   Français             2400000\n",
       "6         中文             1256000\n",
       "7   Italiano             1742000\n",
       "8  Português             1085000\n",
       "9     Polski             1512000"
      ]
     },
     "execution_count": 304,
     "metadata": {},
     "output_type": "execute_result"
    }
   ],
   "source": [
    "name = []\n",
    "numbers = [] \n",
    "\n",
    "for lang in languages:\n",
    "    name.append(lang.find('strong').text)\n",
    "    number = lang.find('small').text.split(\" \")[:-1][0][:-1]\n",
    "    number = unidecode.unidecode(number)\n",
    "    number = int(\"\".join(number.split(\" \")))\n",
    "    numbers.append(number)\n",
    "    \n",
    "pd.DataFrame({\n",
    "    \"language\": name,\n",
    "    \"number_of_articles\": numbers,\n",
    "})"
   ]
  },
  {
   "cell_type": "markdown",
   "id": "34564db6",
   "metadata": {},
   "source": [
    "- A list with the different kind of datasets available in [data.gov.uk](data.gov.uk): `url = 'https://data.gov.uk/'`"
   ]
  },
  {
   "cell_type": "code",
   "execution_count": 305,
   "id": "e2fda9a3",
   "metadata": {},
   "outputs": [],
   "source": [
    "url = \"https://data.gov.uk/\"\n",
    "response = requests.get(url)\n",
    "response.status_code # 200 status code means OK!\n",
    "soup = BeautifulSoup(response.content, \"html.parser\")"
   ]
  },
  {
   "cell_type": "code",
   "execution_count": 316,
   "id": "bedba7da",
   "metadata": {},
   "outputs": [
    {
     "data": {
      "text/plain": [
       "['Business and economy',\n",
       " 'Crime and justice',\n",
       " 'Defence',\n",
       " 'Education',\n",
       " 'Environment',\n",
       " 'Government',\n",
       " 'Government spending',\n",
       " 'Health',\n",
       " 'Mapping',\n",
       " 'Society',\n",
       " 'Towns and cities',\n",
       " 'Transport',\n",
       " 'Digital service performance',\n",
       " 'Government reference data']"
      ]
     },
     "execution_count": 316,
     "metadata": {},
     "output_type": "execute_result"
    }
   ],
   "source": [
    "[i.text for i in soup.find_all(\"h3\")]"
   ]
  },
  {
   "cell_type": "markdown",
   "id": "8b31ba49",
   "metadata": {},
   "source": [
    "- Display the top 10 languages by number of native speakers stored in a pandas dataframe: `url = 'https://en.wikipedia.org/wiki/List_of_languages_by_number_of_native_speakers'`"
   ]
  },
  {
   "cell_type": "code",
   "execution_count": 317,
   "id": "ee9353ce",
   "metadata": {},
   "outputs": [],
   "source": [
    "url = \"https://en.wikipedia.org/wiki/List_of_languages_by_number_of_native_speakers\"\n",
    "response = requests.get(url)\n",
    "response.status_code # 200 status code means OK!\n",
    "soup = BeautifulSoup(response.content, \"html.parser\")"
   ]
  },
  {
   "cell_type": "code",
   "execution_count": 326,
   "id": "ab4546f1",
   "metadata": {},
   "outputs": [],
   "source": [
    "top_10 = soup.find_all('tbody')[1].find_all('tr')[1:11]"
   ]
  },
  {
   "cell_type": "code",
   "execution_count": 340,
   "id": "e73a27ff",
   "metadata": {},
   "outputs": [
    {
     "data": {
      "text/html": [
       "<div>\n",
       "<style scoped>\n",
       "    .dataframe tbody tr th:only-of-type {\n",
       "        vertical-align: middle;\n",
       "    }\n",
       "\n",
       "    .dataframe tbody tr th {\n",
       "        vertical-align: top;\n",
       "    }\n",
       "\n",
       "    .dataframe thead th {\n",
       "        text-align: right;\n",
       "    }\n",
       "</style>\n",
       "<table border=\"1\" class=\"dataframe\">\n",
       "  <thead>\n",
       "    <tr style=\"text-align: right;\">\n",
       "      <th></th>\n",
       "      <th>language</th>\n",
       "      <th>number of speakers in millions so you can easily read it</th>\n",
       "    </tr>\n",
       "  </thead>\n",
       "  <tbody>\n",
       "    <tr>\n",
       "      <th>0</th>\n",
       "      <td>Mandarin Chinese</td>\n",
       "      <td>918</td>\n",
       "    </tr>\n",
       "    <tr>\n",
       "      <th>1</th>\n",
       "      <td>Spanish</td>\n",
       "      <td>480</td>\n",
       "    </tr>\n",
       "    <tr>\n",
       "      <th>2</th>\n",
       "      <td>English</td>\n",
       "      <td>379</td>\n",
       "    </tr>\n",
       "    <tr>\n",
       "      <th>3</th>\n",
       "      <td>Hindi (sanskritised Hindustani)[11]</td>\n",
       "      <td>341</td>\n",
       "    </tr>\n",
       "    <tr>\n",
       "      <th>4</th>\n",
       "      <td>Bengali</td>\n",
       "      <td>300</td>\n",
       "    </tr>\n",
       "    <tr>\n",
       "      <th>5</th>\n",
       "      <td>Portuguese</td>\n",
       "      <td>221</td>\n",
       "    </tr>\n",
       "    <tr>\n",
       "      <th>6</th>\n",
       "      <td>Russian</td>\n",
       "      <td>154</td>\n",
       "    </tr>\n",
       "    <tr>\n",
       "      <th>7</th>\n",
       "      <td>Japanese</td>\n",
       "      <td>128</td>\n",
       "    </tr>\n",
       "    <tr>\n",
       "      <th>8</th>\n",
       "      <td>Western Punjabi[12]</td>\n",
       "      <td>92</td>\n",
       "    </tr>\n",
       "    <tr>\n",
       "      <th>9</th>\n",
       "      <td>Marathi</td>\n",
       "      <td>83</td>\n",
       "    </tr>\n",
       "  </tbody>\n",
       "</table>\n",
       "</div>"
      ],
      "text/plain": [
       "                              language  \\\n",
       "0                     Mandarin Chinese   \n",
       "1                              Spanish   \n",
       "2                              English   \n",
       "3  Hindi (sanskritised Hindustani)[11]   \n",
       "4                              Bengali   \n",
       "5                           Portuguese   \n",
       "6                              Russian   \n",
       "7                             Japanese   \n",
       "8                  Western Punjabi[12]   \n",
       "9                              Marathi   \n",
       "\n",
       "   number of speakers in millions so you can easily read it   \n",
       "0                                                918          \n",
       "1                                                480          \n",
       "2                                                379          \n",
       "3                                                341          \n",
       "4                                                300          \n",
       "5                                                221          \n",
       "6                                                154          \n",
       "7                                                128          \n",
       "8                                                 92          \n",
       "9                                                 83          "
      ]
     },
     "execution_count": 340,
     "metadata": {},
     "output_type": "execute_result"
    }
   ],
   "source": [
    "language = []\n",
    "n_speakers = []\n",
    "\n",
    "for lang in top_10:\n",
    "    language.append(lang.find_all('td')[1].text.strip())\n",
    "    speakers = float(lang.find_all('td')[2].text.strip())\n",
    "    n_speakers.append(int(speakers))\n",
    "    \n",
    "    \n",
    "pd.DataFrame({\n",
    "    \"language\": language,\n",
    "    \"number of speakers in millions so you can easily read it \": n_speakers,\n",
    "})"
   ]
  }
 ],
 "metadata": {
  "kernelspec": {
   "display_name": "Python 3",
   "language": "python",
   "name": "python3"
  },
  "language_info": {
   "codemirror_mode": {
    "name": "ipython",
    "version": 3
   },
   "file_extension": ".py",
   "mimetype": "text/x-python",
   "name": "python",
   "nbconvert_exporter": "python",
   "pygments_lexer": "ipython3",
   "version": "3.8.8"
  }
 },
 "nbformat": 4,
 "nbformat_minor": 5
}
