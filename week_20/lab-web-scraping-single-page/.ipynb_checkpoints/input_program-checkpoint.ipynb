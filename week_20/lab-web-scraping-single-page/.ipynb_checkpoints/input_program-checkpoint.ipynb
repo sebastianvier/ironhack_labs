{
 "cells": [
  {
   "cell_type": "code",
   "execution_count": 2,
   "id": "50c65662",
   "metadata": {},
   "outputs": [],
   "source": [
    "import pandas as pd\n",
    "import numpy as np"
   ]
  },
  {
   "cell_type": "code",
   "execution_count": 3,
   "id": "8426f08f",
   "metadata": {},
   "outputs": [],
   "source": [
    "data = pd.read_csv('songs.csv')"
   ]
  },
  {
   "cell_type": "code",
   "execution_count": 4,
   "id": "3b29daf5",
   "metadata": {},
   "outputs": [],
   "source": [
    "songs = list(data.name)\n",
    "authors = list(data.author)"
   ]
  },
  {
   "cell_type": "code",
   "execution_count": 7,
   "id": "6f6ded02",
   "metadata": {},
   "outputs": [],
   "source": [
    "def recomender():     \n",
    "    def recomend_song(song): \n",
    "        def get_random_num(song_index):\n",
    "            lst = [i for i in range(-5,5) if i != 0]\n",
    "            random_num = np.random.choice(lst)\n",
    "            if song_index < 5:\n",
    "                return song_index + abs(random_num)\n",
    "            elif song_index > 95:\n",
    "                return song_index - abs(random_num)\n",
    "            else:\n",
    "                return song_index + random_num\n",
    "\n",
    "        song_index = songs.index(song) # Find index of the song\n",
    "        new_index = get_random_num(song_index)\n",
    "        new_song = songs[new_index]\n",
    "        author = authors[new_index]\n",
    "        print(f'I think you will like the song {new_song} by {author}.')\n",
    "    \n",
    "    answer = input()\n",
    "    if answer in songs:\n",
    "        recomend_song(answer)\n",
    "    elif answer not in songs:\n",
    "        print(f\"sorry I couldn't any recommendation for {answer}\")"
   ]
  },
  {
   "cell_type": "code",
   "execution_count": 8,
   "id": "05687ce3",
   "metadata": {},
   "outputs": [
    {
     "name": "stdout",
     "output_type": "stream",
     "text": [
      "sd\n",
      "sorry I couldn't any recommendation for sd\n"
     ]
    }
   ],
   "source": [
    "recomender()"
   ]
  }
 ],
 "metadata": {
  "kernelspec": {
   "display_name": "Python 3",
   "language": "python",
   "name": "python3"
  },
  "language_info": {
   "codemirror_mode": {
    "name": "ipython",
    "version": 3
   },
   "file_extension": ".py",
   "mimetype": "text/x-python",
   "name": "python",
   "nbconvert_exporter": "python",
   "pygments_lexer": "ipython3",
   "version": "3.8.8"
  }
 },
 "nbformat": 4,
 "nbformat_minor": 5
}
