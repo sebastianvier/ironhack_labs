{
 "cells": [
  {
   "cell_type": "code",
   "execution_count": 1,
   "id": "fbfbec42",
   "metadata": {},
   "outputs": [],
   "source": [
    "import pandas as pd\n",
    "import numpy as np\n",
    "from bs4 import BeautifulSoup\n",
    "import requests"
   ]
  },
  {
   "cell_type": "code",
   "execution_count": 2,
   "id": "573a60f2",
   "metadata": {},
   "outputs": [
    {
     "data": {
      "text/plain": [
       "200"
      ]
     },
     "execution_count": 2,
     "metadata": {},
     "output_type": "execute_result"
    }
   ],
   "source": [
    "url = \"https://www.billboard.com/charts/billboard-global-200/\"\n",
    "response = requests.get(url)\n",
    "response.status_code # 200 status code means OK!"
   ]
  },
  {
   "cell_type": "code",
   "execution_count": 3,
   "id": "75c3e480",
   "metadata": {},
   "outputs": [],
   "source": [
    "soup = BeautifulSoup(response.content, \"html.parser\")"
   ]
  },
  {
   "cell_type": "code",
   "execution_count": 7,
   "id": "e73c472c",
   "metadata": {},
   "outputs": [],
   "source": [
    "chart = soup.find('div', {\"class\":\"chart-results // lrv-a-wrapper lrv-u-padding-lr-00@mobile-max\"})"
   ]
  },
  {
   "cell_type": "code",
   "execution_count": 39,
   "id": "dd9ccd30",
   "metadata": {},
   "outputs": [],
   "source": [
    "position = 1\n",
    "name = entries[0].find('h3').get_text().strip()\n",
    "author = entry.find('span').get_text().strip()\n",
    "last_week = int(entry.find_all('span')[1].get_text().strip())\n",
    "peek_poss = int(entry.find_all('span')[2].get_text().strip())\n",
    "weeks = int(entry.find_all('span')[3].get_text().strip())"
   ]
  },
  {
   "cell_type": "code",
   "execution_count": 40,
   "id": "3032ded6",
   "metadata": {},
   "outputs": [
    {
     "name": "stdout",
     "output_type": "stream",
     "text": [
      "[1, 'As It Was', 'Harry Styles', 1, 1, 2]\n"
     ]
    }
   ],
   "source": [
    "print([position,name,author,last_week,peek_poss,weeks])"
   ]
  },
  {
   "cell_type": "code",
   "execution_count": 57,
   "id": "ffbe2147",
   "metadata": {},
   "outputs": [],
   "source": [
    "entries = chart.find_all('ul', {\"class\":\"lrv-a-unstyle-list lrv-u-flex lrv-u-height-100p lrv-u-flex-direction-column@mobile-max\"})\n",
    "\n",
    "\n",
    "position = []\n",
    "name = []\n",
    "author = []\n",
    "last_week = []\n",
    "peek_poss = []\n",
    "weeks = []\n",
    "\n",
    "\n",
    "num_iter = len(entries)\n",
    "i = 0\n",
    "\n",
    "for entry in entries:\n",
    "    position.append(i + 1)\n",
    "    name.append(entry.find('h3').get_text().strip())\n",
    "    spans = entry.find_all('span')\n",
    "    author.append(spans[0].get_text().strip())\n",
    "    last_week.append(spans[1].get_text().strip())\n",
    "    peek_poss.append(spans[2].get_text().strip())\n",
    "    weeks.append(spans[3].get_text().strip())\n",
    "    \n",
    "    i += 1\n",
    "\n",
    "songs = pd.DataFrame({\"position\":position,\n",
    "                       \"name\" : name,\n",
    "                      \"author\" : author,\n",
    "                      \"last_week\" : last_week,\n",
    "                      \"peek_poss\" : peek_poss,\n",
    "                      \"weeks\" : weeks,\n",
    "                      })"
   ]
  },
  {
   "cell_type": "code",
   "execution_count": 58,
   "id": "d4fc16dc",
   "metadata": {
    "scrolled": true
   },
   "outputs": [
    {
     "data": {
      "text/html": [
       "<div>\n",
       "<style scoped>\n",
       "    .dataframe tbody tr th:only-of-type {\n",
       "        vertical-align: middle;\n",
       "    }\n",
       "\n",
       "    .dataframe tbody tr th {\n",
       "        vertical-align: top;\n",
       "    }\n",
       "\n",
       "    .dataframe thead th {\n",
       "        text-align: right;\n",
       "    }\n",
       "</style>\n",
       "<table border=\"1\" class=\"dataframe\">\n",
       "  <thead>\n",
       "    <tr style=\"text-align: right;\">\n",
       "      <th></th>\n",
       "      <th>position</th>\n",
       "      <th>name</th>\n",
       "      <th>author</th>\n",
       "      <th>last_week</th>\n",
       "      <th>peek_poss</th>\n",
       "      <th>weeks</th>\n",
       "    </tr>\n",
       "  </thead>\n",
       "  <tbody>\n",
       "    <tr>\n",
       "      <th>0</th>\n",
       "      <td>1</td>\n",
       "      <td>As It Was</td>\n",
       "      <td>Harry Styles</td>\n",
       "      <td>1</td>\n",
       "      <td>1</td>\n",
       "      <td>2</td>\n",
       "    </tr>\n",
       "    <tr>\n",
       "      <th>1</th>\n",
       "      <td>2</td>\n",
       "      <td>First Class</td>\n",
       "      <td>Jack Harlow</td>\n",
       "      <td>-</td>\n",
       "      <td>2</td>\n",
       "      <td>1</td>\n",
       "    </tr>\n",
       "    <tr>\n",
       "      <th>2</th>\n",
       "      <td>3</td>\n",
       "      <td>Heat Waves</td>\n",
       "      <td>Glass Animals</td>\n",
       "      <td>2</td>\n",
       "      <td>1</td>\n",
       "      <td>67</td>\n",
       "    </tr>\n",
       "    <tr>\n",
       "      <th>3</th>\n",
       "      <td>4</td>\n",
       "      <td>Stay</td>\n",
       "      <td>The Kid LAROI &amp; Justin Bieber</td>\n",
       "      <td>3</td>\n",
       "      <td>1</td>\n",
       "      <td>40</td>\n",
       "    </tr>\n",
       "    <tr>\n",
       "      <th>4</th>\n",
       "      <td>5</td>\n",
       "      <td>Enemy</td>\n",
       "      <td>Imagine Dragons X JID</td>\n",
       "      <td>4</td>\n",
       "      <td>3</td>\n",
       "      <td>24</td>\n",
       "    </tr>\n",
       "    <tr>\n",
       "      <th>...</th>\n",
       "      <td>...</td>\n",
       "      <td>...</td>\n",
       "      <td>...</td>\n",
       "      <td>...</td>\n",
       "      <td>...</td>\n",
       "      <td>...</td>\n",
       "    </tr>\n",
       "    <tr>\n",
       "      <th>195</th>\n",
       "      <td>196</td>\n",
       "      <td>Sacrifice</td>\n",
       "      <td>The Weeknd</td>\n",
       "      <td>163</td>\n",
       "      <td>2</td>\n",
       "      <td>14</td>\n",
       "    </tr>\n",
       "    <tr>\n",
       "      <th>196</th>\n",
       "      <td>197</td>\n",
       "      <td>Down Under</td>\n",
       "      <td>Luude Featuring Colin Hay</td>\n",
       "      <td>-</td>\n",
       "      <td>105</td>\n",
       "      <td>11</td>\n",
       "    </tr>\n",
       "    <tr>\n",
       "      <th>197</th>\n",
       "      <td>198</td>\n",
       "      <td>Every Breath You Take</td>\n",
       "      <td>The Police</td>\n",
       "      <td>192</td>\n",
       "      <td>179</td>\n",
       "      <td>9</td>\n",
       "    </tr>\n",
       "    <tr>\n",
       "      <th>198</th>\n",
       "      <td>199</td>\n",
       "      <td>Cheap Thrills</td>\n",
       "      <td>Sia Featuring Sean Paul</td>\n",
       "      <td>-</td>\n",
       "      <td>170</td>\n",
       "      <td>10</td>\n",
       "    </tr>\n",
       "    <tr>\n",
       "      <th>199</th>\n",
       "      <td>200</td>\n",
       "      <td>Mujeriego</td>\n",
       "      <td>Ryan Castro</td>\n",
       "      <td>190</td>\n",
       "      <td>125</td>\n",
       "      <td>11</td>\n",
       "    </tr>\n",
       "  </tbody>\n",
       "</table>\n",
       "<p>200 rows × 6 columns</p>\n",
       "</div>"
      ],
      "text/plain": [
       "     position                   name                         author last_week  \\\n",
       "0           1              As It Was                   Harry Styles         1   \n",
       "1           2            First Class                    Jack Harlow         -   \n",
       "2           3             Heat Waves                  Glass Animals         2   \n",
       "3           4                   Stay  The Kid LAROI & Justin Bieber         3   \n",
       "4           5                  Enemy          Imagine Dragons X JID         4   \n",
       "..        ...                    ...                            ...       ...   \n",
       "195       196              Sacrifice                     The Weeknd       163   \n",
       "196       197             Down Under      Luude Featuring Colin Hay         -   \n",
       "197       198  Every Breath You Take                     The Police       192   \n",
       "198       199          Cheap Thrills        Sia Featuring Sean Paul         -   \n",
       "199       200              Mujeriego                    Ryan Castro       190   \n",
       "\n",
       "    peek_poss weeks  \n",
       "0           1     2  \n",
       "1           2     1  \n",
       "2           1    67  \n",
       "3           1    40  \n",
       "4           3    24  \n",
       "..        ...   ...  \n",
       "195         2    14  \n",
       "196       105    11  \n",
       "197       179     9  \n",
       "198       170    10  \n",
       "199       125    11  \n",
       "\n",
       "[200 rows x 6 columns]"
      ]
     },
     "execution_count": 58,
     "metadata": {},
     "output_type": "execute_result"
    }
   ],
   "source": [
    "songs"
   ]
  },
  {
   "cell_type": "code",
   "execution_count": 59,
   "id": "cb7364c5",
   "metadata": {},
   "outputs": [],
   "source": [
    "songs.to_csv('songs.csv', index=False)"
   ]
  }
 ],
 "metadata": {
  "kernelspec": {
   "display_name": "Python 3",
   "language": "python",
   "name": "python3"
  },
  "language_info": {
   "codemirror_mode": {
    "name": "ipython",
    "version": 3
   },
   "file_extension": ".py",
   "mimetype": "text/x-python",
   "name": "python",
   "nbconvert_exporter": "python",
   "pygments_lexer": "ipython3",
   "version": "3.8.8"
  }
 },
 "nbformat": 4,
 "nbformat_minor": 5
}
