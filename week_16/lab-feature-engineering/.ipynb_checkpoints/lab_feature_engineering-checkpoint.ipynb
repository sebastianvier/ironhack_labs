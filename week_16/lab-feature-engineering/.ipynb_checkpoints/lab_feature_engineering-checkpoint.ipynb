{
 "cells": [
  {
   "cell_type": "code",
   "execution_count": 52,
   "id": "553604a3",
   "metadata": {},
   "outputs": [],
   "source": [
    "import numpy as np\n",
    "import pandas as pd\n",
    "import matplotlib.pyplot as plt\n",
    "import seaborn as sns\n",
    "%matplotlib inline"
   ]
  },
  {
   "cell_type": "code",
   "execution_count": 2,
   "id": "0c0ef30a",
   "metadata": {},
   "outputs": [
    {
     "name": "stderr",
     "output_type": "stream",
     "text": [
      "/Users/sebastianvier/opt/anaconda3/lib/python3.8/site-packages/IPython/core/interactiveshell.py:3165: DtypeWarning: Columns (6) have mixed types.Specify dtype option on import or set low_memory=False.\n",
      "  has_raised = await self.run_ast_nodes(code_ast.body, cell_name,\n"
     ]
    }
   ],
   "source": [
    "path = '../../data_files/csv_files/'\n",
    "data = pd.read_csv(path + 'learningSet2.csv')"
   ]
  },
  {
   "cell_type": "code",
   "execution_count": 3,
   "id": "30f3ada3",
   "metadata": {},
   "outputs": [
    {
     "data": {
      "text/html": [
       "<div>\n",
       "<style scoped>\n",
       "    .dataframe tbody tr th:only-of-type {\n",
       "        vertical-align: middle;\n",
       "    }\n",
       "\n",
       "    .dataframe tbody tr th {\n",
       "        vertical-align: top;\n",
       "    }\n",
       "\n",
       "    .dataframe thead th {\n",
       "        text-align: right;\n",
       "    }\n",
       "</style>\n",
       "<table border=\"1\" class=\"dataframe\">\n",
       "  <thead>\n",
       "    <tr style=\"text-align: right;\">\n",
       "      <th></th>\n",
       "      <th>ODATEDW</th>\n",
       "      <th>TCODE</th>\n",
       "      <th>STATE</th>\n",
       "      <th>MAILCODE</th>\n",
       "      <th>PVASTATE</th>\n",
       "      <th>DOB</th>\n",
       "      <th>NOEXCH</th>\n",
       "      <th>RECINHSE</th>\n",
       "      <th>RECP3</th>\n",
       "      <th>RECPGVG</th>\n",
       "      <th>...</th>\n",
       "      <th>TARGET_D</th>\n",
       "      <th>HPHONE_D</th>\n",
       "      <th>RFA_2R</th>\n",
       "      <th>RFA_2F</th>\n",
       "      <th>RFA_2A</th>\n",
       "      <th>MDMAUD_R</th>\n",
       "      <th>MDMAUD_F</th>\n",
       "      <th>MDMAUD_A</th>\n",
       "      <th>CLUSTER2</th>\n",
       "      <th>GEOCODE2</th>\n",
       "    </tr>\n",
       "  </thead>\n",
       "  <tbody>\n",
       "    <tr>\n",
       "      <th>0</th>\n",
       "      <td>8901</td>\n",
       "      <td>0</td>\n",
       "      <td>IL</td>\n",
       "      <td></td>\n",
       "      <td></td>\n",
       "      <td>3712</td>\n",
       "      <td>0</td>\n",
       "      <td></td>\n",
       "      <td></td>\n",
       "      <td></td>\n",
       "      <td>...</td>\n",
       "      <td>0.0</td>\n",
       "      <td>0</td>\n",
       "      <td>L</td>\n",
       "      <td>4</td>\n",
       "      <td>E</td>\n",
       "      <td>X</td>\n",
       "      <td>X</td>\n",
       "      <td>X</td>\n",
       "      <td>39.0</td>\n",
       "      <td>C</td>\n",
       "    </tr>\n",
       "    <tr>\n",
       "      <th>1</th>\n",
       "      <td>9401</td>\n",
       "      <td>1</td>\n",
       "      <td>CA</td>\n",
       "      <td></td>\n",
       "      <td></td>\n",
       "      <td>5202</td>\n",
       "      <td>0</td>\n",
       "      <td></td>\n",
       "      <td></td>\n",
       "      <td></td>\n",
       "      <td>...</td>\n",
       "      <td>0.0</td>\n",
       "      <td>0</td>\n",
       "      <td>L</td>\n",
       "      <td>2</td>\n",
       "      <td>G</td>\n",
       "      <td>X</td>\n",
       "      <td>X</td>\n",
       "      <td>X</td>\n",
       "      <td>1.0</td>\n",
       "      <td>A</td>\n",
       "    </tr>\n",
       "    <tr>\n",
       "      <th>2</th>\n",
       "      <td>9001</td>\n",
       "      <td>1</td>\n",
       "      <td>NC</td>\n",
       "      <td></td>\n",
       "      <td></td>\n",
       "      <td>0</td>\n",
       "      <td>0</td>\n",
       "      <td></td>\n",
       "      <td></td>\n",
       "      <td></td>\n",
       "      <td>...</td>\n",
       "      <td>0.0</td>\n",
       "      <td>1</td>\n",
       "      <td>L</td>\n",
       "      <td>4</td>\n",
       "      <td>E</td>\n",
       "      <td>X</td>\n",
       "      <td>X</td>\n",
       "      <td>X</td>\n",
       "      <td>60.0</td>\n",
       "      <td>C</td>\n",
       "    </tr>\n",
       "    <tr>\n",
       "      <th>3</th>\n",
       "      <td>8701</td>\n",
       "      <td>0</td>\n",
       "      <td>CA</td>\n",
       "      <td></td>\n",
       "      <td></td>\n",
       "      <td>2801</td>\n",
       "      <td>0</td>\n",
       "      <td></td>\n",
       "      <td></td>\n",
       "      <td></td>\n",
       "      <td>...</td>\n",
       "      <td>0.0</td>\n",
       "      <td>1</td>\n",
       "      <td>L</td>\n",
       "      <td>4</td>\n",
       "      <td>E</td>\n",
       "      <td>X</td>\n",
       "      <td>X</td>\n",
       "      <td>X</td>\n",
       "      <td>41.0</td>\n",
       "      <td>C</td>\n",
       "    </tr>\n",
       "    <tr>\n",
       "      <th>4</th>\n",
       "      <td>8601</td>\n",
       "      <td>0</td>\n",
       "      <td>FL</td>\n",
       "      <td></td>\n",
       "      <td></td>\n",
       "      <td>2001</td>\n",
       "      <td>0</td>\n",
       "      <td>X</td>\n",
       "      <td>X</td>\n",
       "      <td></td>\n",
       "      <td>...</td>\n",
       "      <td>0.0</td>\n",
       "      <td>1</td>\n",
       "      <td>L</td>\n",
       "      <td>2</td>\n",
       "      <td>F</td>\n",
       "      <td>X</td>\n",
       "      <td>X</td>\n",
       "      <td>X</td>\n",
       "      <td>26.0</td>\n",
       "      <td>A</td>\n",
       "    </tr>\n",
       "  </tbody>\n",
       "</table>\n",
       "<p>5 rows × 454 columns</p>\n",
       "</div>"
      ],
      "text/plain": [
       "   ODATEDW  TCODE STATE MAILCODE PVASTATE   DOB NOEXCH RECINHSE RECP3 RECPGVG  \\\n",
       "0     8901      0    IL                    3712      0                          \n",
       "1     9401      1    CA                    5202      0                          \n",
       "2     9001      1    NC                       0      0                          \n",
       "3     8701      0    CA                    2801      0                          \n",
       "4     8601      0    FL                    2001      0        X     X           \n",
       "\n",
       "   ... TARGET_D HPHONE_D RFA_2R RFA_2F  RFA_2A MDMAUD_R MDMAUD_F MDMAUD_A  \\\n",
       "0  ...      0.0        0      L      4       E        X        X        X   \n",
       "1  ...      0.0        0      L      2       G        X        X        X   \n",
       "2  ...      0.0        1      L      4       E        X        X        X   \n",
       "3  ...      0.0        1      L      4       E        X        X        X   \n",
       "4  ...      0.0        1      L      2       F        X        X        X   \n",
       "\n",
       "  CLUSTER2 GEOCODE2  \n",
       "0     39.0        C  \n",
       "1      1.0        A  \n",
       "2     60.0        C  \n",
       "3     41.0        C  \n",
       "4     26.0        A  \n",
       "\n",
       "[5 rows x 454 columns]"
      ]
     },
     "execution_count": 3,
     "metadata": {},
     "output_type": "execute_result"
    }
   ],
   "source": [
    "data.head()"
   ]
  },
  {
   "cell_type": "code",
   "execution_count": 11,
   "id": "1379468a",
   "metadata": {},
   "outputs": [],
   "source": [
    "percentage_null_values = numerical.isna().sum() / len(numerical)\n",
    "droping_values = list(percentage_null_values[percentage_null_values > .60].index)"
   ]
  },
  {
   "cell_type": "code",
   "execution_count": 13,
   "id": "cae2648e",
   "metadata": {},
   "outputs": [],
   "source": [
    "data.drop(droping_values, axis=1, inplace=True)\n",
    "numerical = data.select_dtypes(np.number)"
   ]
  },
  {
   "cell_type": "code",
   "execution_count": 17,
   "id": "489a7255",
   "metadata": {},
   "outputs": [
    {
     "data": {
      "text/plain": [
       "WEALTH1     0.468830\n",
       "MBCRAFT     0.553955\n",
       "MBGARDEN    0.553955\n",
       "MBBOOKS     0.553955\n",
       "MBCOLECT    0.554584\n",
       "MAGFAML     0.553955\n",
       "MAGFEM      0.553955\n",
       "MAGMALE     0.553955\n",
       "PUBGARDN    0.553955\n",
       "PUBCULIN    0.553955\n",
       "PUBHLTH     0.553955\n",
       "PUBDOITY    0.553955\n",
       "PUBNEWFN    0.553955\n",
       "PUBPHOTO    0.553955\n",
       "PUBOPP      0.553955\n",
       "WEALTH2     0.459303\n",
       "ADATE_5     0.352052\n",
       "ADATE_10    0.343227\n",
       "ADATE_13    0.421530\n",
       "ADATE_17    0.289796\n",
       "ADATE_19    0.256572\n",
       "ADATE_20    0.526139\n",
       "ADATE_21    0.369052\n",
       "ADATE_22    0.268813\n",
       "ADATE_23    0.589758\n",
       "ADATE_24    0.387509\n",
       "dtype: float64"
      ]
     },
     "execution_count": 17,
     "metadata": {},
     "output_type": "execute_result"
    }
   ],
   "source": [
    "percentage_null_values = numerical.isna().sum() / len(numerical)\n",
    "percentage_null_values[percentage_null_values > .25]"
   ]
  },
  {
   "cell_type": "code",
   "execution_count": 18,
   "id": "7561be29",
   "metadata": {},
   "outputs": [],
   "source": [
    "checking_list = ['GEOCODE2', 'WEALTH1', 'ADI', 'DMA','MSA']"
   ]
  },
  {
   "cell_type": "code",
   "execution_count": 21,
   "id": "5f71c42c",
   "metadata": {},
   "outputs": [
    {
     "data": {
      "text/plain": [
       "GEOCODE2      132\n",
       "WEALTH1     44732\n",
       "ADI           132\n",
       "DMA           132\n",
       "MSA           132\n",
       "dtype: int64"
      ]
     },
     "execution_count": 21,
     "metadata": {},
     "output_type": "execute_result"
    }
   ],
   "source": [
    "data[checking_list].isnull().sum()"
   ]
  },
  {
   "cell_type": "code",
   "execution_count": 26,
   "id": "70443dcd",
   "metadata": {},
   "outputs": [],
   "source": [
    "df_checking_values = data[checking_list]"
   ]
  },
  {
   "cell_type": "code",
   "execution_count": 31,
   "id": "ac6a1b98",
   "metadata": {},
   "outputs": [
    {
     "data": {
      "text/plain": [
       "GEOCODE2        0\n",
       "WEALTH1     176.0\n",
       "ADI           0.0\n",
       "DMA           0.0\n",
       "MSA           0.0\n",
       "dtype: object"
      ]
     },
     "execution_count": 31,
     "metadata": {},
     "output_type": "execute_result"
    }
   ],
   "source": [
    "df_checking_values[df_checking_values.GEOCODE2.isna()].sum() ## I am filtering through one"
   ]
  },
  {
   "cell_type": "code",
   "execution_count": 36,
   "id": "037c2603",
   "metadata": {},
   "outputs": [],
   "source": [
    "drop_indexes = df_checking_values[df_checking_values.GEOCODE2.isna()].index"
   ]
  },
  {
   "cell_type": "code",
   "execution_count": 37,
   "id": "0dca0972",
   "metadata": {},
   "outputs": [],
   "source": [
    "data.drop(drop_indexes, inplace=True)"
   ]
  },
  {
   "cell_type": "code",
   "execution_count": 40,
   "id": "4ae3ed56",
   "metadata": {},
   "outputs": [
    {
     "data": {
      "text/html": [
       "<div>\n",
       "<style scoped>\n",
       "    .dataframe tbody tr th:only-of-type {\n",
       "        vertical-align: middle;\n",
       "    }\n",
       "\n",
       "    .dataframe tbody tr th {\n",
       "        vertical-align: top;\n",
       "    }\n",
       "\n",
       "    .dataframe thead th {\n",
       "        text-align: right;\n",
       "    }\n",
       "</style>\n",
       "<table border=\"1\" class=\"dataframe\">\n",
       "  <thead>\n",
       "    <tr style=\"text-align: right;\">\n",
       "      <th></th>\n",
       "      <th>GEOCODE2</th>\n",
       "      <th>WEALTH1</th>\n",
       "      <th>ADI</th>\n",
       "      <th>DMA</th>\n",
       "      <th>MSA</th>\n",
       "    </tr>\n",
       "  </thead>\n",
       "  <tbody>\n",
       "  </tbody>\n",
       "</table>\n",
       "</div>"
      ],
      "text/plain": [
       "Empty DataFrame\n",
       "Columns: [GEOCODE2, WEALTH1, ADI, DMA, MSA]\n",
       "Index: []"
      ]
     },
     "execution_count": 40,
     "metadata": {},
     "output_type": "execute_result"
    }
   ],
   "source": [
    "df_checking_values = data[checking_list]\n",
    "df_checking_values[df_checking_values.GEOCODE2.isna()]"
   ]
  },
  {
   "cell_type": "code",
   "execution_count": 48,
   "id": "cbc166b4",
   "metadata": {},
   "outputs": [
    {
     "data": {
      "text/plain": [
       "0.4684298908480269"
      ]
     },
     "execution_count": 48,
     "metadata": {},
     "output_type": "execute_result"
    }
   ],
   "source": [
    "data.WEALTH1.isna().sum() / len(data)"
   ]
  },
  {
   "cell_type": "code",
   "execution_count": 57,
   "id": "2a93f891",
   "metadata": {},
   "outputs": [
    {
     "data": {
      "text/plain": [
       "<seaborn.axisgrid.FacetGrid at 0x7fbba817c220>"
      ]
     },
     "execution_count": 57,
     "metadata": {},
     "output_type": "execute_result"
    },
    {
     "data": {
      "image/png": "[encoded data removed]",
      "text/plain": [
       "<Figure size 360x360 with 1 Axes>"
      ]
     },
     "metadata": {
      "needs_background": "light"
     },
     "output_type": "display_data"
    }
   ],
   "source": [
    "sns.displot(data.WEALTH1,bins=10)"
   ]
  },
  {
   "cell_type": "code",
   "execution_count": 60,
   "id": "5bd52802",
   "metadata": {},
   "outputs": [
    {
     "data": {
      "text/plain": [
       "5.345601010898752"
      ]
     },
     "execution_count": 60,
     "metadata": {},
     "output_type": "execute_result"
    }
   ],
   "source": [
    "data.WEALTH1.mean()"
   ]
  },
  {
   "cell_type": "code",
   "execution_count": 62,
   "id": "7685c80e",
   "metadata": {},
   "outputs": [],
   "source": [
    "data['WEALTH1'] = data.WEALTH1.fillna(data.WEALTH1.mean())"
   ]
  },
  {
   "cell_type": "code",
   "execution_count": 64,
   "id": "b5d7f34b",
   "metadata": {},
   "outputs": [
    {
     "data": {
      "text/plain": [
       "<seaborn.axisgrid.FacetGrid at 0x7fbbfb0bf220>"
      ]
     },
     "execution_count": 64,
     "metadata": {},
     "output_type": "execute_result"
    },
    {
     "data": {
      "image/png": "[encoded data removed]",
      "text/plain": [
       "<Figure size 360x360 with 1 Axes>"
      ]
     },
     "metadata": {
      "needs_background": "light"
     },
     "output_type": "display_data"
    }
   ],
   "source": [
    "sns.displot(data.WEALTH1,bins=10)"
   ]
  }
 ],
 "metadata": {
  "kernelspec": {
   "display_name": "Python 3",
   "language": "python",
   "name": "python3"
  },
  "language_info": {
   "codemirror_mode": {
    "name": "ipython",
    "version": 3
   },
   "file_extension": ".py",
   "mimetype": "text/x-python",
   "name": "python",
   "nbconvert_exporter": "python",
   "pygments_lexer": "ipython3",
   "version": "3.8.8"
  }
 },
 "nbformat": 4,
 "nbformat_minor": 5
}
