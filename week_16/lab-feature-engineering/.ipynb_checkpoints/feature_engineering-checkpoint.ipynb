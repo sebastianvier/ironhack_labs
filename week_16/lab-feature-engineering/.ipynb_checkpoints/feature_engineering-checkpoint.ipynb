{
 "cells": [
  {
   "cell_type": "code",
   "execution_count": 1,
   "id": "7ab5332d",
   "metadata": {},
   "outputs": [],
   "source": [
    "import numpy as np\n",
    "import pandas as pd"
   ]
  },
  {
   "cell_type": "code",
   "execution_count": 2,
   "id": "d241ff44",
   "metadata": {},
   "outputs": [
    {
     "name": "stderr",
     "output_type": "stream",
     "text": [
      "/Users/sebastianvier/opt/anaconda3/lib/python3.8/site-packages/IPython/core/interactiveshell.py:3165: DtypeWarning: Columns (8) have mixed types.Specify dtype option on import or set low_memory=False.\n",
      "  has_raised = await self.run_ast_nodes(code_ast.body, cell_name,\n"
     ]
    }
   ],
   "source": [
    "path = '../../data_files/csv_files/'\n",
    "data = pd.read_csv(path + 'learningSet.csv')"
   ]
  },
  {
   "cell_type": "code",
   "execution_count": 3,
   "id": "7e98f0b8",
   "metadata": {},
   "outputs": [],
   "source": [
    "#Check for null values in the numerical columns.\n",
    "numeric = data.select_dtypes(np.number)"
   ]
  },
  {
   "cell_type": "code",
   "execution_count": 6,
   "id": "03eac1f1",
   "metadata": {},
   "outputs": [
    {
     "data": {
      "text/plain": [
       "RDATE_3     0.997464\n",
       "RDATE_4     0.997055\n",
       "RDATE_5     0.999906\n",
       "RDATE_6     0.991867\n",
       "RDATE_7     0.906773\n",
       "RDATE_15    0.923888\n",
       "RDATE_17    0.901469\n",
       "RDATE_20    0.917327\n",
       "RDATE_21    0.900296\n",
       "RDATE_23    0.917631\n",
       "RAMNT_3     0.997464\n",
       "RAMNT_4     0.997055\n",
       "RAMNT_5     0.999906\n",
       "RAMNT_6     0.991867\n",
       "RAMNT_7     0.906773\n",
       "RAMNT_15    0.923888\n",
       "RAMNT_17    0.901469\n",
       "RAMNT_20    0.917327\n",
       "RAMNT_21    0.900296\n",
       "RAMNT_23    0.917631\n",
       "dtype: float64"
      ]
     },
     "execution_count": 6,
     "metadata": {},
     "output_type": "execute_result"
    }
   ],
   "source": [
    "null_percentage = numeric.isna().sum() / len(numeric)\n",
    "null_percentage[null_percentage>.90]"
   ]
  },
  {
   "cell_type": "code",
   "execution_count": null,
   "id": "70b87dae",
   "metadata": {},
   "outputs": [],
   "source": [
    "#Use appropriate methods to clean the columns `GEOCODE2`, `WEALTH1`, `ADI`, `DMA`,and `MSA`.\n",
    "#Use appropriate EDA technique where ever necessary."
   ]
  },
  {
   "cell_type": "code",
   "execution_count": 7,
   "id": "ba88fc26",
   "metadata": {},
   "outputs": [],
   "source": [
    "selected_columns = ['GEOCODE2', 'WEALTH1', 'ADI', 'DMA', 'MSA']"
   ]
  },
  {
   "cell_type": "code",
   "execution_count": 17,
   "id": "dafa35a2",
   "metadata": {},
   "outputs": [],
   "source": [
    "selected_df = (data[selected_columns])\n",
    "drop_rows = selected_df[selected_df['GEOCODE2'].isna()].index"
   ]
  },
  {
   "cell_type": "code",
   "execution_count": 18,
   "id": "8bd272f8",
   "metadata": {},
   "outputs": [],
   "source": [
    "data = data.drop(drop_rows)"
   ]
  },
  {
   "cell_type": "code",
   "execution_count": 19,
   "id": "cf5bada2",
   "metadata": {},
   "outputs": [],
   "source": [
    "selected_df = (data[selected_columns])\n",
    "drop_rows = selected_df[selected_df['GEOCODE2'].isna()].index"
   ]
  },
  {
   "cell_type": "code",
   "execution_count": 20,
   "id": "b7772f68",
   "metadata": {},
   "outputs": [
    {
     "data": {
      "text/plain": [
       "Int64Index([], dtype='int64')"
      ]
     },
     "execution_count": 20,
     "metadata": {},
     "output_type": "execute_result"
    }
   ],
   "source": [
    "drop_rows"
   ]
  },
  {
   "cell_type": "code",
   "execution_count": 22,
   "id": "7c69751a",
   "metadata": {},
   "outputs": [],
   "source": [
    "data['WEALTH1'] = data.WEALTH1.fillna(data.WEALTH1.mean())"
   ]
  }
 ],
 "metadata": {
  "kernelspec": {
   "display_name": "Python 3",
   "language": "python",
   "name": "python3"
  },
  "language_info": {
   "codemirror_mode": {
    "name": "ipython",
    "version": 3
   },
   "file_extension": ".py",
   "mimetype": "text/x-python",
   "name": "python",
   "nbconvert_exporter": "python",
   "pygments_lexer": "ipython3",
   "version": "3.8.8"
  }
 },
 "nbformat": 4,
 "nbformat_minor": 5
}
