{
 "cells": [
  {
   "cell_type": "markdown",
   "id": "23ed7bfb",
   "metadata": {},
   "source": [
    "In a packing plant, a machine packs cartons with jars. It is supposed that a new machine will pack faster on the average than the machine currently used. To test that hypothesis, the times it takes each machine to pack ten cartons are recorded. The results, in seconds, are shown in the tables in the file `files_for_lab/machine.txt`."
   ]
  },
  {
   "cell_type": "code",
   "execution_count": 1,
   "id": "bf4a4956",
   "metadata": {},
   "outputs": [],
   "source": [
    "import numpy as np\n",
    "import math"
   ]
  },
  {
   "cell_type": "code",
   "execution_count": 2,
   "id": "b7a6a8d4",
   "metadata": {},
   "outputs": [],
   "source": [
    "## Null hypothesis : The new machine doesn't pack faster than the old machine\n",
    "## Alternative hypothesis : The new machine does indeed pack faster that the new machine"
   ]
  },
  {
   "cell_type": "code",
   "execution_count": 5,
   "id": "278b5c1d",
   "metadata": {},
   "outputs": [],
   "source": [
    "new_machine = np.array([42.1, 41, 41.3, 41.8, 42.4\n",
    "                        ,42.8,43.2, 42.3, 41.8, 42.7,])\n",
    "\n",
    "old_machine = np.array([42.7,43.6,43.8,43.3,42.5,\n",
    "                        43.5,43.1,41.7,44,44.1,])"
   ]
  },
  {
   "cell_type": "code",
   "execution_count": 14,
   "id": "e7a033ac",
   "metadata": {},
   "outputs": [],
   "source": [
    "estimate = new_machine.mean() - old_machine.mean()\n",
    "standard_error = new_machine.std()/math.sqrt(len(new_machine))"
   ]
  },
  {
   "cell_type": "code",
   "execution_count": 24,
   "id": "08877944",
   "metadata": {
    "scrolled": true
   },
   "outputs": [
    {
     "data": {
      "text/plain": [
       "-5.316124512154944"
      ]
     },
     "execution_count": 24,
     "metadata": {},
     "output_type": "execute_result"
    }
   ],
   "source": [
    "estimate/standard_error"
   ]
  },
  {
   "cell_type": "markdown",
   "id": "c906e1c5",
   "metadata": {},
   "source": [
    "The new machine is most certainly faster than the old machine. \n",
    "With a p-value over 0.001"
   ]
  },
  {
   "cell_type": "code",
   "execution_count": 43,
   "id": "f8d2c267",
   "metadata": {},
   "outputs": [],
   "source": [
    "estimate = new_machine.mean() * 1.015 - old_machine.mean()\n",
    "standard_error = new_machine.std() * 1.015 /math.sqrt(len(new_machine))"
   ]
  },
  {
   "cell_type": "code",
   "execution_count": 44,
   "id": "ebf34397",
   "metadata": {},
   "outputs": [
    {
     "data": {
      "text/plain": [
       "-2.2002561703943515"
      ]
     },
     "execution_count": 44,
     "metadata": {},
     "output_type": "execute_result"
    }
   ],
   "source": [
    "estimate/standard_error"
   ]
  },
  {
   "cell_type": "markdown",
   "id": "cc7631cd",
   "metadata": {},
   "source": [
    "The new machine is probably about 1% and 2% faster than the old machine. \n",
    "With a p-value over 0.05"
   ]
  }
 ],
 "metadata": {
  "kernelspec": {
   "display_name": "Python 3",
   "language": "python",
   "name": "python3"
  },
  "language_info": {
   "codemirror_mode": {
    "name": "ipython",
    "version": 3
   },
   "file_extension": ".py",
   "mimetype": "text/x-python",
   "name": "python",
   "nbconvert_exporter": "python",
   "pygments_lexer": "ipython3",
   "version": "3.8.8"
  }
 },
 "nbformat": 4,
 "nbformat_minor": 5
}
