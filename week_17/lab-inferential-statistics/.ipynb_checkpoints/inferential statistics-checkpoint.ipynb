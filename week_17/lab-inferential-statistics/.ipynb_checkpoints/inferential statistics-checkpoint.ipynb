{
 "cells": [
  {
   "cell_type": "code",
   "execution_count": 2,
   "id": "21f93256",
   "metadata": {},
   "outputs": [],
   "source": [
    "import numpy as np\n",
    "import math\n",
    "import pandas"
   ]
  },
  {
   "cell_type": "markdown",
   "id": "eb9cf463",
   "metadata": {},
   "source": [
    "1. It is assumed that the mean systolic blood pressure is `μ = 120 mm Hg`. In the Honolulu Heart Study, a sample of `n = 100` people had an average systolic blood pressure of 130.1 mm Hg with a standard deviation of 21.21 mm Hg. Is the group significantly different (with respect to systolic blood pressure!) from the regular population?"
   ]
  },
  {
   "cell_type": "markdown",
   "id": "73fafda8",
   "metadata": {},
   "source": [
    "**null_hypothesis** = The group is within range of systolic blood pressure <br>\n",
    "**alternative hypothesis** = The group has a significantly different blood preasure"
   ]
  },
  {
   "cell_type": "code",
   "execution_count": 3,
   "id": "54eef3de",
   "metadata": {},
   "outputs": [],
   "source": [
    "mean1 = 130.1\n",
    "mean2 = 120\n",
    "std = 21.21\n",
    "n = 100"
   ]
  },
  {
   "cell_type": "code",
   "execution_count": 4,
   "id": "007fa4c4",
   "metadata": {},
   "outputs": [],
   "source": [
    "upper = mean1-mean2\n",
    "lower = 21.21 / math.sqrt(100)"
   ]
  },
  {
   "cell_type": "code",
   "execution_count": 6,
   "id": "6215ce74",
   "metadata": {},
   "outputs": [
    {
     "data": {
      "text/plain": [
       "4.761904761904759"
      ]
     },
     "execution_count": 6,
     "metadata": {},
     "output_type": "execute_result"
    }
   ],
   "source": [
    "upper/lower"
   ]
  },
  {
   "cell_type": "markdown",
   "id": "f62adb7d",
   "metadata": {},
   "source": [
    "##### With more than 99% of confidence the group is outside the mean systolic blood pressure"
   ]
  }
 ],
 "metadata": {
  "kernelspec": {
   "display_name": "Python 3",
   "language": "python",
   "name": "python3"
  },
  "language_info": {
   "codemirror_mode": {
    "name": "ipython",
    "version": 3
   },
   "file_extension": ".py",
   "mimetype": "text/x-python",
   "name": "python",
   "nbconvert_exporter": "python",
   "pygments_lexer": "ipython3",
   "version": "3.8.8"
  }
 },
 "nbformat": 4,
 "nbformat_minor": 5
}
